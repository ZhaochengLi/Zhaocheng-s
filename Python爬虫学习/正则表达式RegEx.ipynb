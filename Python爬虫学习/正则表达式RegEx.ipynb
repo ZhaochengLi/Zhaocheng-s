{
 "cells": [
  {
   "cell_type": "markdown",
   "metadata": {},
   "source": [
    "***本学习资料来自[莫烦PYTHON](https://morvanzhou.github.io)***"
   ]
  },
  {
   "cell_type": "markdown",
   "metadata": {},
   "source": [
    "# 正则表达式, Regular Expression, or RegEx\n",
    "> 是用来匹配字符的一种工具, 在一大串字>符中寻找你需要的内容，常被用于网络爬虫，文稿整理，数据筛选等\n",
    "\n",
    "#### 举例网络爬虫：\n",
    "\n",
    "比如我需要爬取网页中每一页的标题，而网页中的标题常常是这种形式: \n",
    "`<title>我是标题</title>`. 运用正则表达式，即便每个网页的标题各不相同，依然能用一种简单的匹配方>法，一次性选取出成千上万网页的标题信息。\n",
    "\n",
    "***notice***: 正则表达式绝对不是一天就能学会和记住的，因为表达式内容非常多，建议先学然\n",
    "后边运用边记住"
   ]
  },
  {
   "cell_type": "markdown",
   "metadata": {
    "collapsed": true
   },
   "source": [
    "### 1. 简单匹配\n",
    "正则表达式的作用就是在文字中找到特定的内容，for example，"
   ]
  },
  {
   "cell_type": "markdown",
   "metadata": {},
   "source": [
    "#### 这是一般的 matching strings："
   ]
  },
  {
   "cell_type": "code",
   "execution_count": 1,
   "metadata": {},
   "outputs": [
    {
     "name": "stdout",
     "output_type": "stream",
     "text": [
      "True\n",
      "True\n"
     ]
    }
   ],
   "source": [
    "pat1=\"cat\"\n",
    "pat2=\"dog\"\n",
    "string=\"dog runs to cat\"\n",
    "print(pat1 in string)\n",
    "print(pat2 in string)"
   ]
  },
  {
   "cell_type": "markdown",
   "metadata": {},
   "source": [
    "#### 正则表达式则不同，绝非这样简单的匹配，而能做更高级的内容；\n",
    "运用正则表达式首先要用到一个python库`re`， 然后大致重复如上操作。只是这次，如果用`re.search()`找到了结果，他会返回一个match的object；如果未找到则返回None。除了`re.search()`，我们还会降到`re`中的其他功能。"
   ]
  },
  {
   "cell_type": "code",
   "execution_count": 2,
   "metadata": {
    "collapsed": true
   },
   "outputs": [],
   "source": [
    "import re"
   ]
  },
  {
   "cell_type": "code",
   "execution_count": 7,
   "metadata": {},
   "outputs": [
    {
     "name": "stdout",
     "output_type": "stream",
     "text": [
      "<_sre.SRE_Match object; span=(13, 16), match='cat'>\n",
      "<_sre.SRE_Match object; span=(0, 3), match='dog'>\n",
      "None\n"
     ]
    }
   ],
   "source": [
    "pat1=\"cat\"\n",
    "pat2=\"dog\"\n",
    "pat3=\"hello\"\n",
    "string=\"dogs runs to cat\"\n",
    "print(re.search(pat1,string))\n",
    "print(re.search(pat2,string))\n",
    "print(re.search(pat3,string))"
   ]
  },
  {
   "cell_type": "markdown",
   "metadata": {},
   "source": [
    "这时候的内容将是正则表达式的***核心内容：即使用特殊的pattern来灵活匹配需要找的文字***"
   ]
  },
  {
   "cell_type": "markdown",
   "metadata": {},
   "source": [
    "### 2. 灵活匹配\n",
    "如果需要找到**潜在的多个可能性文字**，我们可以用`[]`将可能的字符囊括起来。比如`ab`表示我想找的字符即可能是a也可能是b。\n",
    "\n",
    "同时注意，要建立一个正则的规则，我们在pattern的前面需要加一个`r`用来表示这是正则表达式，而不是普通的字符串。for example，\n",
    "\n",
    "通过下面的形式，如果字符串中出现“run”或者“ran”， 它都能找到。"
   ]
  },
  {
   "cell_type": "code",
   "execution_count": 12,
   "metadata": {},
   "outputs": [
    {
     "name": "stdout",
     "output_type": "stream",
     "text": [
      "<_sre.SRE_Match object; span=(4, 7), match='run'>\n"
     ]
    }
   ],
   "source": [
    "#multiple pattern r[au]n: run or ran\n",
    "pat1=r\"r[au]n\"\n",
    "#注意这里如果没有r前缀，这里只是一个简单的string包括括号。\n",
    "string=\"dog runs to cat\"\n",
    "print(re.search(pat1,string))\n",
    "#而且如果同时具备ran和run，将return出最早出现的那个"
   ]
  },
  {
   "cell_type": "markdown",
   "metadata": {},
   "source": [
    "同样的，括号里面还可以是以下这些或者是这些的组合；比如`[A-Z]`表示的就是所有大写的英文字母；`[0-9a-z]`表示可以是数字也可以是任何小写字母"
   ]
  },
  {
   "cell_type": "code",
   "execution_count": 13,
   "metadata": {},
   "outputs": [
    {
     "name": "stdout",
     "output_type": "stream",
     "text": [
      "None\n",
      "<_sre.SRE_Match object; span=(4, 7), match='run'>\n",
      "None\n",
      "<_sre.SRE_Match object; span=(4, 7), match='run'>\n"
     ]
    }
   ],
   "source": [
    "print(re.search(r\"r[A-Z]n\",string))\n",
    "print(re.search(r\"r[a-z]n\",string))\n",
    "print(re.search(r\"r[0-9]n\",string))\n",
    "print(re.search(r\"r[0-9a-z]n\",string))"
   ]
  },
  {
   "cell_type": "markdown",
   "metadata": {},
   "source": [
    "### 3. 按类型匹配\n",
    "除了自定义规则，还有很多提前规定好的匹配的规则，有一些特殊的匹配类型："
   ]
  },
  {
   "cell_type": "markdown",
   "metadata": {},
   "source": [
    "***1. `\\d`***：任何数字<br/>\n",
    "***2. `\\D`***：不是数字<br/>\n",
    "***3. `\\s`***：任何whitespace，如[\\t\\n\\r\\f\\v], **注意这些都是空白字符**<br/>\n",
    "***4. `\\S`***：不是whitespace<br/>\n",
    "***5. `\\w`***：任何大小写字母，数字和“_”[a-zA-Z0-9_]<br/>\n",
    "***6. `\\W`***：不是\\w<br/>\n",
    "***7. `\\b`***：空白字符，只在某个字的开头结尾<br/>\n",
    "***8. `\\B`***：空白字符，不在某个字的开头结尾<br/>\n",
    "***9. `\\\\`***：匹配\\ <br/>\n",
    "***10. `.`***：匹配任何字符，除了\\n <br/>\n",
    "***11. `^`***：匹配开头<br/>\n",
    "***12. `$`***：匹配结尾<br/>\n",
    "***13. `?`***：前面的字符可有可无<br/>"
   ]
  },
  {
   "cell_type": "code",
   "execution_count": 62,
   "metadata": {},
   "outputs": [
    {
     "name": "stdout",
     "output_type": "stream",
     "text": [
      "<_sre.SRE_Match object; span=(4, 7), match='r4n'>\n",
      "<_sre.SRE_Match object; span=(0, 3), match='run'>\n",
      "<_sre.SRE_Match object; span=(0, 3), match='r\\nn'>\n",
      "<_sre.SRE_Match object; span=(4, 7), match='r4n'>\n",
      "<_sre.SRE_Match object; span=(4, 7), match='r_n'>\n",
      "<_sre.SRE_Match object; span=(0, 3), match='r；n'>\n",
      "<_sre.SRE_Match object; span=(4, 8), match='runs'>\n",
      "<_sre.SRE_Match object; span=(1, 6), match=' run '>\n",
      "<_sre.SRE_Match object; span=(0, 3), match='r\\\\n'>\n",
      "<_sre.SRE_Match object; span=(4, 7), match='r?n'>\n",
      "<_sre.SRE_Match object; span=(0, 3), match='run'>\n",
      "<_sre.SRE_Match object; span=(4, 7), match='r4n'>\n",
      "<_sre.SRE_Match object; span=(0, 3), match='run'>\n",
      "<_sre.SRE_Match object; span=(0, 2), match='ru'>\n",
      "<_sre.SRE_Match object; span=(0, 1), match='r'>\n"
     ]
    }
   ],
   "source": [
    "#举例\n",
    "#1. \\d\n",
    "print(re.search(r\"r\\dn\",\"run r4n\"))\n",
    "\n",
    "#2. \\D\n",
    "print(re.search(r\"r\\Dn\",\"run r4n\"))\n",
    "\n",
    "#3. \\s\n",
    "print(re.search(r\"r\\sn\",\"r\\nn r4n\"))\n",
    "\n",
    "#4. \\S\n",
    "print(re.search(r\"r\\Sn\",\"r\\nn r4n\"))\n",
    "\n",
    "#5. \\w\n",
    "print(re.search(r\"r\\wn\",\"r\\nn r_n\"))\n",
    "\n",
    "#6. \\W\n",
    "print(re.search(r\"r\\Wn\",\"r；n r4n\"))\n",
    "\n",
    "#7. \\b\n",
    "print(re.search(r\"\\bruns\\b\",string))\n",
    "\n",
    "#8. \\B\n",
    "print(re.search(r\"\\B run \\B\",\"  run  r4n\"))\n",
    "\n",
    "#9. \\\\\n",
    "print(re.search(r\"r\\\\n\",\"r\\\\n r4n\"))\n",
    "\n",
    "#10. .\n",
    "print(re.search(r\"r.n\",\"r\\nn r?n\"))\n",
    "\n",
    "#11. ^\n",
    "print(re.search(r\"^run\",\"run r4n\"))\n",
    "\n",
    "#12. $\n",
    "print(re.search(r\"r.n$\",\"run r4n\"))\n",
    "\n",
    "#13. ?\n",
    "print(re.search(r\"(ru)?n\",\"run r4n\"))\n",
    "print(re.search(r\"r(u)?\",\"run r4n\"))\n",
    "print(re.search(r\"r(4n)?\",\"run r4n\"))"
   ]
  },
  {
   "cell_type": "markdown",
   "metadata": {},
   "source": [
    "#### 如果一个字符串有很多行，我们想使用`^`形式来匹配行开头的字符，那么用通常的形式是行不通的。for example"
   ]
  },
  {
   "cell_type": "code",
   "execution_count": 67,
   "metadata": {},
   "outputs": [],
   "source": [
    "string=\"\"\"\n",
    "dog runs to cat.\n",
    "I run to dog\n",
    "\"\"\"\n",
    "#用一对引号无法囊括多行"
   ]
  },
  {
   "cell_type": "markdown",
   "metadata": {},
   "source": [
    "比如这个，上面的\"I\"出现在第二行开头，但是使用r\"^I\"却匹配不到第二行，这时候，我们要使用另一个参数，让`re.search()`可以对每一行单独处理，这个参数就是`flags=re.M` 或者 `flags=re.MULTILINE`"
   ]
  },
  {
   "cell_type": "code",
   "execution_count": 71,
   "metadata": {},
   "outputs": [
    {
     "name": "stdout",
     "output_type": "stream",
     "text": [
      "None\n",
      "<_sre.SRE_Match object; span=(18, 19), match='I'>\n",
      "<_sre.SRE_Match object; span=(18, 19), match='I'>\n"
     ]
    }
   ],
   "source": [
    "print(re.search(r\"^I\",string))\n",
    "print(re.search(r\"^I\",string,flags=re.M))\n",
    "print(re.search(r\"^I\",string,flags=re.MULTILINE))"
   ]
  },
  {
   "cell_type": "code",
   "execution_count": null,
   "metadata": {
    "collapsed": true
   },
   "outputs": [],
   "source": []
  }
 ],
 "metadata": {
  "kernelspec": {
   "display_name": "Python 3",
   "language": "python",
   "name": "python3"
  },
  "language_info": {
   "codemirror_mode": {
    "name": "ipython",
    "version": 3
   },
   "file_extension": ".py",
   "mimetype": "text/x-python",
   "name": "python",
   "nbconvert_exporter": "python",
   "pygments_lexer": "ipython3",
   "version": "3.6.1"
  }
 },
 "nbformat": 4,
 "nbformat_minor": 2
}
