{
 "cells": [
  {
   "cell_type": "markdown",
   "metadata": {},
   "source": [
    "### Overview"
   ]
  },
  {
   "cell_type": "markdown",
   "metadata": {},
   "source": [
    "#### Database (DB)\n",
    "A collection of information that exists over a long period of time.\n",
    "\n",
    "#### Database Management System (DBMS)\n",
    "A complex software for handling large data efficiently and safely.\n",
    "- It allows users to create databases, query and modify."
   ]
  },
  {
   "cell_type": "markdown",
   "metadata": {},
   "source": [
    "#### Relational databases\n",
    "A database system should present the user with a view of data recognized as *tables* (also called *relations*)"
   ]
  },
  {
   "cell_type": "markdown",
   "metadata": {},
   "source": [
    "### Section 01 - Entity-Relationship Model\n",
    "We first need to learn how to design a database. We need to understand,\n",
    "- the *Information* we'd like to include, and\n",
    "- the *Relationships* among the components of the information.\n",
    "\n",
    "We use E/R Model to accomplish this.\n",
    "\n",
    "Ideas ---> E/R Design ---> Relational Scheme ---> Relational DBMS\n"
   ]
  },
  {
   "cell_type": "markdown",
   "metadata": {},
   "source": [
    "#### Elements of the E/R model\n",
    "- Entity sets, eg., Movies;\n",
    "- Attributes; eg. Title, Directer;\n",
    "- Relationship; eg., star-in"
   ]
  },
  {
   "cell_type": "markdown",
   "metadata": {},
   "source": [
    "#### Key Attributes\n",
    "- for an antity set, a *key* is a set of attributes such that no two entities are the same on all the attributes of the key."
   ]
  },
  {
   "cell_type": "markdown",
   "metadata": {},
   "source": [
    "#### Properties:\n",
    "- An entity should satisfy at least one of the following conditions,\n",
    "    1. It has at least one nonkey attribute, or\n",
    "    2. It is the \"many\" in many-one or many-many relationship\n"
   ]
  },
  {
   "cell_type": "markdown",
   "metadata": {},
   "source": [
    "#### Subclasses and Inheritance in the E/R Model\n",
    "- Sometimes a class/entity contains certains objects/entities that have special properties not associated with all members of the class.\n",
    "- For example, Movies as parent, while Cartoons and Mysteries as its children, linking the parent by a special 1-1 relationship called \"isa\".\n",
    "- In the movie case, a movie which is both a cartoon and a mysteries can be shown in all three entities and possess all their attributes and relationships to the other else entities.\n"
   ]
  },
  {
   "cell_type": "markdown",
   "metadata": {},
   "source": [
    "#### Properties\n",
    "- in the *Inheritance* case, the key of root is the key for all."
   ]
  },
  {
   "cell_type": "markdown",
   "metadata": {},
   "source": [
    "#### Weak Identity\n",
    "the entity set E is said to be weak if in order to identify entities of E uniquely, we need to follow the key of the related entities from the connected entity sets.\n",
    "- For example, the football players sometimes are unable to be uniquely identified by just the names, because people can have the same name. So the *numbers* and *team name* related to the player by *plays-on* should be unique."
   ]
  },
  {
   "cell_type": "markdown",
   "metadata": {},
   "source": [
    "#### Properties\n"
   ]
  }
 ],
 "metadata": {
  "kernelspec": {
   "display_name": "Python 3",
   "language": "python",
   "name": "python3"
  },
  "language_info": {
   "codemirror_mode": {
    "name": "ipython",
    "version": 3
   },
   "file_extension": ".py",
   "mimetype": "text/x-python",
   "name": "python",
   "nbconvert_exporter": "python",
   "pygments_lexer": "ipython3",
   "version": "3.6.1"
  }
 },
 "nbformat": 4,
 "nbformat_minor": 2
}
