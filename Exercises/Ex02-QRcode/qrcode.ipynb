{
 "cells": [
  {
   "cell_type": "markdown",
   "metadata": {},
   "source": [
    "## Making a Good-looking QR-code."
   ]
  },
  {
   "cell_type": "markdown",
   "metadata": {},
   "source": [
    "Here we can apply two modules, one is `qrcode`, and the other one is `python-qrcode`."
   ]
  },
  {
   "cell_type": "markdown",
   "metadata": {},
   "source": [
    "### step 1: intro of two modules.\n",
    "\n",
    "1.`qrcode` runs on Python 3, and it can generate various versions of QR code: the normal ones; ones with B&W pics; and ones with B&W pics in motion. It prefers the second kind.\n",
    "\n",
    "2.`python-qrcode` performs not better than `qrcode` yet with its own characters. It generates vectorgraphs and it is suitable to fit in programs."
   ]
  },
  {
   "cell_type": "markdown",
   "metadata": {
    "collapsed": true
   },
   "source": [
    "### step 2: installations\n",
    "1.for `qrcode`, due to its dependence with modules `pillow`, `numpy`, and `imageio`, we need to install them first using `pip`. Following the instructions:\n",
    "\n",
    "`pip install pillow`\n",
    "\n",
    "`pip install numpy`\n",
    "\n",
    "`pip install imageio`\n",
    "\n",
    "`pip install myqr`\n",
    "\n",
    "2.for `python-qrcode` following the instruction:\n",
    "\n",
    "`pip install qrcode`"
   ]
  },
  {
   "cell_type": "markdown",
   "metadata": {},
   "source": [
    "### step 3: programming\n",
    "for more information, please reference [repo-python-qrcode](https://github.com/lincolnloop/python-qrcode) and [repo-qrcode](https://github.com/sylnsfar/qrcode)"
   ]
  },
  {
   "cell_type": "markdown",
   "metadata": {},
   "source": [
    "1.`qrcode`--making a github web QR code with github picture:"
   ]
  },
  {
   "cell_type": "code",
   "execution_count": null,
   "metadata": {
    "collapsed": true
   },
   "outputs": [],
   "source": [
    "myqr https://github.com/ZhaochengLi -p "
   ]
  }
 ],
 "metadata": {
  "kernelspec": {
   "display_name": "Python 3",
   "language": "python",
   "name": "python3"
  },
  "language_info": {
   "codemirror_mode": {
    "name": "ipython",
    "version": 3
   },
   "file_extension": ".py",
   "mimetype": "text/x-python",
   "name": "python",
   "nbconvert_exporter": "python",
   "pygments_lexer": "ipython3",
   "version": "3.6.1"
  }
 },
 "nbformat": 4,
 "nbformat_minor": 2
}
