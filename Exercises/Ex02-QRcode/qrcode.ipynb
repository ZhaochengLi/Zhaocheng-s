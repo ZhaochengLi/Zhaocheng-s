{
 "cells": [
  {
   "cell_type": "markdown",
   "metadata": {},
   "source": [
    "## Making a Good-looking QR-code."
   ]
  },
  {
   "cell_type": "markdown",
   "metadata": {},
   "source": [
    "Here we can apply two modules, one is `qrcode`, and the other one is `python-qrcode`."
   ]
  },
  {
   "cell_type": "markdown",
   "metadata": {},
   "source": [
    "### step 1: intro of two modules.\n",
    "\n",
    "1.`qrcode` runs on Python 3, and it can generate various versions of QR code: the normal ones; ones with B&W pics; and ones with B&W pics in motion. It prefers the second kind.\n",
    "\n",
    "2.`python-qrcode` performs not better than `qrcode` yet with its own characters. It generates vectorgraphs and it is suitable to fit in programs."
   ]
  },
  {
   "cell_type": "markdown",
   "metadata": {
    "collapsed": true
   },
   "source": [
    "### step 2: installations\n",
    "1.for `qrcode`, due to its dependence with modules `pillow`, `numpy`, and `imageio`, we need to install them first using `pip`. Following the instructions:\n",
    "\n",
    "`pip install pillow`\n",
    "\n",
    "`pip install numpy`\n",
    "\n",
    "`pip install imageio`\n",
    "\n",
    "`pip install myqr`\n",
    "\n",
    "2.for `python-qrcode` following the instruction:\n",
    "\n",
    "`pip install qrcode`"
   ]
  },
  {
   "cell_type": "markdown",
   "metadata": {},
   "source": [
    "### step 3: programming\n",
    "for more information, please reference [repo-python-qrcode](https://github.com/lincolnloop/python-qrcode) and [repo-qrcode](https://github.com/sylnsfar/qrcode)"
   ]
  },
  {
   "cell_type": "markdown",
   "metadata": {},
   "source": [
    "1.`qrcode`--making github web QR codes: plain one and one with github picture:"
   ]
  },
  {
   "cell_type": "code",
   "execution_count": 14,
   "metadata": {
    "collapsed": true
   },
   "outputs": [],
   "source": [
    "import MyQR.myqr as mmq\n",
    "import os"
   ]
  },
  {
   "cell_type": "code",
   "execution_count": 15,
   "metadata": {},
   "outputs": [
    {
     "name": "stdout",
     "output_type": "stream",
     "text": [
      "line 16: mode: byte\n"
     ]
    },
    {
     "data": {
      "text/plain": [
       "(4,\n",
       " 'H',\n",
       " '/Users/lizhaocheng/Desktop/Zhaocheng-s/Exercises/Ex02-QRcode/qrcode.png')"
      ]
     },
     "execution_count": 15,
     "metadata": {},
     "output_type": "execute_result"
    }
   ],
   "source": [
    "#plain\n",
    "mmq.run(\"https://github.com/ZhaochengLi\")"
   ]
  },
  {
   "cell_type": "code",
   "execution_count": 17,
   "metadata": {
    "scrolled": false
   },
   "outputs": [
    {
     "ename": "SyntaxError",
     "evalue": "invalid syntax (<ipython-input-17-71b218f41e0a>, line 1)",
     "output_type": "error",
     "traceback": [
      "\u001b[0;36m  File \u001b[0;32m\"<ipython-input-17-71b218f41e0a>\"\u001b[0;36m, line \u001b[0;32m1\u001b[0m\n\u001b[0;31m    mmq.run(\"https://github.com/ZhaochengLi\",1,'H',https://github.com/ZhaochengLi/Zhaocheng-s/blob/master/source/images/github.jpg,False,1.0,1.0,None,os.getcwd())\u001b[0m\n\u001b[0m                                                        ^\u001b[0m\n\u001b[0;31mSyntaxError\u001b[0m\u001b[0;31m:\u001b[0m invalid syntax\n"
     ]
    }
   ],
   "source": [
    "mmq.run(\"https://github.com/ZhaochengLi\",1,'H',https://github.com/ZhaochengLi/Zhaocheng-s/blob/master/source/images/github.jpg,False,1.0,1.0,None,os.getcwd())"
   ]
  },
  {
   "cell_type": "code",
   "execution_count": null,
   "metadata": {
    "collapsed": true
   },
   "outputs": [],
   "source": []
  }
 ],
 "metadata": {
  "kernelspec": {
   "display_name": "Python 3",
   "language": "python",
   "name": "python3"
  },
  "language_info": {
   "codemirror_mode": {
    "name": "ipython",
    "version": 3
   },
   "file_extension": ".py",
   "mimetype": "text/x-python",
   "name": "python",
   "nbconvert_exporter": "python",
   "pygments_lexer": "ipython3",
   "version": "3.6.1"
  }
 },
 "nbformat": 4,
 "nbformat_minor": 2
}
