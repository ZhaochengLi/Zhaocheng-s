{
 "cells": [
  {
   "cell_type": "markdown",
   "metadata": {},
   "source": [
    "## Making a Good-looking QR-code."
   ]
  },
  {
   "cell_type": "markdown",
   "metadata": {},
   "source": [
    "Here we can apply two modules, one is `qrcode`, and the other one is `python-qrcode`."
   ]
  },
  {
   "cell_type": "markdown",
   "metadata": {},
   "source": [
    "### step 1: intro of two modules.\n",
    "\n",
    "1.`myqr` runs on Python 3, and it can generate various versions of QR code: the normal ones; ones with B&W pics; and ones with B&W pics in motion. It prefers the second kind.\n",
    "\n",
    "2.`qrcode` performs not better than `myqr` yet with its own characters. It generates vectorgraphs and it is suitable to fit in programs."
   ]
  },
  {
   "cell_type": "markdown",
   "metadata": {
    "collapsed": true
   },
   "source": [
    "### step 2: installations\n",
    "1.for `qrcode`, due to its dependence with modules `pillow`, `numpy`, and `imageio`, we need to install them first using `pip`. Following the instructions:\n",
    "\n",
    "`pip install pillow`\n",
    "\n",
    "`pip install numpy`\n",
    "\n",
    "`pip install imageio`\n",
    "\n",
    "`pip install myqr`\n",
    "\n",
    "2.for `python-qrcode` following the instruction:\n",
    "\n",
    "`pip install qrcode`"
   ]
  },
  {
   "cell_type": "markdown",
   "metadata": {},
   "source": [
    "### step 3: programming\n",
    "for more information, please reference [repo-python-qrcode](https://github.com/lincolnloop/python-qrcode) and [repo-qrcode](https://github.com/sylnsfar/qrcode)"
   ]
  },
  {
   "cell_type": "markdown",
   "metadata": {},
   "source": [
    "1.`myqr`--making github web QR codes: plain one and one with github picture:"
   ]
  },
  {
   "cell_type": "code",
   "execution_count": 1,
   "metadata": {
    "collapsed": true
   },
   "outputs": [],
   "source": [
    "import MyQR.myqr as mmq\n",
    "import os"
   ]
  },
  {
   "cell_type": "code",
   "execution_count": 2,
   "metadata": {},
   "outputs": [
    {
     "name": "stdout",
     "output_type": "stream",
     "text": [
      "line 16: mode: byte\n"
     ]
    },
    {
     "data": {
      "text/plain": [
       "(4,\n",
       " 'H',\n",
       " '/Users/lizhaocheng/Desktop/Zhaocheng-s/Exercises/Ex02-QRcode/qrcode.png')"
      ]
     },
     "execution_count": 2,
     "metadata": {},
     "output_type": "execute_result"
    }
   ],
   "source": [
    "#plain\n",
    "mmq.run(\"https://github.com/ZhaochengLi\")"
   ]
  },
  {
   "cell_type": "code",
   "execution_count": 3,
   "metadata": {},
   "outputs": [
    {
     "name": "stdout",
     "output_type": "stream",
     "text": [
      "line 16: mode: byte\n"
     ]
    },
    {
     "data": {
      "text/plain": [
       "(3,\n",
       " 'H',\n",
       " '/Users/lizhaocheng/Desktop/Zhaocheng-s/Exercises/Ex02-QRcode/qrcode.png')"
      ]
     },
     "execution_count": 3,
     "metadata": {},
     "output_type": "execute_result"
    }
   ],
   "source": [
    "#give texts a QR code\n",
    "mmq.run(\"Leo & Molly forever!\")"
   ]
  },
  {
   "cell_type": "code",
   "execution_count": 4,
   "metadata": {
    "scrolled": false
   },
   "outputs": [
    {
     "name": "stdout",
     "output_type": "stream",
     "text": [
      "line 16: mode: byte\n"
     ]
    },
    {
     "data": {
      "text/plain": [
       "(4,\n",
       " 'H',\n",
       " '/Users/lizhaocheng/Desktop/Zhaocheng-s/Exercises/Ex02-QRcode/github_qrcode.png')"
      ]
     },
     "execution_count": 4,
     "metadata": {},
     "output_type": "execute_result"
    }
   ],
   "source": [
    "#pic in B&W\n",
    "mmq.run(\"https://github.com/ZhaochengLi\",1,'H',\"github.jpg\",False,1.0,1.0,None,os.getcwd())"
   ]
  },
  {
   "cell_type": "code",
   "execution_count": 5,
   "metadata": {},
   "outputs": [
    {
     "name": "stdout",
     "output_type": "stream",
     "text": [
      "line 16: mode: byte\n"
     ]
    },
    {
     "data": {
      "text/plain": [
       "(4,\n",
       " 'H',\n",
       " '/Users/lizhaocheng/Desktop/Zhaocheng-s/Exercises/Ex02-QRcode/github_qrcode.png')"
      ]
     },
     "execution_count": 5,
     "metadata": {},
     "output_type": "execute_result"
    }
   ],
   "source": [
    "#pic in color\n",
    "mmq.run(\"https://github.com/ZhaochengLi\",1,'H',\"github.jpg\",True,1.0,1.0,None,os.getcwd())"
   ]
  },
  {
   "cell_type": "code",
   "execution_count": 6,
   "metadata": {},
   "outputs": [
    {
     "name": "stdout",
     "output_type": "stream",
     "text": [
      "line 16: mode: byte\n"
     ]
    },
    {
     "data": {
      "text/plain": [
       "(4,\n",
       " 'H',\n",
       " '/Users/lizhaocheng/Desktop/Zhaocheng-s/Exercises/Ex02-QRcode/cat_qrcode.gif')"
      ]
     },
     "execution_count": 6,
     "metadata": {},
     "output_type": "execute_result"
    }
   ],
   "source": [
    "#gif in motion\n",
    "mmq.run(\"https://github.com/ZhaochengLi\",1,'H',\"cat.gif\",True,1.5,1.6,None,os.getcwd())"
   ]
  },
  {
   "cell_type": "markdown",
   "metadata": {},
   "source": [
    "2.`qrcode` usage: what is good about it is that it can represent QR code in the program."
   ]
  },
  {
   "cell_type": "code",
   "execution_count": 7,
   "metadata": {
    "collapsed": true
   },
   "outputs": [],
   "source": [
    "import qrcode"
   ]
  },
  {
   "cell_type": "code",
   "execution_count": 8,
   "metadata": {},
   "outputs": [
    {
     "name": "stdout",
     "output_type": "stream",
     "text": [
      "<qrcode.image.pil.PilImage object at 0x115a00630>\n"
     ]
    }
   ],
   "source": [
    "print(qrcode.make(\"https://github.com/ZhaochengLi\"))"
   ]
  },
  {
   "cell_type": "code",
   "execution_count": null,
   "metadata": {
    "collapsed": true
   },
   "outputs": [],
   "source": []
  }
 ],
 "metadata": {
  "kernelspec": {
   "display_name": "Python 3",
   "language": "python",
   "name": "python3"
  },
  "language_info": {
   "codemirror_mode": {
    "name": "ipython",
    "version": 3
   },
   "file_extension": ".py",
   "mimetype": "text/x-python",
   "name": "python",
   "nbconvert_exporter": "python",
   "pygments_lexer": "ipython3",
   "version": "3.6.1"
  }
 },
 "nbformat": 4,
 "nbformat_minor": 2
}
