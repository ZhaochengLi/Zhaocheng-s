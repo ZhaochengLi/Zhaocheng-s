{
 "cells": [
  {
   "cell_type": "markdown",
   "metadata": {},
   "source": [
    "### Q1: What are frontend and backend of web server and of apps (App Architecture)"
   ]
  },
  {
   "cell_type": "markdown",
   "metadata": {},
   "source": [
    "***Referenced from online resources***"
   ]
  },
  {
   "cell_type": "markdown",
   "metadata": {},
   "source": [
    "Topics:\n",
    "- Frontend\n",
    "- Backend\n",
    "- Web server\n",
    "- Hoe everything works together"
   ]
  },
  {
   "cell_type": "markdown",
   "metadata": {},
   "source": [
    "![app-architecture](../../source/images/app-architecture.jpg)"
   ]
  },
  {
   "cell_type": "markdown",
   "metadata": {},
   "source": [
    "- Frontend-getting data from backend\n",
    "- Frontend is just an user interface to interactive; passing data between user-backend and displaying\n",
    "- How data collected from user transfer from Frontend to Backend: mosty thru Internet with HTTP protocol.\n",
    "- Wed server get the data and then acts upon it."
   ]
  },
  {
   "cell_type": "raw",
   "metadata": {},
   "source": []
  }
 ],
 "metadata": {
  "kernelspec": {
   "display_name": "Python 3",
   "language": "python",
   "name": "python3"
  },
  "language_info": {
   "codemirror_mode": {
    "name": "ipython",
    "version": 3
   },
   "file_extension": ".py",
   "mimetype": "text/x-python",
   "name": "python",
   "nbconvert_exporter": "python",
   "pygments_lexer": "ipython3",
   "version": "3.6.1"
  }
 },
 "nbformat": 4,
 "nbformat_minor": 2
}
