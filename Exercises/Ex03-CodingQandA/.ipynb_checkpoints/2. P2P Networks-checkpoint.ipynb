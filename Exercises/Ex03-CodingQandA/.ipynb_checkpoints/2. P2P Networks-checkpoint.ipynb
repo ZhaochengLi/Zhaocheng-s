{
 "cells": [
  {
   "cell_type": "markdown",
   "metadata": {},
   "source": [
    "### Q1: P2P network (Peer-to-peer)\n",
    "> #### DIstributed, Decentralized\n",
    "\n",
    "***NOTICE: most learning material are referenced from [Digital Citizen:P2P Q&A](https://www.digitalcitizen.life/what-is-p2p-peer-to-peer)***\n",
    "\n",
    "A peer-to-peer network is created when two for more PCs are connected and share resources without going through a separate server computer. A P2P network can be an *ad hoc* connection--a couple of computers connected via a Universal Serial Bus transfer files. A P2P network also can be a permanent infrastructure that links a half-dozen computers in a small office iver a copper wires. Or a P2P network can be a network on a much grander scale in which special protocols and applications set up direct relationships among users over the Internet.\n",
    "\n",
    "> *In a way, peer-to-peer networks are the socialist networks in the world of computing.*\n",
    "\n",
    "**Characters:**\n",
    "1. the computer networks that use **a distributed architecture**.\n",
    "2. for the information given above, it means all the computers or devices involved in it share the workloads in the network. The computers or devices that are part of it are called **peers**.\n",
    "3. each peer in P2P network is treated as equal to others. ***There are no privileged peers, THERE ARE NO CENTRAL ADMINISTRATOR DEVICE IN THE CENTER OF THE NETWORK.***, every peer, same rights, same abilities, same duties. They are both clients and server at the same time.\n",
    "4. It means, furthermore, every resource available in a P2P network is shared among the peers, without any central server being involved, things such as processor usage, disk storage space, network bandwidth, etc.\n",
    "\n",
    "> What do P2P do really?\n",
    "\n",
    "1. Share resources and help computers and devices work collaboratively.\n",
    "2. Deliver specific service or perform a particular task.\n",
    "3. Above all, it is ideal for P2P network to file-share over the Internet. Because they allow the computers connected to them to receive files and send files simultaneously.\n",
    "\n",
    "> Make a comparison between client/server network and P2P\n",
    "\n",
    "- When you open a browser, visit a website, and you download a file on this web. You position yourself as a client of the this website, which is a server in this case. Web sends file, you receive it. It is a one-way ticket.\n",
    "\n",
    "- Same event in the P2P network. **Using BitTorrent website for example, the file is downloaded in bits and parts that come form many other computers in the P2P network that already have that file. At the same time, the file is also sent(uploaded) from your computer to others which ask for it. It is like a two-way ticket. **\n",
    "\n",
    "> If you compare the mechanism of C/S network with a highway with cars(files) going straight from A to B no return; The P2P network is a highway comtaining so many small cars(file fragments) going to and from your place when you or any others requested.\n",
    "\n",
    "> Why are P2P networks useful?\n",
    "\n",
    "1. Difficult to take down; You shut down one peer, the others continue to work & communicate. You must take down all.\n",
    "2. Extremely scalable; Adding new peers are easy since you do not need to do any central configuration on a central server.\n",
    "3. Faster file-sharing, **The larger the scale of P2P network is, the faster it is. Having the same file stored on many the peers in a P2P network means that when someone needs to download it, the file is downloaded from many locations SIMULTANEOUSLY.**\n",
    "\n",
    "> A Fundamental Queation: Why do we need P2P?\n",
    "\n",
    "- Cost: Building a server for everything is very costy. Using P2P to connect devices without configuring a server is relative easy and cheap.\n",
    "- Application Examples:\n",
    "    - When you connect the Windows computers in your home to a **Homegroup**, you create a peer-to-peer network between them. The Homegroup is a small group of computers that are connected between themselves to share storage and printers. This is one of the most common uses for peer-to-peer technology. Some people might say that Homegroups can't be peer-to-peer because the computers in the network are connected to a router. However, keep in mind that the router has nothing in common with managing what the computers from the Homegroup share among themselves. **The router does not work as a server but merely as an interface or gate between the local network and the internet**.\n",
    "    - When you create **an ad-hoc network between two computers**, you create a peer-to-peer network between them.\n",
    "    - Sharing large files over the internet is often done using a P2P network architecture. For example, some online gaming platforms use P2P for downloading games between users. Blizzard Entertainment distributes Diablo III, StarCraft II and World of Warcraft using P2P. Another large publisher, Wargaming, does the same with their World of Tanks, World of Warships and World of Warplanes games. Others, like Steam or GOG, choose not to use P2P and prefer maintaining dedicated download servers around the world.\n",
    "    - Windows 10 updates are delivered both from Microsoft's servers and through P2P.\n",
    "    - **Many Linux operating systems are distributed via BitTorrent downloads that use P2P transfers**. Such examples are Ubuntu, Linux Mint, and Manjaro.\n",
    "    \n",
    "> **P2P networks are the cheapest method of distributing content because they use the bandwidth of peers, not the bandwidth of the content's creator**.\n",
    "\n",
    "> Illegal uses of peer-to-peer networks\n",
    "\n",
    "- P2P is a controversial technology because it is widely used for piracy. There are many websites on the web that offer access to copyrighted content like movies, music, software or games, through P2P networks, due to the advantages of this technology. While the technology itself is not illegal and it has many legitimate use cases that don't involve piracy, the way some people use P2P is illegal.\n",
    "\n",
    "#### Conclusion\n",
    "As you have seen in this guide, peer-to-peer is a complex technology that was born and based on a simple principle: ***decentralization***. We also know now that its purpose is honest, but its use is not always for good. Some people argue whether it should be prohibited or not because P2P remains the most important means of distributing copyrighted content unlawfully. However, should a pen be forbidden from use because the writer is bad at its craft?"
   ]
  },
  {
   "cell_type": "code",
   "execution_count": null,
   "metadata": {
    "collapsed": true
   },
   "outputs": [],
   "source": []
  }
 ],
 "metadata": {
  "kernelspec": {
   "display_name": "Python 3",
   "language": "python",
   "name": "python3"
  },
  "language_info": {
   "codemirror_mode": {
    "name": "ipython",
    "version": 3
   },
   "file_extension": ".py",
   "mimetype": "text/x-python",
   "name": "python",
   "nbconvert_exporter": "python",
   "pygments_lexer": "ipython3",
   "version": "3.6.1"
  }
 },
 "nbformat": 4,
 "nbformat_minor": 2
}
