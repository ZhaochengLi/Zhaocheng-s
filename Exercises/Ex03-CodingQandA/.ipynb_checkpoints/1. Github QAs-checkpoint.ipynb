{
 "cells": [
  {
   "cell_type": "markdown",
   "metadata": {},
   "source": [
    "### Q1: Github .gignore file"
   ]
  },
  {
   "cell_type": "markdown",
   "metadata": {},
   "source": [
    "1. A *local* .gignore file\n",
    "    - Once you create a .gignore file in youe repository. Git uses it to determine which files and directories to ignore, before you make a commit.\n",
    "\n",
    "    - A .gignore file should be committed into your repository, in order to share the ignore rules with any other users that clone the repository.\n",
    "    \n",
    "    - Refer `gignore.io` site for more information\n",
    "    - And you can create a such file by typing in the terminal\n",
    "          touch .gignore\n",
    "2. A *global* .gignore file\n",
    "    - you can also create a global *.gignore* file, which is a list of rules for ignoring files in *every* Git repository on your computer."
   ]
  },
  {
   "cell_type": "markdown",
   "metadata": {},
   "source": [
    "### Q2: Open source and closed source"
   ]
  },
  {
   "cell_type": "markdown",
   "metadata": {},
   "source": [
    "The term *open source* refers to something people can modify and share because its design is publicly accessible. The term originated in the context of software development to designate a specific approach to creating computer programs\n",
    "\n",
    "Meanwhile, the closed source (or proprietary software) means computer programs whose source code is not published. The source code is not shared with the public for anyone to look at or change. Closed source is the opposite of open source."
   ]
  },
  {
   "cell_type": "markdown",
   "metadata": {},
   "source": [
    "### Q3: Github licensing"
   ]
  },
  {
   "cell_type": "markdown",
   "metadata": {},
   "source": [
    ">Public repositories on Github are often used to share open source software. For your repository to truly be open source, you will need to license it so that others are free to use, change and distribute the software.\n",
    "\n",
    ">A software license tells others what they can and can not do with your source code, so it's important to make an informed decision.\n",
    "\n",
    ">You are under no obligations to choose a license. However, without a lisence, the default copyright laws apply, meaning that you retain all rights to your source code and no one may reproduce, distribute, or create derivative works form your work.\n",
    "\n",
    "> For the location of your license, most prople place their lisence text in a file named `LICENSE.txt` or `License.md` in the root of the repo. Some people include info about their license in their `README`. For example, there is maybe a note in it saying \"This project is licensed under the terms of the MIT license.\"\n",
    "\n",
    ">We are encouraged to include it with your project"
   ]
  },
  {
   "cell_type": "code",
   "execution_count": null,
   "metadata": {
    "collapsed": true
   },
   "outputs": [],
   "source": []
  }
 ],
 "metadata": {
  "kernelspec": {
   "display_name": "Python 3",
   "language": "python",
   "name": "python3"
  },
  "language_info": {
   "codemirror_mode": {
    "name": "ipython",
    "version": 3
   },
   "file_extension": ".py",
   "mimetype": "text/x-python",
   "name": "python",
   "nbconvert_exporter": "python",
   "pygments_lexer": "ipython3",
   "version": "3.6.1"
  }
 },
 "nbformat": 4,
 "nbformat_minor": 2
}
