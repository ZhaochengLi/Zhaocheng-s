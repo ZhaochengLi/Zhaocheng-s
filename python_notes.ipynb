{
 "cells": [
  {
   "cell_type": "markdown",
   "metadata": {},
   "source": [
    "## Python notes"
   ]
  },
  {
   "cell_type": "markdown",
   "metadata": {},
   "source": [
    "#### Editor: Zhaocheng\n",
    "#### Update: 2018-Jui-01"
   ]
  },
  {
   "cell_type": "markdown",
   "metadata": {},
   "source": [
    "***This is a lecture updating on a daily basis (hopefully) to record and refresh the skills of python programming***"
   ]
  },
  {
   "cell_type": "markdown",
   "metadata": {},
   "source": [
    "Also, along the way of editing, the skill of writing in *MARKDOWN* grows as well"
   ]
  },
  {
   "cell_type": "markdown",
   "metadata": {},
   "source": [
    "##### Q1: check out the minimum number among given numbers:"
   ]
  },
  {
   "cell_type": "markdown",
   "metadata": {},
   "source": [
    "suppose you are given (10,18,1,0.9,2)"
   ]
  },
  {
   "cell_type": "code",
   "execution_count": 2,
   "metadata": {
    "collapsed": true
   },
   "outputs": [],
   "source": [
    "list_01 = [10, 18, 1, 0.9, 2]"
   ]
  },
  {
   "cell_type": "markdown",
   "metadata": {},
   "source": [
    "use the ***min(list)***, no lib needed"
   ]
  },
  {
   "cell_type": "code",
   "execution_count": 3,
   "metadata": {
    "collapsed": true
   },
   "outputs": [],
   "source": [
    "mini = min(list_01)"
   ]
  },
  {
   "cell_type": "code",
   "execution_count": 4,
   "metadata": {},
   "outputs": [
    {
     "name": "stdout",
     "output_type": "stream",
     "text": [
      "0.9\n"
     ]
    }
   ],
   "source": [
    "print(mini)"
   ]
  },
  {
   "cell_type": "markdown",
   "metadata": {},
   "source": [
    "##### Q2: given a list X, or dictionary, we want to see if a element is in the list (or dic):"
   ]
  },
  {
   "cell_type": "code",
   "execution_count": 6,
   "metadata": {},
   "outputs": [
    {
     "name": "stdout",
     "output_type": "stream",
     "text": [
      "False\n"
     ]
    }
   ],
   "source": [
    "list_02 = [2,3,4,5,6]\n",
    "#false is NOT IN THE LIST\n",
    "print(8 in list_02)"
   ]
  },
  {
   "cell_type": "code",
   "execution_count": 7,
   "metadata": {},
   "outputs": [
    {
     "name": "stdout",
     "output_type": "stream",
     "text": [
      "True\n"
     ]
    }
   ],
   "source": [
    "#otherwise\n",
    "print(5 in list_02)"
   ]
  },
  {
   "cell_type": "code",
   "execution_count": 8,
   "metadata": {},
   "outputs": [
    {
     "name": "stdout",
     "output_type": "stream",
     "text": [
      "True\n"
     ]
    }
   ],
   "source": [
    "#remind the format of element in a dictionary: (key:value)\n",
    "dic = {1:'happy', 2:'sad', 3:'angry', 4:'innocent'}\n",
    "print(1 in dic) #the key"
   ]
  },
  {
   "cell_type": "code",
   "execution_count": 11,
   "metadata": {},
   "outputs": [
    {
     "name": "stdout",
     "output_type": "stream",
     "text": [
      "1\n",
      "happy\n",
      "False\n",
      "2\n",
      "sad\n",
      "True\n",
      "3\n",
      "angry\n",
      "False\n",
      "4\n",
      "innocent\n",
      "False\n"
     ]
    }
   ],
   "source": [
    "for i in dic:\n",
    "    print(i)\n",
    "    print(dic[i])\n",
    "    print('sad' in dic[i])"
   ]
  },
  {
   "cell_type": "markdown",
   "metadata": {},
   "source": [
    "##### Q3: get the sum of elements given the list.\n",
    "Using *sum()*"
   ]
  },
  {
   "cell_type": "code",
   "execution_count": 12,
   "metadata": {},
   "outputs": [
    {
     "name": "stdout",
     "output_type": "stream",
     "text": [
      "39\n"
     ]
    }
   ],
   "source": [
    "list_03 = [4,5,6,7,8,9]\n",
    "print(sum(list_03))"
   ]
  },
  {
   "cell_type": "code",
   "execution_count": 13,
   "metadata": {},
   "outputs": [
    {
     "name": "stdout",
     "output_type": "stream",
     "text": [
      "11.5\n"
     ]
    }
   ],
   "source": [
    "#with negative values\n",
    "list_04 = [2,3,4,5,-2,-1,0.5]\n",
    "print(sum(list_04))"
   ]
  },
  {
   "cell_type": "markdown",
   "metadata": {
    "collapsed": true
   },
   "source": [
    "##### Q4: get the index of a certain element in a list"
   ]
  },
  {
   "cell_type": "code",
   "execution_count": 2,
   "metadata": {},
   "outputs": [
    {
     "name": "stdout",
     "output_type": "stream",
     "text": [
      "0\n"
     ]
    }
   ],
   "source": [
    "list_05 = ['red', 0, 'legend', 5.6]\n",
    "print(list_05.index('red'))"
   ]
  },
  {
   "cell_type": "code",
   "execution_count": 3,
   "metadata": {},
   "outputs": [
    {
     "name": "stdout",
     "output_type": "stream",
     "text": [
      "red\n"
     ]
    }
   ],
   "source": [
    "print(list_05[list_05.index('red')])"
   ]
  },
  {
   "cell_type": "markdown",
   "metadata": {},
   "source": [
    "##### Q5: generate random samples with a desired distribution."
   ]
  },
  {
   "cell_type": "code",
   "execution_count": 4,
   "metadata": {
    "collapsed": true
   },
   "outputs": [],
   "source": [
    "import random as rand"
   ]
  },
  {
   "cell_type": "code",
   "execution_count": 18,
   "metadata": {
    "collapsed": true
   },
   "outputs": [],
   "source": [
    "club = ['spurs', 'suns', 'celtics', 'lakers', 'warriors', 'magic']\n",
    "dist = [0.5, 1/16, 2/16, 1/16, 3/16, 2/16]"
   ]
  },
  {
   "cell_type": "code",
   "execution_count": 34,
   "metadata": {},
   "outputs": [
    {
     "name": "stdout",
     "output_type": "stream",
     "text": [
      "['spurs']\n",
      "['lakers']\n",
      "['spurs']\n",
      "['suns']\n",
      "['warriors']\n",
      "['warriors']\n",
      "['spurs']\n",
      "['celtics']\n",
      "['spurs']\n",
      "['magic']\n",
      "['warriors']\n",
      "['warriors']\n",
      "['magic']\n",
      "['warriors']\n",
      "['spurs']\n",
      "['celtics']\n"
     ]
    }
   ],
   "source": [
    "for i in range(16):\n",
    "    sample = rand.choices(club, dist)\n",
    "    print(sample)"
   ]
  },
  {
   "cell_type": "markdown",
   "metadata": {},
   "source": [
    "##### Q6: expressions"
   ]
  },
  {
   "cell_type": "code",
   "execution_count": 39,
   "metadata": {},
   "outputs": [
    {
     "name": "stdout",
     "output_type": "stream",
     "text": [
      "haha, this is leo\n",
      "come'on\n",
      "h\n",
      "a\n",
      "h\n",
      "a\n",
      ",\n",
      " \n",
      "t\n",
      "h\n",
      "i\n",
      "s\n",
      " \n",
      "i\n",
      "s\n",
      " \n",
      "l\n",
      "e\n",
      "o\n",
      "\n",
      "\n",
      "c\n",
      "o\n",
      "m\n",
      "e\n",
      "'\n",
      "o\n",
      "n\n"
     ]
    }
   ],
   "source": [
    "#string\n",
    "str_01 = '''haha, this is leo\\ncome'on'''\n",
    "print(str_01)\n",
    "for i in str_01:\n",
    "    print(i)"
   ]
  },
  {
   "cell_type": "code",
   "execution_count": 45,
   "metadata": {},
   "outputs": [
    {
     "name": "stdout",
     "output_type": "stream",
     "text": [
      "['a', 'a', 'e', 'c', 'e'] ['a', 'a', 'e', 'c', 'e']\n"
     ]
    }
   ],
   "source": [
    "#list\n",
    "list_eva = ['a', 'b', 'c', 'd', 'e']\n",
    "list_a1 = list(x for x in str_01 if x in list_eva)\n",
    "#or\n",
    "list_a2 = [x for x in str_01 if x in list_eva]\n",
    "print(list_a1, list_a2)"
   ]
  },
  {
   "cell_type": "markdown",
   "metadata": {},
   "source": [
    "##### Q7: python continue statement"
   ]
  },
  {
   "cell_type": "markdown",
   "metadata": {},
   "source": [
    "*continue statement*\n",
    ">it returns the control to the beginning of the while loop. The *continue* statement rejects all the remaining statements in the current iteration of the loop and moves the control back to the top of the loop"
   ]
  },
  {
   "cell_type": "markdown",
   "metadata": {},
   "source": [
    "the FLOW DIAGRAM is given as follow:\n",
    "![image](./source/images/cpp_continue_statement.jpg)"
   ]
  },
  {
   "cell_type": "code",
   "execution_count": 1,
   "metadata": {},
   "outputs": [
    {
     "name": "stdout",
     "output_type": "stream",
     "text": [
      "S\n",
      "a\n",
      "n\n",
      " \n",
      "a\n",
      "n\n",
      "t\n",
      "o\n",
      "n\n",
      "i\n",
      "o\n",
      " \n",
      "p\n",
      "u\n",
      "r\n"
     ]
    }
   ],
   "source": [
    "#test\n",
    "str = 'San antonio spurs'\n",
    "for i in str:\n",
    "    if i == 's':\n",
    "        continue\n",
    "    print(i)"
   ]
  },
  {
   "cell_type": "code",
   "execution_count": null,
   "metadata": {
    "collapsed": true
   },
   "outputs": [],
   "source": []
  }
 ],
 "metadata": {
  "kernelspec": {
   "display_name": "Python 3",
   "language": "python",
   "name": "python3"
  },
  "language_info": {
   "codemirror_mode": {
    "name": "ipython",
    "version": 3
   },
   "file_extension": ".py",
   "mimetype": "text/x-python",
   "name": "python",
   "nbconvert_exporter": "python",
   "pygments_lexer": "ipython3",
   "version": "3.6.1"
  }
 },
 "nbformat": 4,
 "nbformat_minor": 2
}
