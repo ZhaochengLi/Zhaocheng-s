{
 "cells": [
  {
   "cell_type": "markdown",
   "metadata": {},
   "source": [
    "### THIS page is for illustrating various techniques mostly when facing data analyzing issues, or programming skills"
   ]
  },
  {
   "cell_type": "markdown",
   "metadata": {},
   "source": [
    "#### So it will be updating from time to time."
   ]
  },
  {
   "cell_type": "markdown",
   "metadata": {
    "collapsed": true
   },
   "source": [
    "#### Q1(LeTex): Inserting a .png file\n",
    "This is sometimes just a one line code, let suppose that you have a graph, formatting as **.png**, and you want it in your report edited in LaTex. You need to type:\n",
    "```latex\n",
    "...\n",
    "\\begin{document}\n",
    "...\n",
    "# this line is irrevalent to the question, it helps to center the texts after this line in the document.\n",
    "\\centering\n",
    "...\n",
    "\\includegraphics[scale=0.65]{screenshot.png}\n",
    "...\n",
    "\\end{document\n",
    "...\n",
    "```\n",
    "Simple as it is, but you still need to figure out the functionality of each compinent.\n",
    "\n",
    "First of all, the size of **yourimage.png** shown on the screen by the LaTex depends on the screen resolution. It means that for different kinds of laptop, the same code does not bring the same size of images, if without additonally specifying.\n",
    "\n",
    "The command `[scale=value]` is used to help adjusting the size of image shown on PDF file, certainly, the size of image `[scale=0.65]` is different from `[scale=0.75]`.\n"
   ]
  },
  {
   "cell_type": "markdown",
   "metadata": {},
   "source": [
    "#### Q2(R): Matrix operations\n",
    "As a very powerful computational language. The data structure `matrix` is very useful and convienient to store infomation and analyzing upon it. There are some very basic matrix operations I always use.\n",
    "```r\n",
    "# Initialize a empty matrix, a matrix called `Mat` of size 8-by-20\n",
    "Mat = matrix(nrow=8,ncol=20)\n",
    "\n",
    "# If you know exactly what value do you want to insert, and the position of such cell. You can simply\n",
    "Mat[1,2]=10 # meaning you set 10 into cell row no.1, column no.2.\n",
    "\n",
    "# If you want to look up the values of certain row or column\n",
    "Mat[,4] #look up all cells of column no.4\n",
    "Mat[2,] #look up all cells of row no.2\n",
    "\n",
    "# Suppose you want to have the transpose of a matrix, easy!\n",
    "trans = t(Mat) # get the transpose\n",
    "\n",
    "# suppose you want to change the datatypes from data frame to matrix, use `as.matrix(df)`\n",
    "Mat=as.matrix(Mat) # Mat was data frame. Now it is a matrix!\n",
    "\n",
    "```"
   ]
  },
  {
   "cell_type": "markdown",
   "metadata": {},
   "source": [
    "#### Q3(Python) Booleans and Logical Operators\n",
    "~`THE BOOLEAN TYPE, or BOOLEAN EXPRESSION, or LOGICAL EXPRESSION: evaluates as either TRUE or FALSE`\n",
    "\n",
    "The key word `not` represent the reverse state"
   ]
  },
  {
   "cell_type": "code",
   "execution_count": 24,
   "metadata": {},
   "outputs": [
    {
     "name": "stdout",
     "output_type": "stream",
     "text": [
      "0\n"
     ]
    }
   ],
   "source": [
    "a=False\n",
    "if a==True:\n",
    "    print(1)\n",
    "if not a:\n",
    "    print(0)\n",
    "b=True # notice here\n",
    "if not b:\n",
    "    print(2)"
   ]
  },
  {
   "cell_type": "markdown",
   "metadata": {},
   "source": [
    "`NOTICE THAT EVERY OBJECT HAS A BOOLEAN TYPE. THE FOLLOWING ELEMENTS ARE EVALUATED AS FALSE:`\n",
    "\n",
    "**bool()** is here used to determine the boolean type of the object"
   ]
  },
  {
   "cell_type": "code",
   "execution_count": 48,
   "metadata": {},
   "outputs": [
    {
     "name": "stdout",
     "output_type": "stream",
     "text": [
      "False\n",
      "True\n"
     ]
    }
   ],
   "source": [
    "# 1.None\n",
    "a=None\n",
    "bool(a)\n",
    "# 2.False\n",
    "a=False\n",
    "bool(a)\n",
    "# 3.0, wahtever it is integer, float or complex\n",
    "a=0\n",
    "bool(a)\n",
    "# 4.Empty Collections: \"\", (), [], {}.\n",
    "a=\"\"\n",
    "bool(a)\n",
    "# 5.Objects from clasees that have tha special method __nonzero__\n",
    "# 6.Objects from classes that implements __len__ to return False or zero\n",
    "class A():\n",
    "    def __len__(self):\n",
    "        return 0\n",
    "class B():\n",
    "    def __happy__(self):\n",
    "        return 0\n",
    "\n",
    "a=A()\n",
    "b=B()\n",
    "print(bool(a))\n",
    "print(bool(b))\n",
    "# notice all other objects are True, seems for nonzero, too."
   ]
  },
  {
   "cell_type": "markdown",
   "metadata": {},
   "source": [
    "~`Comparison Operators` and `Chaining Comparison Operators`: use `<`, `<=`, `>`, `>=`, `==`, `!=` to compare the values of 2 values and returns `True` or `False`. Also, those comparison operators can be chained."
   ]
  },
  {
   "cell_type": "code",
   "execution_count": 59,
   "metadata": {},
   "outputs": [
    {
     "name": "stdout",
     "output_type": "stream",
     "text": [
      "True\n",
      "False\n",
      "True\n",
      "True\n",
      "True\n"
     ]
    }
   ],
   "source": [
    "a=2\n",
    "print(1<a<4)\n",
    "print(a==3)\n",
    "print(a>=0)\n",
    "print(2<=a<4)\n",
    "print(2==a<3)\n",
    "# `=` only is NOT a comparison operator."
   ]
  },
  {
   "cell_type": "markdown",
   "metadata": {},
   "source": [
    "~ `Evaluation of logical and comparison operators and membership operators`, membership operators: `and`, `or`, `in`, `not`."
   ]
  },
  {
   "cell_type": "code",
   "execution_count": 71,
   "metadata": {},
   "outputs": [
    {
     "name": "stdout",
     "output_type": "stream",
     "text": [
      "True\n",
      "False\n",
      "False\n",
      "Hope I Am Alright Too\n",
      "Hope Molly's Family Is Alright.\n",
      "True\n",
      "True\n",
      "True\n",
      "True\n"
     ]
    }
   ],
   "source": [
    "a=\"Hope Molly's Family Is Alright.\"\n",
    "b=\"Hope Molly's Family Is Alright.\"\n",
    "c=\"Hope I Am Alright Too\"\n",
    "print(bool(a))\n",
    "print(bool(not a))\n",
    "print(not a) # RETURN FALSE IF a IS TRUE, TRUE OTHERWISE.\n",
    "print(a and c) # RETURN a IF a IS FALSE, c OTHERWISE.\n",
    "print(a or c) # RETURN c IF a IS FALSE, a OTHERWISE.\n",
    "\n",
    "print(\"Ho\" in c)\n",
    "print(\"pe I\" in c)\n",
    "print(\"Hope\" in c)\n",
    "print(\"MAMA\" not in c)"
   ]
  },
  {
   "cell_type": "markdown",
   "metadata": {},
   "source": [
    "~`Identity Operators: is`, it evalutes to True if the variables on either side of the operator point to the same object and False otherwise. `is not` evaluates to False if the vatiables on either side of the operator point to the same object and True otherwise. "
   ]
  },
  {
   "cell_type": "code",
   "execution_count": 77,
   "metadata": {},
   "outputs": [
    {
     "name": "stdout",
     "output_type": "stream",
     "text": [
      "True\n",
      "True\n",
      "False\n"
     ]
    }
   ],
   "source": [
    "a='haha'\n",
    "b=a\n",
    "c='haha'\n",
    "print(a is b)\n",
    "print(a is c)\n",
    "print(b is not c)"
   ]
  },
  {
   "cell_type": "markdown",
   "metadata": {},
   "source": [
    "~`Bitwise Operators`, are used to compare integers in their binary formats, when performing a binary operations between 2 integers, there are first converted into binary numbers"
   ]
  },
  {
   "cell_type": "markdown",
   "metadata": {},
   "source": [
    "`>>: bitwise right shift`<br/>\n",
    "`<<: bitwise left shift`<br/>\n",
    "`&: bitwise and`<br/>\n",
    "`^: bitwise xor`<br/>\n",
    "`|: bitwise or`<br/>\n",
    "`~: bitwise not`"
   ]
  },
  {
   "cell_type": "code",
   "execution_count": 96,
   "metadata": {},
   "outputs": [
    {
     "name": "stdout",
     "output_type": "stream",
     "text": [
      "0b1100100\n",
      "0b1111000\n"
     ]
    }
   ],
   "source": [
    "print(bin(100)) # binary representation\n",
    "print(bin(120))"
   ]
  },
  {
   "cell_type": "code",
   "execution_count": 102,
   "metadata": {},
   "outputs": [
    {
     "name": "stdout",
     "output_type": "stream",
     "text": [
      "0b11001\n",
      "0b110010000\n",
      "0b1100000\n",
      "0b1111100\n",
      "-0b1100101\n",
      "-0b1111001\n",
      "-101\n"
     ]
    }
   ],
   "source": [
    "print(bin(100>>2))\n",
    "print(bin(100<<2))\n",
    "print(bin(100&120))\n",
    "print(bin(100|120))\n",
    "print(bin(~100))\n",
    "print(bin(~120))\n",
    "print(~100)"
   ]
  },
  {
   "cell_type": "markdown",
   "metadata": {},
   "source": [
    "~`The Order of Evaluation:` for all operators we mentioned here, along with all others, we have an order/precedence about which is computed first. We will not cover the full table of it here. But, the precedence table for the boolean operators ONLY is:"
   ]
  },
  {
   "cell_type": "markdown",
   "metadata": {},
   "source": [
    "1. `==`\n",
    "2. `!=`\n",
    "3. `and`\n",
    "4. `or`"
   ]
  },
  {
   "cell_type": "markdown",
   "metadata": {},
   "source": [
    "~`Short-Circuit Evaluations:` to speed up boolean evaluations, Python uses `shor-circuit evaluations`. It means that boolean evaluation may stop if one of its expression is False. Fir instance,"
   ]
  },
  {
   "cell_type": "code",
   "execution_count": 111,
   "metadata": {},
   "outputs": [
    {
     "name": "stdout",
     "output_type": "stream",
     "text": [
      "False\n",
      "{}\n",
      "False\n"
     ]
    }
   ],
   "source": [
    "print(False and 2) # 2 is never evaluated\n",
    "a={}\n",
    "print(a and 2)\n",
    "a=False\n",
    "print(a and True)"
   ]
  },
  {
   "cell_type": "code",
   "execution_count": 124,
   "metadata": {},
   "outputs": [
    {
     "name": "stdout",
     "output_type": "stream",
     "text": [
      "OK\n",
      "ok\n",
      "ko\n",
      "{}\n",
      "False\n"
     ]
    }
   ],
   "source": [
    "# returned values: in the logical test, the returned value \n",
    "# is the one that has been evaluated last\n",
    "print(True and \"OK\" or \"KO\")\n",
    "print(\"2\" and \"ok\" or \"ko\")\n",
    "print({} and \"ok\" or \"ko\")\n",
    "print({} and \"ok\")\n",
    "print(False and (\"ok\" or \"ko\")) # using brackets"
   ]
  },
  {
   "cell_type": "code",
   "execution_count": null,
   "metadata": {
    "collapsed": true
   },
   "outputs": [],
   "source": []
  }
 ],
 "metadata": {
  "kernelspec": {
   "display_name": "Python 3",
   "language": "python",
   "name": "python3"
  },
  "language_info": {
   "codemirror_mode": {
    "name": "ipython",
    "version": 3
   },
   "file_extension": ".py",
   "mimetype": "text/x-python",
   "name": "python",
   "nbconvert_exporter": "python",
   "pygments_lexer": "ipython3",
   "version": "3.6.1"
  }
 },
 "nbformat": 4,
 "nbformat_minor": 2
}
