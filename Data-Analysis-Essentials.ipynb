{
 "cells": [
  {
   "cell_type": "markdown",
   "metadata": {},
   "source": [
    "### Data Analysis Essentials: A Open-Source Package for Data Analysis Learning."
   ]
  },
  {
   "cell_type": "markdown",
   "metadata": {},
   "source": [
    "#### What is Data Analysis?"
   ]
  },
  {
   "cell_type": "markdown",
   "metadata": {},
   "source": [
    "1. We have a set of data. [`Collect`]\n",
    "2. We process them, organize them into produciable format. [`Process`]\n",
    "3. We analyze them, study them by all means, statistically, mathematically, or visually. The goal is to extract outcomes from data, to illustrate, simulate the topic of interest, eventually to benefit from it. [`Analysis`]"
   ]
  },
  {
   "cell_type": "markdown",
   "metadata": {},
   "source": [
    "#### Why would I want to do this?"
   ]
  },
  {
   "cell_type": "markdown",
   "metadata": {},
   "source": [
    "Data Analysis, along with AI, machine learning, are all the new fantasy industries in this decade, but be aware, those broad terminologies are sometimes just to vague, and the background knowledge begind them are things we care most in this chapter. \n",
    "\n",
    "For example, how can we get data? Except from online, we can get it by conducting a survey ourself, but how do you know in what degree, your data, or your survey is believable? We applied statistics means on Survey sampling. After getting data? How do we process it?\n",
    "\n",
    "In a nutshell, no matter DA, AI, or MI, the cores are all about mathematics and statistics. Programming languages are important too but it is merely stairs for you to access to them. The true soil, the true foundation under the tower of Data Analysis & AI & Machine Learning.\n",
    "\n",
    "**We will start from recalling and reprocessing lectures notes of my related courses as warm-up, after that, we will make our new project to explore.**"
   ]
  },
  {
   "cell_type": "code",
   "execution_count": null,
   "metadata": {
    "collapsed": true
   },
   "outputs": [],
   "source": []
  }
 ],
 "metadata": {
  "kernelspec": {
   "display_name": "Python 3",
   "language": "python",
   "name": "python3"
  },
  "language_info": {
   "codemirror_mode": {
    "name": "ipython",
    "version": 3
   },
   "file_extension": ".py",
   "mimetype": "text/x-python",
   "name": "python",
   "nbconvert_exporter": "python",
   "pygments_lexer": "ipython3",
   "version": "3.6.1"
  }
 },
 "nbformat": 4,
 "nbformat_minor": 2
}
