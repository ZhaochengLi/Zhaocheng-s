{
 "cells": [
  {
   "cell_type": "markdown",
   "metadata": {},
   "source": [
    "## Introducing *logpy*: a library for logic programming in python"
   ]
  },
  {
   "cell_type": "markdown",
   "metadata": {},
   "source": [
    "#### Here we use *kanren/logpy* as library\n",
    "Two parts of topics:\n",
    "1. Infermative examples\n",
    "2. relations"
   ]
  },
  {
   "cell_type": "code",
   "execution_count": 1,
   "metadata": {
    "collapsed": true
   },
   "outputs": [],
   "source": [
    "from kanren import run, eq, membero, var, conde, Relation, facts"
   ]
  },
  {
   "cell_type": "code",
   "execution_count": 2,
   "metadata": {
    "scrolled": true
   },
   "outputs": [
    {
     "name": "stdout",
     "output_type": "stream",
     "text": [
      "its valule:  (5,) \n",
      "its type:  <class 'tuple'> \n",
      "its length:  1 \n",
      "its element:  5\n"
     ]
    }
   ],
   "source": [
    "'PART ONE'\n",
    "'var'\n",
    "x = var()\n",
    "\n",
    "'asks a number, x, such that x == 5'\n",
    "sol01 = run(1, x, eq(5, x))\n",
    "\n",
    "'basic info about it'\n",
    "print(\"its valule: \", sol01, \"\\nits type: \", type(sol01), \"\\nits length: \", len(sol01), \"\\nits element: \", sol01[0])"
   ]
  },
  {
   "cell_type": "code",
   "execution_count": 3,
   "metadata": {},
   "outputs": [
    {
     "name": "stdout",
     "output_type": "stream",
     "text": [
      "(3,)\n"
     ]
    }
   ],
   "source": [
    "'multiple goals and multiple variables can be used simultaneously, ex. asking for x == z, z == 3'\n",
    "z = var()\n",
    "sol02 = run(1, x, eq((x, z), (z, 3)))\n",
    "print(sol02)"
   ]
  },
  {
   "cell_type": "code",
   "execution_count": 4,
   "metadata": {},
   "outputs": [
    {
     "name": "stdout",
     "output_type": "stream",
     "text": [
      "(2,)\n"
     ]
    }
   ],
   "source": [
    "'logpy/kanren uses unification, which is an advanced form of pattern matching, to match within expression trees. ex. (1, 2) == (1, x)'\n",
    "sol03 = run(1, x, eq((1, 2), (1, x)))\n",
    "print(sol03)"
   ]
  },
  {
   "cell_type": "code",
   "execution_count": 5,
   "metadata": {
    "scrolled": true
   },
   "outputs": [
    {
     "name": "stdout",
     "output_type": "stream",
     "text": [
      "its valule:  (2, 3) \n",
      "its type:  <class 'tuple'> \n",
      "its length:  2 \n",
      "its element:  2 3\n"
     ]
    }
   ],
   "source": [
    "'eq. a goal to state that two expressions are euqal.'\n",
    "'membero. a goal to state that item is a member of coll, a collection. ex. asking 2 values of x, such that x is a member of (1, 2, 3), and that x is a member of (2, 3, 4)'\n",
    "sol04 = run(2, x, membero(x, (1, 2, 3)), membero(x, (2, 3, 4)))\n",
    "print(\"its valule: \", sol04, \"\\nits type: \", type(sol04), \"\\nits length: \", len(sol04), \"\\nits element: \", sol04[0], sol04[1])"
   ]
  },
  {
   "cell_type": "code",
   "execution_count": 19,
   "metadata": {},
   "outputs": [
    {
     "name": "stdout",
     "output_type": "stream",
     "text": [
      "('Homer',)\n"
     ]
    }
   ],
   "source": [
    "'PART TWO'\n",
    "'We often want to state and then query data. Logic programming represents data a set of facts and represents queries with logical goals. '\n",
    "'In the following examples we assert some facts about the Simpsons family, construct queries through logical goals and then run queries to obtain results'\n",
    "\n",
    "'construct a parent relation and uses it to state who fathered whom'\n",
    "parent = Relation()\n",
    "facts(parent, ('Homer', 'Bart'), ('Homer','Lisa'), ('Abe', 'Homer'))"
   ]
  },
  {
   "cell_type": "code",
   "execution_count": 23,
   "metadata": {},
   "outputs": [
    {
     "name": "stdout",
     "output_type": "stream",
     "text": [
      "('Homer',)\n"
     ]
    }
   ],
   "source": [
    "'then we query, making some questions'\n",
    "\n",
    "'''\n",
    "1. Who is Bart's Father?\n",
    "'''\n",
    "#one x such that x is a parent of Bart\n",
    "sol05 = run(1, x, parent(x, 'Bart'))\n",
    "print(sol05)"
   ]
  },
  {
   "cell_type": "code",
   "execution_count": 24,
   "metadata": {},
   "outputs": [
    {
     "name": "stdout",
     "output_type": "stream",
     "text": [
      "('Bart', 'Lisa')\n"
     ]
    }
   ],
   "source": [
    "#two xs such that Homer is a parent of two children, the order of two children is not fixed somehow, sometimes output ('Lisa', 'Bart'), sometimes ('Bart', 'Lisa')\n",
    "sol06 = run(2, x, parent('Homer', x))\n",
    "print(sol06)"
   ]
  },
  {
   "cell_type": "code",
   "execution_count": 25,
   "metadata": {},
   "outputs": [
    {
     "name": "stdout",
     "output_type": "stream",
     "text": [
      "('Abe',)\n"
     ]
    }
   ],
   "source": [
    "'''\n",
    "use intermediate variable for more complex queries.\n",
    "Who is Bart's grandfather?\n",
    "'''\n",
    "#the intermediate variable y, reprsenting son of abe and father of lisa and bart\n",
    "y=var()\n",
    "sol07 = run(1, x, parent(x, y), parent(y, 'Bart'))\n",
    "\n",
    "print(sol07)"
   ]
  },
  {
   "cell_type": "code",
   "execution_count": 26,
   "metadata": {},
   "outputs": [
    {
     "name": "stdout",
     "output_type": "stream",
     "text": [
      "('Abe',)\n"
     ]
    }
   ],
   "source": [
    "'''\n",
    "here we use conde to express a grandfather relationship separatly. A goal constructor for logical 'and' and 'or'\n",
    "\n",
    "notice that conde accept alternative value of a variable. Without it, most variable cannot UNIFY with two different values at the same time. Multi-value problem thus ends up having no value. \n",
    "'''\n",
    "def grandfather(x, z):\n",
    "\ty = var()\n",
    "\treturn conde((parent(x, y), parent(y, z)))\n",
    "\n",
    "sol08 = run(1, x, grandfather(x, 'Bart'))\n",
    "print(sol08)"
   ]
  },
  {
   "cell_type": "code",
   "execution_count": null,
   "metadata": {
    "collapsed": true
   },
   "outputs": [],
   "source": []
  }
 ],
 "metadata": {
  "kernelspec": {
   "display_name": "Python 3",
   "language": "python",
   "name": "python3"
  },
  "language_info": {
   "codemirror_mode": {
    "name": "ipython",
    "version": 3
   },
   "file_extension": ".py",
   "mimetype": "text/x-python",
   "name": "python",
   "nbconvert_exporter": "python",
   "pygments_lexer": "ipython3",
   "version": "3.6.1"
  }
 },
 "nbformat": 4,
 "nbformat_minor": 2
}
