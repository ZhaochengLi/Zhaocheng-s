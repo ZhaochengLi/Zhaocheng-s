{
 "cells": [
  {
   "cell_type": "markdown",
   "metadata": {},
   "source": [
    "Database Systems\n",
    "===\n"
   ]
  },
  {
   "cell_type": "markdown",
   "metadata": {},
   "source": [
    "A ***database*** is nothing more than a set of related information.\n",
    "\n",
    "#### Terms and Definitions\n",
    "- **Entity**: something of interest to the database user community. For example, customers, parts, geographic locations, etc..\n",
    "- **Column**: An individual piece of data stored in a table.\n",
    "- **Row**: A set of column that together completely describe an entity or some action on an entity. Also called a **record**.\n",
    "- **Table**: A set od rows, held either in memory (nonpersistent) or on permanent storage (persistent).\n",
    "\n",
    "**SQL integration toolkits for Python: `Python DB`**\n",
    "\n",
    "We will learn to use **MySQL** with `mysql` command-line tools. And in this case, you will receive feedback concerning how many rows were either:\n",
    "- Returned by your **select** statement;\n",
    "- Created by your **insert** statement;\n",
    "- Modified by your **update** statement;\n",
    "- Removed by your **delete** statement;\n",
    "\n",
    "#### Creating the Sample Database\n",
    "- **Log in to MySQL as root**: `mysql -u root -p`\n",
    "- **Create a database for the sample data**: `create database bank;`\n",
    "- **Create the `lrngsql` databases user with full privileges on the `bank` database**: `grant all privileges on bank.* to 'lrngsql'@'localhost' identified by 'xyz';`\n",
    "- **Exit the mysql tool**: `quit;`\n",
    "- **Log in to MySQL as `lrngsql`**: `mysql -u lrngsql -p;`\n",
    "- **Attach to the bank database**: `use bank;`"
   ]
  },
  {
   "cell_type": "markdown",
   "metadata": {},
   "source": [
    "#### Using MySQL\n",
    "- `select now()`: see the current date and time."
   ]
  }
 ],
 "metadata": {
  "kernelspec": {
   "display_name": "Python 3",
   "language": "python",
   "name": "python3"
  },
  "language_info": {
   "codemirror_mode": {
    "name": "ipython",
    "version": 3
   },
   "file_extension": ".py",
   "mimetype": "text/x-python",
   "name": "python",
   "nbconvert_exporter": "python",
   "pygments_lexer": "ipython3",
   "version": "3.6.1"
  }
 },
 "nbformat": 4,
 "nbformat_minor": 2
}
