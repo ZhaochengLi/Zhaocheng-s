{
 "cells": [
  {
   "cell_type": "markdown",
   "metadata": {},
   "source": [
    "Building a Website from Scratch (HTML5)\n",
    "===\n",
    "\n",
    "- **[HTML: Hypertext Markup Language](#html:-hypertext-markup-language)**\n",
    "- **[CSS: Cascading Style Sheets](#css:-cascading-style-sheets)**\n",
    "\n",
    "## HTML:  Hypertext Markup Language"
   ]
  },
  {
   "cell_type": "markdown",
   "metadata": {},
   "source": [
    "***Notice: it is NOT a programming language.***\n",
    "\n",
    "A markup language is a system for identifying and describing the various components of a document such as headings, paragraphs, and lists."
   ]
  },
  {
   "cell_type": "markdown",
   "metadata": {},
   "source": [
    "#### There are five steps to create a simple page:\n",
    "1. Content\n",
    "2. Content structure.\n",
    "3. Text elements\n",
    "4. Image\n",
    "5. Page appearance change with style sheet"
   ]
  },
  {
   "cell_type": "markdown",
   "metadata": {},
   "source": [
    "#### Conventions of naming your file.\n",
    "1. A proper suffixes, usually ended with \".html\"\n",
    "2. never use character space within filenames, but underline character or hyphen to show the separation.\n",
    "3. Avoid special characters such as \"?\", \"%\", \":\", \";\", \"#\", etc.\n",
    "4. filenames may be case-sensitive.\n",
    "5. keep name short."
   ]
  },
  {
   "cell_type": "markdown",
   "metadata": {},
   "source": [
    "#### The default text file woule be \"index.html\""
   ]
  },
  {
   "cell_type": "markdown",
   "metadata": {},
   "source": [
    "#### The Structure, we will use html tags a lot"
   ]
  },
  {
   "cell_type": "markdown",
   "metadata": {},
   "source": [
    "*the structure format is*:\n",
    "\n",
    "    <element name or tag> content here </element name>\n",
    "    \n",
    "this is how *markup* is done."
   ]
  },
  {
   "cell_type": "markdown",
   "metadata": {},
   "source": [
    "1. first line above all, it the Document Type Declaration, or **DOCTYPE** declaration. **It identifies this document as an HTML5 document**.\n",
    "2. The *root element* is $<html>$, because it is going to contain all the elements in the document.\n",
    "3. Then within the $<html>$ element, the document is divided into a $<head>$ and a $<body>$, the $<head>$ element contains descriptive information about the document itself, such as *title*, the *style sheet* it uses, scripts, and other types of *meta* information.\n",
    "4. The $<meta>$ elements within the $<head>$ element provide information about the document itself. Noticing that a ***meta*** element can be used to provide all sorts of information, but in this case, it specifies the *character encoding*(the standardized collection of letters, numbers, and symbols) used in the document.\n",
    "5. There is a mandatory part in the $<head>$ element, which is $<title>$. Every document must contain a descriptive title."
   ]
  },
  {
   "cell_type": "markdown",
   "metadata": {},
   "source": [
    "- Example of a minimal structure of an HTML document. This is kept up-to-date.\n",
    "\n",
    "\n",
    "    <! DOCTYPE html>\n",
    "    <html>\n",
    "        <head>\n",
    "            <meta charset=\"utf-8\">\n",
    "            <title> Title Here </title>\n",
    "        </head>\n",
    "        \n",
    "        <body>\n",
    "            <h1>This is a <em>beautiful</em> page.</h1>\n",
    "            \n",
    "            <p>I wish everyone in the world happy and healthy</p>\n",
    "            \n",
    "        </body>\n",
    "    </html>\n"
   ]
  },
  {
   "cell_type": "markdown",
   "metadata": {
    "collapsed": true
   },
   "source": [
    "Furhtermore, we can now add the markup that identifies ***headings and subheads (h1 and h2), paragraphs (p) and emphasized text (em)*** to our content.\n",
    "\n",
    "Be aware that the purpose of HTML is to add meaning and structure to the content. And your job when marking up content is to choose the HTML element that provides the most ***meaningful*** description of the content at hand. We call this the ***semantic markup***."
   ]
  },
  {
   "cell_type": "markdown",
   "metadata": {
    "collapsed": true
   },
   "source": [
    "In addition to adding meaning to content, the markup gives the document structure. The way elements follow each other or nest within one another creates relationships between the elements. You can think of it as an outline (its technical name is ***DOM, for Document Object Model***).\n",
    "\n",
    "The underlying document hierarchy is important because it gives browsers cues on how to handle the content. It is also the foundation upon which we add presentation instructions with style sheets and behaviors with *JavaScript*."
   ]
  },
  {
   "cell_type": "markdown",
   "metadata": {
    "collapsed": true
   },
   "source": [
    "#### Block and inline elements\n",
    "- The heading and paragraph elements start on new lines and do not run together as they did before. This is by default, headings and paragraphs display as block elements. Browsers treat block elements as though they are in little rectangular boxes, stacked up in the page. Each block element begins on a new line, and some space is also usually added above and below the entire element by default.\n",
    "- On the other hand, *(em) is an inline element* so it does not create a new line."
   ]
  },
  {
   "cell_type": "markdown",
   "metadata": {
    "collapsed": true
   },
   "source": [
    "- Adding Hidden Comments using notation: \n",
    "        <!-- One-line Comments -->\n",
    "        <!-- Multi-line \n",
    "                       comment -->\n",
    "- During a team project, comments can also be used to point out the section of the source that contains the ***navigation***.\n",
    "        <!-- Start Global Nav -->\n",
    "        <ul>\n",
    "        ...\n",
    "        </ul>\n",
    "        <!-- End Global Nav -->\n",
    "- Be aware that all the comments are hidden, therefore the browser will not display those comments. Unless you show the source code."
   ]
  },
  {
   "cell_type": "markdown",
   "metadata": {},
   "source": [
    "#### Default Style\n",
    "The browser makes an attempt to give the page some visual hierarchy by making the first-level heading the biggest and boldest thing on the page, with the second-level headings slightly smaller, and so on.\n",
    "\n",
    "But how does the browser determine what an *h1* should look like. It uses a style sheet. All browser has their own build-in style sheets (called user agent style sheets in the spec) that describe the default rendering of elements. The default rendering of elements. The default rendering is similar from browser to browser, for example, *h1*s are always big and bold, despite some slight variations."
   ]
  },
  {
   "cell_type": "markdown",
   "metadata": {},
   "source": [
    "#### Add Images:  $<img>$\n",
    "- It is a so-called **empty** element, it tells the browser to get an image file from the server and insert it at that spot in the flow of the text.\n",
    "- This element requires some attributes such as *src*, short for *source*. Then we specifies the location(URL) after it.\n",
    "\n",
    "        <img src=\"bird.img alt=\"photo of bird\">\n",
    "- The *src* attribute provides the name of the image file that should be inserted.\n",
    "- The *alt* attribute provides text that should be displayedc if the image is not available. Both of these attributes are required in every *img* element.\n",
    "- In the heading, for example we want to make the image above the title. We can code like this:\n",
    "        <h1><img src=\"ginobili.png\" alt=\"superstar logo\"><br>Ginobili Mugshot</h1>\n",
    "\n",
    "#### Other empty elements include the *line break (br)* and *thematic break (hr)*, and elements that provide information about a document but do not affect its displayed content, such as the *meta* element that we used earlier."
   ]
  },
  {
   "cell_type": "markdown",
   "metadata": {},
   "source": [
    "***Later we will learn to change the look using CSS***"
   ]
  },
  {
   "cell_type": "markdown",
   "metadata": {
    "collapsed": true
   },
   "source": [
    "### Structures\n",
    "Notice: You must assign an element to all the text in a document. In other words, all text must be enclosed in some sort of element. Text that is not contained within tags is called \"naked\" or \"anonymous\" text, and it will cause a document to be invalid."
   ]
  },
  {
   "cell_type": "markdown",
   "metadata": {},
   "source": [
    "#### Paragraphs"
   ]
  },
  {
   "cell_type": "markdown",
   "metadata": {},
   "source": [
    "        <p> This is a paragraph, and\n",
    "        it has multiple lines. </p>"
   ]
  },
  {
   "cell_type": "markdown",
   "metadata": {},
   "source": [
    "#### Headings\n",
    "When you add headings to content, the browser uses them to creat a **document outline** for the page.\n",
    "\n",
    "There are actually **six** levels of headings, from *h1* to *h6*.\n",
    "\n",
    "        <h1> I am the most important headings </h1>\n",
    "        <h2> I agree! </h2>\n",
    "        <h3> Well... </h3>\n",
    "        <h4> It's getting less and less imoportant </h4>\n",
    "        <h5> Yeah you are right </h5>\n",
    "        <h6> I am the least </h6>"
   ]
  },
  {
   "cell_type": "markdown",
   "metadata": {},
   "source": [
    "#### A horizontal rule\n",
    "It is used to indicate a shift in themes. Meaning that you want to specify that one topic or thoughts has completed and another one is beginning.\n",
    "\n",
    "It is an **empty element**, and also in HTML5, it does not need $<hr />$. It is used as a logical divider between sections of a page or paragraphs of text without introducing a new heading level.\n",
    "\n",
    "        <h3>This is BEIJING</h3>\n",
    "        <p>Beijing is the capital of China.</p>\n",
    "        <hr>\n",
    "        <h3>This is Tokyo</h3>\n",
    "        <p>Tokyo is the capital of Japan.</p>\n",
    "\n",
    "In HTML, (hr) is defined as default, a horizontal line on the page. You can modify it of course, using CSS."
   ]
  },
  {
   "cell_type": "markdown",
   "metadata": {},
   "source": [
    "#### Heading Groups: it is common to have subheads or taglines.\n",
    "        <hgroup>...</hgroup>\n",
    "        This shows a group of stacked headings.\n",
    "such as\n",
    "\n",
    "        <hgroup>\n",
    "            <h1>Crearing a simple page</h1>\n",
    "            <h2>(HTML OVERVIEW)</h2>\n",
    "        </hgroup>\n",
    "Of course we can just do (h1) first then do (h2) without such format, but in that case, youmay introduce an unintended new level of the document outline. With (hgroup),it **identifies a stack headings as a group.** Browsers that support (hgroup) to count only the highest-ranked heading in the outline and ignore the rest."
   ]
  },
  {
   "cell_type": "markdown",
   "metadata": {},
   "source": [
    "#### Lists"
   ]
  },
  {
   "cell_type": "markdown",
   "metadata": {},
   "source": [
    "For the list, we have the categories:\n",
    "- Unordered lists;\n",
    "- Ordered lists;\n",
    "- Desciptive lists\n",
    "\n",
    "##### Unordered Lists\n",
    "        <ul>\n",
    "            <li><a href=\"\">China</a></li>\n",
    "            <li><a href=\"\">Korea</a></li>\n",
    "            <li><a href=\"\">Japan</a></li>\n",
    "            <li><a href=\"\">Canada</a></li>\n",
    "        </ul>\n",
    "Notice that there are no bullets in the source document. They are added automatically by the browser.\n",
    "\n",
    "##### Ordered Lists\n",
    "        <ol>\n",
    "            <li>John Wick</li>\n",
    "            <li>Ethan Hunt</li>\n",
    "            <li>Jason Bourne</li>\n",
    "        </ol>\n",
    "Notice that instead of bullets, the browser sutomatically inserts numbers before ordered list items.<br>If you do not want a numbered list to start at a number other than \"1\", you can use the start attribute in the (ol) element to specify another starting number.\n",
    "        \n",
    "        <ol start=\"18\">\n",
    "            <li>John Wick</li>\n",
    "            <li>Ethan Hunt</li>\n",
    "            <li>Jason Bourne</li>\n",
    "        </ol>\n",
    "Then the list will go as 18, 19, and 20.\n",
    "\n",
    "##### Nesting Lists\n",
    "Any list can be nested within another list, it just has to be placed within a list item. For example,\n",
    "\n",
    "        <ol>\n",
    "            <li></li>\n",
    "            <li>\n",
    "                <ul>\n",
    "                    <li></li>\n",
    "                    <li></li>\n",
    "                </ul>\n",
    "            </li>\n",
    "        </ol>\n",
    "##### Descriptive Lists\n",
    "Descriptive Lists are used for any type of name/vaule pairs, such as terms and their definitions, questions and answers, or other types of terms and their associated information.\n",
    "\n",
    "The content of a *dl* is some number of *dt* elements indicating the names and *dd* elements for their respective values.\n",
    "\n",
    "        <dl>...</dl> a description list\n",
    "        <dt>...</dt> a name, such as a term or label.\n",
    "        <dd>...</dd> a value, such as a description or definition\n",
    "Take an example,\n",
    "        \n",
    "        <dl>\n",
    "            <dt>Theorem one</dt>\n",
    "            <dd>Blahblahblahblah...\n",
    "            </dd>\n",
    "            \n",
    "            <dt>Theorem two</dt>\n",
    "            <dd>Blahblahblahblah...\n",
    "            </dd>\n",
    "        </dl>\n",
    "Notice that (dl) element is only allowed to contain (dt) and (dd) elements. It is OK to have multiple definitions with one term and vice versa. You cannot put headings or content-grouping elements like paragraphs in names (dt), but the valur (dd) can contain any type of flow content."
   ]
  },
  {
   "cell_type": "markdown",
   "metadata": {
    "collapsed": true
   },
   "source": [
    "#### More Elements\n",
    "we use also\n",
    "- **(blockquote)** for long quotation;\n",
    "- preformatted text **(pre)**; and \n",
    "- figures **(figure and figcaption)**\n",
    "\n",
    "One thing for them in common is that they are all considered \"grouping content\" in the HTML5 spec (along with **p**, **hr**, the list elements, and the generic **div**)"
   ]
  },
  {
   "cell_type": "markdown",
   "metadata": {},
   "source": [
    "##### Long quotations\n",
    "        <blockquote> ... </blockquote>\n",
    "        \n",
    "It is a lengthy, block-level quotation. There is also an **inline** element called **(q)**, for short quotations in the flow of text.\n",
    "\n",
    "The **blockquote** is in a category of elements called ***sectioning roots***. Headings in a sectioning root element will not be included in the main document outline. That mains *you can have a complex heading hierarchy within a blockquote without worrying how it will affect the overall structure of the document.*\n",
    "\n",
    "-Other sectioning root elements include **figure**, **details**, **fieldset** (for organizing)"
   ]
  },
  {
   "cell_type": "markdown",
   "metadata": {},
   "source": [
    "##### Preformatted Text\n",
    "        <pre>...</pre>\n",
    "It is the preformatted text.\n",
    "\n",
    "You can see in the previous sections, the browsers ignore whitespacees such as line return and character spaces in the source document. But the whitespace is sometimes important for such as code examples or poetry. For those purposes, we can use **(pre)** element.\n",
    "\n",
    "- It is an unique element in that it is displayed exactly as it is typed --- including all the carriage returns and multiple character spaces.\n",
    "\n",
    "- It is also worth noticing that by default, preformatted text is also displayed in a constant-width font (one in which all the characters are the same width, also called ***monospace***)."
   ]
  },
  {
   "cell_type": "markdown",
   "metadata": {},
   "source": [
    "##### Figures\n",
    "the ***figure*** element is used for content that illustrates or supports some point in the text. A figure may contain an image, a code snippet, text, or even a table --- pretty much anything that can go in the flow of web content --- and should be treated and referenced as a self-contained unit. We have,\n",
    "\n",
    "        <figure>\n",
    "            <img src=\"piechart\".png.alt\"\">\n",
    "        <figure>\n",
    "A caption can be attached to the figure using the optional ***figcaption*** element above or below the figure content.\n",
    "\n",
    "        <figure>\n",
    "            <pre><code>\n",
    "            body{\n",
    "                background-color: #000;\n",
    "                color: red;\n",
    "            }\n",
    "            </code></pre>\n",
    "            <figcaption>\n",
    "                Sample CSS rule.\n",
    "            </figcaption>\n",
    "        </figure>"
   ]
  },
  {
   "cell_type": "markdown",
   "metadata": {},
   "source": [
    "#### Organizing Page Content\n",
    "1. Sections and articles\n",
    ">Long documents are easier to use when they are divided into smaller parts. For example, books are divided into chapters, newspapers have sections for local news, sports, comics, and so on. ***To divide long web documents into thematic sections, use the aptly named section element. Sections typically have a heading (inside the section element) and any other content that has a meaningful reason to be grouped together.***\n",
    "\n",
    "        <section>\n",
    "            <h2>Typography Books<h2>\n",
    "            <ul>\n",
    "                <li>...</li>\n",
    "            </ul>\n",
    "        </section>\n",
    "        \n",
    "        <section>\n",
    "            <h2>Online Tutorials</h2>\n",
    "            <p>These are the best tutorials on the web.</p>\n",
    "            <ul>\n",
    "                <li>...<li>\n",
    "            </ul>\n",
    "        </section>\n",
    "\n",
    "2. Article\n",
    "> use article element for self-contained works that could stand alone or be reused in a different context. It is useful for magazine or newspaper articles, blog posts, comments, or other items that could be extracted for external use. ***You can think of it as a specialized section element that answers the question \"could this appear on another site and make sense?\" with \"yes\".***\n",
    "\n",
    "    - To make it more interesting, we can no only break a long article down into a number of sections, but also make a section in a web document comprised of a number of articles.\n",
    "    - The elements \"section\" and \"article\" are always confused. Keep in mind that if the content is self-contained and could appear outside the current context, it is best marked up as an $<article>$\n",
    "    - The \"article\" tag specifies independent, self-contained content. An article should make sense on its own and it should be possible to distribute it independently from the rest of the site.\n",
    "    - Potential sources for the \"article\" element: Forum post; Blog post; News story; Comment.\n",
    "    \n",
    "        \n",
    "        <article>\n",
    "            <h1>Beauty of Mathematics</h1>\n",
    "            <section>\n",
    "                <h2>History</h2>\n",
    "                <p>...</p>\n",
    "            </section>\n",
    "            \n",
    "            <section>\n",
    "                ...\n",
    "            </section>\n",
    "        </article>\n",
    "        \n",
    "Also,\n",
    "\n",
    "        <section id=\"essay\">\n",
    "            <article>\n",
    "                <h1>...</h1>\n",
    "                <p>...</p>\n",
    "            </article>\n",
    "            \n",
    "            <article>\n",
    "                <h1>...</h1>\n",
    "                <p>...</p>\n",
    "            </article>\n",
    "        </section>\n"
   ]
  },
  {
   "cell_type": "markdown",
   "metadata": {},
   "source": [
    "#### Aside (Sidebars)\n",
    "        <aside>...</aside>\n",
    "The \"aside\" element identifies content that is related but tangential to the surrounding content. In print, it is equivalent to a sidebar, but they could not call the element \"sidebar\", because putting something on the \"side\" is a presentational description, not semantic.\n",
    "\n",
    "- aside can be used for pull quotes, backgorund information, lists of links, callouts, or anything else that might be associated with (but not crucial to) a document.\n",
    "\n",
    "        <h1>...</h1>\n",
    "        <p>...</p>\n",
    "        <aside>\n",
    "            <h2>...</h2>\n",
    "            <p>...</p>\n",
    "        </aside>"
   ]
  },
  {
   "cell_type": "markdown",
   "metadata": {},
   "source": [
    "#### Navigation\n",
    "        <nav>...<nav>\n",
    "the \"nav\" element gives developers a semantic way to identify navigation for a site. Earlier we saw an unordered list that might be used as the top-level navigation for a font catalog site. Wrapping that list in a \"nav\" element makrs its purpose explicitly clear.\n",
    "\n",
    "        <nav>\n",
    "        <ul>\n",
    "            <li>...</li>\n",
    "            ...\n",
    "            ...\n",
    "            <li>...</li>\n",
    "        </ul>\n",
    "        </nav>"
   ]
  },
  {
   "cell_type": "markdown",
   "metadata": {},
   "source": [
    "#### Headers and Footers\n",
    "        <header>...</header>\n",
    "        <footer>...</footer>\n",
    "The header element is used for introductory material that typically appears at the beginning of a web page or at the top of a section or article. There is no specified list of what a header must or should contain; anything that makes sense as the introduction to a page or section is acceptable. For example below, the document header includes a logo image, the site title, and navigation.\n",
    "\n",
    "        <header>\n",
    "            <img src=\"/images/logo.png\">\n",
    "            <hgroup>\n",
    "                <h1>Web dev</h1>\n",
    "                <h2>HTML5</h2>\n",
    "            </hgroup>\n",
    "            <nav>\n",
    "                <ul>\n",
    "                    <li>...</li>\n",
    "                    <li>...</li>\n",
    "                </ul>\n",
    "            </nav>\n",
    "        </header>\n",
    "We can also use it in an individual \"article\".\n",
    "\n",
    "The \"footer\" element is used to indicate the type of information that typically comes at the end of a page or an article, such as its author, copyright information, related documents, or navigation. *It can either apply on the entire document, a particular \"section\" or an \"article\".*\n",
    "\n",
    "- If it is appied within the \"body\" element, either before or after all the other \"body\" content, then it applies to the entire page or application. If it is contained in a sectioning element (section, article, nav, or aside), it is parsed as the footer for just that section. Although it is called \"footer\", **there is no requirement that it comes last in the document or sectioning element.**\n",
    "\n",
    "        <article>\n",
    "            <header>\n",
    "                <h1>More about WOFF</h1>\n",
    "                <p>by Jennifer Robbins, <time datetime=\"11-11-2011\"\n",
    "                pubdate>November 11, 2011</time></p>\n",
    "            </header>\n",
    "            <p>...article content starts here…</p>\n",
    "            <footer>\n",
    "                <p><small>Copyright &copy;2012 Jennifer Robbins.</small></p>\n",
    "                <nav>\n",
    "                <ul>\n",
    "                    <li><a href=\"\">Previous</a></li>\n",
    "                    <li><a href=\"\">Next</a></li>\n",
    "                </ul>\n",
    "                </nav>\n",
    "            </footer>\n",
    "        </article>"
   ]
  },
  {
   "cell_type": "markdown",
   "metadata": {},
   "source": [
    "#### Addresses\n",
    "        <address>...</address>\n",
    "the \"address\" element is used to create an area for contact information for the author or maintainer of the document. It is generally placed at the end of the document or in a section or article within a document.\n",
    "\n",
    "- An address would be tight ar home in a \"footer\" element. Moreover, the \"address\" should not be used for any **old address** on a page, such as mailing address. It is intended soecifically for author contact information (although that could potentially be a mailing address). For example,\n",
    "<code>\n",
    "        <address>\n",
    "        Contributed by <a href=\"../authors/robbins/\">Jennifer Robbins</a>, <a href=\"http://www.oreilly.com/\">O'Reilly Media</a>  \n",
    "        </address>\n",
    "</code>"
   ]
  },
  {
   "cell_type": "markdown",
   "metadata": {
    "collapsed": true
   },
   "source": [
    "#### The Inline Element Roundup\n",
    "Now we are learning the ***inline elements (also called text-level semantic elements)*** because they display in the flow of text by default and do not cause any line breaks."
   ]
  },
  {
   "cell_type": "markdown",
   "metadata": {
    "collapsed": true
   },
   "source": [
    "Element | Description\n",
    "--------|------------\n",
    "   a    |An anchor or hypertext link\n",
    "  abbr  |Abbreviation\n",
    "   b    |Added visual attention, such as keywords (bold)\n",
    "  bdi   |Indicates text that may have directional requirements\n",
    "  bdo   |Bidirectional override; explicitly indicates text direction (left to right, *ltr*, or right to left, *rtl*)\n",
    "  br    |Line break\n",
    "  cite  |Citation; A refereence to the title of a work, such as a book title\n",
    "  code  |Computer code sample\n",
    "  data  |Machine-readable equivalent dates, weights and other measurable values\n",
    "  del   |Deleted text, indicates an edit make to a document\n",
    "  dfn   |The Defing instance or first occurrence of a term\n",
    "  em    |Emphasized text\n",
    "  i     |Alternative voice (italic)\n",
    "  ins   |Inserted text, indicates an insertion in a docuemnt;\n",
    "  kbd   |Keyboard, text entered by a user (for technical documents)\n",
    "  mark  |Contexrually relevant text\n",
    "   q    |Short, inline quotation\n",
    "  \n",
    "  \n",
    "  \n",
    "  \n",
    "  \n"
   ]
  },
  {
   "cell_type": "markdown",
   "metadata": {
    "collapsed": true
   },
   "source": [
    "#### Generic Elements (*div* and *span*)\n",
    "In the case of your contents still have no accurate desceiptions and there are no semantic elements for them as well, HTML provides two generic elements that can be customized to describe your content perfectly."
   ]
  },
  {
   "cell_type": "markdown",
   "metadata": {},
   "source": [
    "    <div>...</div>  // generic block-level element\n",
    "the **div** element indicates a division of content\n",
    "    \n",
    "    <span>...</span> // generic inline element\n",
    "its element indicates a word or phrase for which no text-level element currently exists.\n",
    "\n",
    "The generic elements are given meaning and context with the **id** and **class** attributes, which will be shown later.\n"
   ]
  },
  {
   "cell_type": "markdown",
   "metadata": {},
   "source": [
    "**div** element is used to create a logical grouping of content or elements on the page. It indicates that they belong together in some sort of conceptual unit or should be treated as an unit by **CSS** or **JavaScript**. By marking related content as a **div** and giving it an unique *id* identifier or indicating that it is part of a *class*, you give content to the elements in the grouping.\n",
    "\n",
    "    // if you set\n",
    "    <div class=\"listing\">\n",
    "        <p>...</p>\n",
    "    </div>\n",
    "    // you made the content inside related and you can style the p element within listings differently than other paragraphs on the page."
   ]
  },
  {
   "cell_type": "markdown",
   "metadata": {},
   "source": [
    "    // if you get id\n",
    "    <div id=\"news\">\n",
    "        <p>...</p>\n",
    "    </div>\n",
    "    // the paragraph is enclosed in a div and identified as the \"news\" division. The element is known as \"news\"."
   ]
  },
  {
   "cell_type": "markdown",
   "metadata": {},
   "source": [
    "A **span** offers the same benefits as the *div* element, except it is used for phrase elements and does not introduce line breaks. Because spans are inline elements, they can only contain text and other inline elements (in other words, you cannot put headings, lists, content-grouping elements and so on, in a span)."
   ]
  },
  {
   "cell_type": "markdown",
   "metadata": {},
   "source": [
    "for example, there is no *telephone* element, but we can use *span* to give meaning to telephone numbers.\n",
    "\n",
    "    <ul>\n",
    "        <li>John: <span class=\"tel\">999.8282</span></li>\n",
    "        <li>Leo: <span class=\"tel\">912.1232</span></li>\n",
    "    </ul>\n",
    "    // each telephone number is classified as \"tel\". It makes the information recognizable not only to humans but to computer  programs that know that \"tel\" is telephone number information.\n",
    "    "
   ]
  },
  {
   "cell_type": "markdown",
   "metadata": {},
   "source": [
    "#### *id* and *class* attributes, they are not just attributes for div and span only\n"
   ]
  },
  {
   "cell_type": "markdown",
   "metadata": {},
   "source": [
    "*id* is assigned an *unique* identifier to an element in the document."
   ]
  },
  {
   "cell_type": "markdown",
   "metadata": {},
   "source": [
    "On the other hand, the class attribute classifies elements into conceptual groups; unlike the *id* attribute, multiple elements may share a class name.\n",
    "\n",
    "By making elements part of the same class, you can apply styles to all of the labeled elements at once with a single style rule or manipulate them all with a script."
   ]
  },
  {
   "cell_type": "markdown",
   "metadata": {},
   "source": [
    "***id*** is used to identify\n",
    "\n",
    "***class*** is used to classify"
   ]
  },
  {
   "cell_type": "markdown",
   "metadata": {},
   "source": [
    "#### Some Special Characters\n",
    "\n",
    "Some common characters, such as the copyright symbol, are not part of the standard set of the ASCII characters, other characters, such as the less-than symbol are available. But if you put one in an HTML document, the browser will interpret it as the beginning of a tag.\n",
    "\n",
    "Characters such as these must be **escaped** in the source document. **Escaping** means that instead of typing in the character itself, you represent it by its numberic or named character reference. When the browser sees the character reference, it substitutes the proper character in that spot when the page is displayed.\n",
    "\n",
    "There are two ways of referring to a specific character:\n",
    "- by an assigned numeric value (numeric entity) or\n",
    "- using a predefined abbreviated name for the character (called a named entity)\n",
    "\n",
    "all character references begin with an \"&\" and end with a \";\"\n"
   ]
  },
  {
   "cell_type": "markdown",
   "metadata": {},
   "source": [
    "### CHAPTER 6 - ADDING LINKS\n",
    "We will look at the markup that makes links work: to other sites; to your own sites and within a page. There is one elements that makes linking possible: the ***anchor*** (a).\n",
    "    \n",
    "    // anchor element \n",
    "    <a href=\"the website url\">...</a>\n",
    "    \n",
    "    // for example\n",
    "    <a href=\"http://www.noareallink.com\">This is linked text</a>\n",
    "    \n",
    "    // or you can give the image a link, using img element in the anchor element.\n",
    "    <a href=\"http://www.noareallink.com\"><img src=\"pic.gif\" alt=\"my image\"></a>\n"
   ]
  },
  {
   "cell_type": "markdown",
   "metadata": {},
   "source": [
    "Nearly all graphical browsers display linked text as blue and underlined by default. Visited links generally display in purple.\n",
    "\n",
    "User can change these colors in their browser preferences, and of course, you can change the appearance of links for your sites using style sheets."
   ]
  },
  {
   "cell_type": "markdown",
   "metadata": {},
   "source": [
    "#### the href attribute: \n",
    "the *href* is hypertext reference, which provides the address of the page or resource (its URL) to the browser.\n",
    "\n",
    "There are two ways to specify the URL:\n",
    "- ***Absolute URLs*** provide the full URL for the document, including the protocol (http://), the domain name, and the pathname as necessary.\n",
    "\n",
    "        href=\"http://www.oreily.com/\"\n",
    "- ***Relative URLs*** describes the pathname to a file relative to the current document. Relative URLs can be used when you arelinking to another document on your own site (i.e., on the same server).\n",
    "\n",
    "        href=\"recipes/index.html\"\n",
    "        "
   ]
  },
  {
   "cell_type": "markdown",
   "metadata": {},
   "source": [
    "#### Linking to a specific point in a page\n",
    "1. Identify the destination: to create a destination, use the *id* attribute to give the target element in the document an unique name. This is called \"fragment identifier\"\n",
    "\n",
    "`<h1 id=\"startH\">H</h1>`\n",
    "\n",
    "`//Because I want users to be able to link directly to the H heading, I will add id attribute to it and give it the valur \"startH\".`\n",
    "\n",
    "2. Linking to the destination\n",
    "\n",
    "`<p>... F | G | <a href=\"#startH\">H</a> | I | J | ... </p>`"
   ]
  },
  {
   "cell_type": "markdown",
   "metadata": {},
   "source": [
    "#### Linking to a fragment in another document\n",
    "You can link to a fragment in another document by adding the fragment name to the end of the URL (absolute or relative).\n",
    "\n",
    "    <a href=\"glossary.html#startH\">see the glossary, H</a>\n",
    "or \n",
    "    \n",
    "    <a href=\"http://www.example.com/glossary.html#startH\">see the glossary, H</a>"
   ]
  },
  {
   "cell_type": "markdown",
   "metadata": {},
   "source": [
    "### Section: Targeting a new browser window\n",
    "One problem with putting links on your page is that when people click on them, they may never come back.\n",
    "\n",
    "The traditionl solution to this dilimma has been to make the linked page open in a new browser window.\n",
    "\n",
    "But it has disadvantages too. First of all, tabbed browsers make it somewhat less likely yhat users will never find their way back to the original page. Futhermore, new windows may be confusing to some users, particularly those who are accessing your site via a screen reader or even on a small-screen device. At very least, new window may be perceived as an annoyance rather than a convenience. Because it is common to configure your browser to block **pop-up windows**, you risk having the users miss out on the content in the new window altogether."
   ]
  },
  {
   "cell_type": "markdown",
   "metadata": {},
   "source": [
    "#### A new window with markup\n",
    "To open a new window using markup, use the **target** attribute in the anchor (a) element to tell the browser the name of the window in which you want the linked document to open.\n",
    "\n",
    "Set the value to **_blank** or to any name of your choosing. Remember that with this method, ***you have no control over the size of the window, but it will generally open as a new tab or in a new window the same size as the most recently opened window in the user's browser.***\n",
    "\n",
    "`<a href=\"http://www.oreilly.com\" target=\"_blank\">O'Reilly</a>`\n",
    "`// set target=\"_blank\" always causes the browser to open a fresh new window.`\n",
    "\n",
    "If you target \"_blank\" for every link, every link will launch a new window, potentially leaving your user with a mess of open windows.\n",
    "\n",
    "A better method is to give the target window a specific name, which can then be used by subsequent links. You can give the window any name you like, as long as it does not start with an underscore.\n",
    "\n",
    "`<a href=\"http://www.oreilly.com\" target=\"display\">O'Reilly</a>\n",
    "// it will open a window called \"display\".`\n",
    "\n",
    "If you target the \"display\" window from every link on the page, each linked document will open in the same second window. Unfortunately, if the second window says hidden behind the user's current window, it may look as though the link simply don not work. \n",
    "`"
   ]
  },
  {
   "cell_type": "markdown",
   "metadata": {},
   "source": [
    "#### Pop-up windows.\n",
    "It is possible to open a window with specific dimensions and various parts of the browser chrome(toolbars, scrollbars, etc.) turned on or off; However, it takes JavaScript to do it. These are known as pop-up windows, and they are commonly used for advertising.\n",
    "\n",
    "It's been popular that the browser has the preferences for turning them off completely.\n",
    "\n",
    "So that said, if you have a valid reason to open a new browser window at a soecific size, we have the toturial for pop-ups:\n",
    "[web](www.quirksmode.org/js/popup.html.)"
   ]
  },
  {
   "cell_type": "markdown",
   "metadata": {},
   "source": [
    "#### Mail Links\n",
    "for example:\n",
    "\n",
    "<a href=\"mailto:alklecker@example.com\">Contact Al Klecker</a>\n",
    "\n",
    "The browser has to be configured to launch a mail program, so the effect won't work for 100% of your audience.\n",
    "\n",
    "#### Telephone Links\n",
    "\n",
    "    <a href=\"tel:+18005551212\">Call us free at (800) 555-1212</a>\n",
    "    \n",
    "Keep in mind that the smartphone people are using to access your website can also be used to make phone calls.\n",
    "\n",
    "This feature is supported on most mobile devices, including iOS, Android, Blackberry, etc.. The iPad and iPad Touch can not make a phone call, but they will offer to create a new contact from the number. **Nothing happens when desktop users click the link, if that bothers you, you could use a CSS rule that hides the link for non-mobile devices.**\n",
    "\n",
    "Andorid and iPhone have a feature that detects phone numbers and automatically turns them into links. Unfortunately, some 10-digit numbers that are not telephone numbers might get turned into links too. If your document has strings of numebrs that might get confused as phone numbers, you can turn auto-detection off by including the following **meta** element in the **head** of your document.\n",
    "\n",
    "    <meta name=\"format-detection\" content=\"telephone=no\">\n",
    "    // For Blackberry devices, use the following:\n",
    "    <meta http-equiv=\"x-rim-auto-match\" content=\"none\">"
   ]
  },
  {
   "cell_type": "markdown",
   "metadata": {
    "collapsed": true
   },
   "source": [
    "### Chapter 7: Adding Images\n",
    "Images appear on web pages in two ways: embedded in the inline content or as background images. Background images are added using CSS, which we will be mentioned later.\n",
    "\n",
    "And we will focus on the embedded image content into the document using the *img* element."
   ]
  },
  {
   "cell_type": "markdown",
   "metadata": {},
   "source": [
    "In order to be displayed inline, images must be in the *GIF, JPEG, or PNG file format.* If you have a source image that is in another popular firmat, such as *TIFF, BMP, or EPS*, you will need to convert it to a web format before you can add it to the page. If, for some reason, you must keep your graphic file in its original format (for example, a file for a CAD program or an image in a vector format), you can make it available as an **external image** by making a link directly to the image file. Like this,\n",
    "    \n",
    "    <a href='architecture.eps'>Get the grawing</a> "
   ]
  },
  {
   "cell_type": "markdown",
   "metadata": {},
   "source": [
    "***using img***\n",
    "\n",
    "    <img src=\"tuesday.jpg\" alt=\"\">\n",
    "    \n",
    "- the *src* and *alt* attributes shown in the sample are required. The *src* attribute tells the browser the location of the image file. The *alt* attribute provides alternative text that displays if the image is not available. Thay are all required attributes.\n",
    "\n",
    "- **img** is the **replaced element**.\n",
    "\n",
    "src=\"URL\", take examples:\n",
    "\n",
    "    <img src=\"icon.gif\" alt=\"\">\n",
    "or\n",
    "    \n",
    "    <img src=\"/image/icon.gif\" alt=\"\">\n",
    "    \n",
    "or \n",
    "\n",
    "    <img src=\"http://www/example.com/images/icon.gif\" alt=\"\">"
   ]
  },
  {
   "cell_type": "markdown",
   "metadata": {},
   "source": [
    "Meanwhile, there are also two optional attributes: *width* and *hieght*, they indicate the dimensions of the image in number of pixels.\n",
    "\n",
    "    width=\"72\" height=\"144\"\n",
    "    \n",
    "Although it may be tempting to resize images in this manner, you should avoid doing do. Even though the images may appear small on the page. The large image with its corresponding large file size still needs to download. It is better to resize the image in an image-editing program and them place it at actual aize on the page. Not only that, but resizing with attributes usually results in a blurry and deformed image. In fact, if your images ever look fuzzy when viewed in a browser, the first thing to check is that the width and height values match the dimensions of the image exactly.\n",
    "\n",
    "You can also add contributes **usemap** and **title**:\n",
    "    \n",
    "    usemap = \"usemap\" // indicate a client-side image map\n",
    "    title = \"text\" // provides a \"tool tip\" when the user mouses over the image. Can be used for supplemental information about the image."
   ]
  },
  {
   "cell_type": "markdown",
   "metadata": {},
   "source": [
    "#### A Window in a Window\n",
    "Speaking of the *embedding* things, we'd like to talk about **iframe** element that lets you to embed a separated HTML document or other resource in a document.\n",
    "\n",
    "It is a floating or inline frame that displays the document with its own set of scrollbars if the embedded document is too long to fit.\n",
    "\n",
    "You place an inline frame on a page similarly to an image, specifying the **src** of its content as well as its width and height. The content in the **iframe** element itself displays on browsers that do not support the element.\n",
    "\n",
    "    <h1>Inline (floating) Frames</h1>\n",
    "    <iframe src=\"list.html\" width=\"400\" height=\"250\">\n",
    "    Your browser does not support inline frames.Read the <a href=\"list. html\">list</a>.\n",
    "    </iframe>\n",
    "    \n",
    "You don’t see inline frames much in the wild, but developers sometimes use them to keep third party content such as interactive ads or other widgets quarantined so they don’t interfere with the scripting and contents of the rest of the page."
   ]
  },
  {
   "cell_type": "code",
   "execution_count": null,
   "metadata": {
    "collapsed": true
   },
   "outputs": [],
   "source": []
  }
 ],
 "metadata": {
  "kernelspec": {
   "display_name": "Python 3",
   "language": "python",
   "name": "python3"
  },
  "language_info": {
   "codemirror_mode": {
    "name": "ipython",
    "version": 3
   },
   "file_extension": ".py",
   "mimetype": "text/x-python",
   "name": "python",
   "nbconvert_exporter": "python",
   "pygments_lexer": "ipython3",
   "version": "3.6.1"
  }
 },
 "nbformat": 4,
 "nbformat_minor": 2
}
