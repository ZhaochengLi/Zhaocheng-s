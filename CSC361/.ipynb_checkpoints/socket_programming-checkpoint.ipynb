{
 "cells": [
  {
   "cell_type": "markdown",
   "metadata": {},
   "source": [
    "## PART 1: Network Programming in python\n",
    "- *Network programming is a major use of python*\n",
    "- python standard library has wide support for network protocols, data encoding/decoding, and other things you need to make it work.\n",
    "- we can also program in C/C++, but it would be harder"
   ]
  },
  {
   "cell_type": "markdown",
   "metadata": {},
   "source": [
    "### This course focuses all necessary details of network programming in python\n",
    "- Low-level programming with sockets\n",
    "- High-level client modules\n",
    "- Way to deal with common data encodings\n",
    "- Simple web programming (HTTP)\n",
    "- Simple distributed computing"
   ]
  },
  {
   "cell_type": "markdown",
   "metadata": {},
   "source": [
    "Communication between computers through network is just sending/receiving bits.\n",
    "\n",
    "**Two main issues: addressing and data transport**\n",
    "- Addressing: specifying a remote computer and service\n",
    "    - Machines have a hostname and IP address\n",
    "    - Programs/services have port numbers\n",
    "    - ports for common services are preassigned, other port numbers may just be randomly assigned to programs by the operating system:\n",
    "    \n",
    "| port number | services |\n",
    "|-------------|----------|\n",
    "|21|FTP|\n",
    "|22|SSH|\n",
    "|23|Telnet|\n",
    "|25|SMTP(Mail)|\n",
    "|80|HTTP(Web)|\n",
    "|110|POP3(Mail)|\n",
    "|119|NNTP(News)|\n",
    "|443|HTTPS(web)|\n",
    "    \n",
    "- Data transport: moving bits back and forth\n",
    "    - use `netstat` to view active network connections\n",
    "    - there are two basic types of communication: TCP/UDP\n",
    "    - Streams(TCP): computers establish a connection with each other and read/write data in a continuous stream of bytes --- like a file. This is the most common.\n",
    "    - User Datagrams(UDP): computers send discrete packets(or messages) to each other. Each packet contains a colleciton of bytes, but each packet is separate and self-contained (independent?)"
   ]
  },
  {
   "cell_type": "markdown",
   "metadata": {},
   "source": [
    "**Connections**: each endpoint of a network connection is always represented by a host and port #, and you will write as a tuple (host, port): for example,\n",
    "```python\n",
    "(\"www.python.org\",80)\n",
    "(\"205.172.13.4\",443)\n",
    "```\n",
    "you use this convention to specify a network address for almost all of network programs\n",
    "\n",
    "**Client/Server Concept**: each endpoint is a running program, servers wait for incoming connections and provide a service (e.g., web, mail, etc.); clients make connectios to servers.\n",
    "\n",
    "**Request/Responce Cycle**: most network programs use a request/responce model based on messages. \n",
    "- Client sends a request message, e.g., http.\n",
    "            GET /index.html HTTP/1.1\n",
    "- Server sends back a response message \n",
    "            HTTP/1.0 200 OK\n",
    "            Content-type: text/html\n",
    "            Content-length: 48823\n",
    "            ...\n",
    "            <HTML>\n",
    "            ...\n",
    "- Notice that the exact format depends on the application\n",
    "\n",
    "**Telnet**: as a *debugging aid*, the telnet can be used to directly communicate with many services."
   ]
  },
  {
   "cell_type": "markdown",
   "metadata": {},
   "source": [
    "**Sockets: programming abstraction for network code**; A communication endpoint, supported by socket library module. And it allows connections to be made and data to be transmitted in either direction."
   ]
  },
  {
   "cell_type": "markdown",
   "metadata": {},
   "source": [
    "### Programming Sockets\n",
    "- Create a socket\n",
    "```python\n",
    "import socket\n",
    "a = socket.socket(addr_family, type)\n",
    "```\n",
    "- Address families:\n",
    "    - Internet protocol IPv4:\n",
    "```python\n",
    "socket.AF_INET\n",
    "```\n",
    "    - Internet protocol IPv6:\n",
    "```python\n",
    "socket.AF_INET6\n",
    "```\n",
    "- Socket types:\n",
    "    - Connection based stram (TCP)\n",
    "```python\n",
    "socket.SOCK_STREAM \n",
    "```\n",
    "    - Datagram (UDP)\n",
    "```python\n",
    "socket.SOCK_DGRAM\n",
    "```\n",
    "- Examples:\n",
    "```python\n",
    "from socket import *\n",
    "s = socket(AF_INET,SOCK_STREAM)\n",
    "```\n",
    "- Almost all code will use one of the following:\n",
    "```python            \n",
    "from socket import *\n",
    "s = socket(AF_INET,SOCK_STREAM) (*this is the most common cases)\n",
    "s = socket(AF_INET,SOCK_DGRAM)\n",
    "```"
   ]
  },
  {
   "cell_type": "markdown",
   "metadata": {
    "collapsed": true
   },
   "source": [
    "### TCP Client\n",
    "- Make an ongoing connection\n",
    "```python\n",
    "form socket import *\n",
    "s = socket(AF_INET,SOCK_STREAM)\n",
    "s.connect((\"info.cern.ch\",80)) #Connect\n",
    "s.send(\"GET /index.html HTTP/1.0\\n\\n\") #Send request\n",
    "data = s.recv(10000) #Get response\n",
    "s.close()\n",
    "```\n",
    "    - `s.connect(addr)` makes a connection, and the address must be a tuple.\n",
    "    - once connected, use `send()`, `recv()` to transmit and receive data.\n",
    "    - `s.close()` shuts down the connection.\n",
    "    - use python instead of interactively using Python shell, create a python program such as client.py and run as `python client.py`. *You may get a socket error otherwise.*"
   ]
  },
  {
   "cell_type": "markdown",
   "metadata": {
    "collapsed": true
   },
   "source": [
    "### Server implementation\n",
    "- More tricky; You must listen for incoming connections on well-known port number.\n",
    "- Typically **run forever in a server-loop**\n",
    "- May have serve multiple clients"
   ]
  },
  {
   "cell_type": "markdown",
   "metadata": {
    "collapsed": true
   },
   "source": [
    "### TCP Server\n",
    "- A simple server:\n",
    "```python           \n",
    "from socket import *\n",
    "s=socket(AF_INET,SOCK_STREAM)\n",
    "s.bind((\"\",9000)) #bind sthe socket to a specific address\n",
    "s.listen(5) #tell operating system to start listening for connections on the socket\n",
    "while True:\n",
    "    c,a=s.accept() #accept a new client connection\n",
    "    print \"Received connection from\", a\n",
    "    c.send(\"Hello %s\\n\" % a[0])  #SERVER MESSAGE,\n",
    "    c.close() # clise CLIENT connection\n",
    "```  \n",
    "    - `s.bind((\"\",9000))` binds to the local host\n",
    "    - `s.bind((\"localhost\",9000))`\n",
    "    - `s.bind((\"192.168.2.1\",9000))`\n",
    "    - `s.bind((\"104.21.4.2\",9000))`, if the system has multiple IP addresses, can bind to a specific address\n",
    "    - `s.listen(backlog)`, where backlog is # of pending connections to allow. **Notes: it is not related to max number of clients**.\n",
    "    - `s.accept()` blocks until the connection received. Serve slleps if nothing is happening.\n",
    "    - `c, a = s.accept()` returns a pair (client_socket,addr);\n",
    "        - `c` is a new socket used for data, such as\n",
    "                <socket._socketobject object at 0x3be30>\n",
    "        - `a` is the **network/port address of the client that connected**, such as\n",
    "                (\"104.23.11.4\",27743)\n",
    "        - `c.send(\"Hello %s\\n\" % a[0])` sends data to client; it uses the client socket for transmitting data. **The server socket is only used for accepting new connections**.\n",
    "        - `c.close()`. Server can **never** keep client connection alive as long as it wants.\n",
    "        - Can repeatedly receive/send data.\n",
    "        - `c, a = s.accept()` always waits for the next connection. After each while-loop, the original server socket is reused to listen for more connections. Server runs forever in a loop like this.\n",
    "\n",
    "and it will send a message back to a client\n",
    "```\n",
    "% telnet localhost 9000\n",
    "Connected to localhost.\n",
    "Escape character is '^]'.\n",
    "Hello 127.0.0.1                *SERVER MESSAGE\n",
    "Connection closed by foreign host.\n",
    "%\n",
    "```"
   ]
  },
  {
   "cell_type": "markdown",
   "metadata": {
    "collapsed": true
   },
   "source": [
    "### Advanced Sockets\n",
    "- Socket programming is often a mess\n",
    "- Huge number of options\n",
    "- Many corner cases\n",
    "- Many failure modes/reliability issues\n",
    "- Will briefly cover a few critical issues\n",
    "\n",
    "#### Partial Reads/Writes\n",
    "- the reading/writing to a socket may involve partial data transfer.\n",
    "    - `send()` returns the actual bytes sent\n",
    "    - `recv()` length is only a maximum limit\n",
    "```python\n",
    "    >>> len(data)\n",
    "    1000000\n",
    "    >>> s.send(data)\n",
    "    37722 # sent partial data\n",
    "    >>>\n",
    "    \n",
    "    >>> data = s.recv(10000) # max length\n",
    "    >>> len(data)\n",
    "    6420 # received less then max\n",
    "    >>>\n",
    "```\n",
    "- For TCP, the data stream is **continuous** --- no concept of records, etc.\n",
    "```python\n",
    "    # Client\n",
    "    ...\n",
    "    s.send(data)\n",
    "    s.send(moredata)\n",
    "    ...\n",
    "    \n",
    "    # Server\n",
    "    ...\n",
    "    data = a.recv(maxsize) # this recv() may return data from both of the sends combined or less data than even the first send.\n",
    "    ...\n",
    "    \n",
    "    # Notice that the #send's is not equal to #recv's, but len(#bytes sent) = len(#bytes recv'd)\n",
    "```\n",
    "- **A lot depends on OS buffers, network bandwidth, congestion, etc**.\n",
    "\n",
    "#### Sending all data\n",
    "- To wait until all data is sent, use sendall()\n",
    "```python\n",
    "s.sendall()\n",
    "```\n",
    "    - **it blocks until all data is transmitted**\n",
    "    - **this is what you should use for most normal applications**\n",
    "    - **Excaption: you do not use this if networking is mixed in with other kinds of processing(e.g, screen updates, multitasking, etc.)**\n",
    "    \n",
    "- When there is no more data, the `recv()` will return empty string\n",
    "```python\n",
    ">>> s.recv(1000)\n",
    "''\n",
    ">>>\n",
    "```\n",
    "- This means that the other end of the connection has been closed (no more data)"
   ]
  },
  {
   "cell_type": "markdown",
   "metadata": {},
   "source": [
    "### Data Reassembly\n",
    "- Receivers often need to reassemble messages from a series of small chunks\n",
    "- Here is a programming template:\n",
    "```python\n",
    "fragments=[] # list of chunks\n",
    "while not done:\n",
    "    chunk = s.recv(maxsize) # get a chunk\n",
    "    if not chunk:\n",
    "        break #EOF. No more data\n",
    "    fragments.append(chunk)\n",
    "# Reassemble the message\n",
    "message = \"\".join(fragments)\n",
    "```\n",
    "- Do not use **string concat(+=)**. It is *slow*\n",
    "\n",
    "### Timeouts\n",
    "- Most sockets operations block indefinitely\n",
    "- Can set an optional timeout\n",
    "```python\n",
    "s = socket(AF_INET, SOCK_STREAM)\n",
    "...\n",
    "s.settimeout(5.0) # 5 seconds timeout\n",
    "...\n",
    "```\n",
    "- It will get a timeout exception:\n",
    "```python\n",
    ">>> s.recv(1000)\n",
    "Traceback (most recent call last):\n",
    "    File \"<stdin>\", line 1, in <module>\n",
    "socket.timeout: timed out\n",
    ">>>\n",
    "```\n",
    "\n",
    "- Disabling timeouts:\n",
    "```python\n",
    "s.settimeout(None)\n",
    "```"
   ]
  },
  {
   "cell_type": "markdown",
   "metadata": {},
   "source": [
    "### Odds and Ends\n",
    "- Other supported socket types\n",
    "    - Datagram (UDP) sockets\n",
    "    - Unix domain sockets\n",
    "    - Raw sockets/packets\n",
    "- Sockets and concurrency\n",
    "- Useful utility functions\n",
    "\n",
    "### UDP: Datagram\n",
    "- Data sent in discrete packets (Datagrams)\n",
    "- No concept of a \"connection\"\n",
    "- No reliability, no ordering of data\n",
    "- Datagrams may be lost. arrive in any order\n",
    "- **Higher performance**(WHY?) (used in games, etc.)\n",
    "\n",
    "### UDP Server\n",
    "- A simple datagram server:\n",
    "```python\n",
    "from socket import *\n",
    "s=socket(AF_INET, SOCK_DGRAM) # create datagram socket\n",
    "s.bind((\"\",10000)) # bind a specific port\n",
    "while True:\n",
    "    data, addr = a.recvfrom(maxsize) # wait for a message\n",
    "    resp = \"GET off my lawn\"\n",
    "    s.sendto(resp, addr) # send response (optional)\n",
    "```\n",
    "- No \"connection\" is estabilished\n",
    "- It just sends and receives packets\n",
    "\n",
    "### UDP Client\n",
    "-Sending a datagram to a server:\n",
    "```python\n",
    "from socket import *\n",
    "s=socket(AF_INET, SOCK_DGRAM)\n",
    "msg = \"Hello World\"\n",
    "s.sendto(msg, (\"sever.com\",10000)) # send a message\n",
    "data, addr = s.recvfrom(maxsize) # wait for a response (optional); data-returned data; addr-remote address.\n",
    "```\n",
    "- Key concept: No \"connection\"\n",
    "- You just send a data packet"
   ]
  },
  {
   "cell_type": "markdown",
   "metadata": {},
   "source": [
    "### UNIX Domain Sockets\n",
    "- Available on Unix based systems. Sometimes used for fast IPC or pipes between processes\n",
    "- Creation:\n",
    "```python\n",
    "s = socket(AF_UNIX, SOCK_STREAM)\n",
    "s = socket(AF_UNIX, SOCK_DGRAM)\n",
    "```\n",
    "- Address is just a filename:\n",
    "```python\n",
    "s.bind(\"/tmp/foo\") # Server binding\n",
    "s.connect(\"/tmp/foo\") # Client connection\n",
    "```\n",
    "- Rest of the peogramming interface is the same."
   ]
  },
  {
   "cell_type": "markdown",
   "metadata": {
    "collapsed": true
   },
   "source": [
    "## PART 2: TCP socket programming in python "
   ]
  },
  {
   "cell_type": "markdown",
   "metadata": {},
   "source": [
    "### SOCKETS: \n",
    "*are the fundamental \"things\" behind any kind of network communications done by your computer. When you type \"www.google.com\" in your web browser, it opens a socket and connects to google.com to fetch the page and show it to you. Same with any chat client like gtalk or skype. Any network communication goes through a socket. *"
   ]
  },
  {
   "cell_type": "markdown",
   "metadata": {},
   "source": [
    "#### this following tutorial only cover the content that are not covered above\n",
    "\n",
    "## Client socket: connect to a server to fetch data"
   ]
  },
  {
   "cell_type": "markdown",
   "metadata": {},
   "source": [
    "### Error handling (1. Create)\n",
    "- If any of the socket functions fail then python throws an exception called socket.error which must be caught.\n",
    "```python\n",
    "# handling error in python socket programs\n",
    "import socket\n",
    "import sys #for exit\n",
    "try:\n",
    "    #create an AF_INET, STREAM socket (TCP)\n",
    "    s = socket.socket(socket.AF_INET, socket.SOCK_STREAM)\n",
    "except socket.error, msg:\n",
    "    print 'Failed to create socket. Error code: '+ str(msg[0]) + sys.exit();\n",
    "print 'Socket Created'\n",
    "```"
   ]
  },
  {
   "cell_type": "markdown",
   "metadata": {},
   "source": [
    "### 2. Connect\n",
    "- get the IP address of the desired web server and connect\n",
    "```python\n",
    "import socket\n",
    "import sys #for exit\n",
    "try:\n",
    "    #create an AF_INET, STREAM socket (TCP)\n",
    "    s = socket.socket(socket.AF_INET, socket.SOCK_STREAM)\n",
    "except socket.error, msg:\n",
    "    print 'Failed to create socket. Error code: '+ str(msg[0]) + sys.exit();\n",
    "print 'Socket Created'\n",
    "host='www.google.com'\n",
    "port=80\n",
    "try:\n",
    "    rmeote_ip=socket.gethostbyname(host)\n",
    "except socket.gaierror:\n",
    "    #could not resolve\n",
    "    print 'Hostname could not be resolved. Exiting'\n",
    "    sys.exit()\n",
    "print \"IP address of \"+host+\" is \"+remote_ip\n",
    "#CONNECT to remote server\n",
    "s.connect((remote_ip,port))\n",
    "print 'Socket Connected to '+host+' on ip '+remote_ip\n",
    "```\n",
    "- It creates a socket and then connects. Try connecting to a port different from port 80 and you should not be able to connect which indicates that the port is not open for connection."
   ]
  },
  {
   "cell_type": "markdown",
   "metadata": {},
   "source": [
    "### 3. Send data to the server: *sendall()*\n",
    "the concept of \"connections\" applys to SOCK_STREAM/TCP type of sockets. Connection means a reliable \"stream\" of data such that there can be multiple such streams each having communication of its own. Think of this as a pipe which is not interfered by data from other pipe. Another important property of stream connections is that packets have an \"order\" or \"sequence\"\n",
    "\n",
    "Other sockets like UDP, ICMP, ARP does's have such concept of \"connection\". THese are non-connection based communication. Which means you keep sending or receiving packets *from anybody and everywhere*.\n",
    "\n",
    "- to continue from above:\n",
    "```python\n",
    "message = \"GET / HTTP/1.1\\r\\r\\n\\r\\n\"\n",
    "try:\n",
    "    #set the whole string\n",
    "    s.sendall(message) #simply send the data\n",
    "except socket.error:\n",
    "    #send failed\n",
    "    print 'send filed'\n",
    "    sys.exit()\n",
    "print 'Message send successfully'\n",
    "```\n",
    "- We firstly connect to an IP address and then send the string message to it. **The message is actually an 'http command' to fetch the mainpage of a website**."
   ]
  },
  {
   "cell_type": "markdown",
   "metadata": {},
   "source": [
    "### Receive data from the server: *recv()*\n",
    "- from above:\n",
    "```python\n",
    "# now receive data\n",
    "reply = s.recv(4096)\n",
    "print reply\n",
    "```\n",
    "\n",
    "### Close socket: *close()*\n",
    "- from above\n",
    "```python\n",
    "s.close()\n",
    "```"
   ]
  },
  {
   "cell_type": "markdown",
   "metadata": {},
   "source": [
    "#### Basically, we learn how to build up TCP client socket:\n",
    "1. Create a socket\n",
    "2. Connect to remote server\n",
    "3. Send some data;\n",
    "4. Receive a reply\n",
    "\n",
    "##### Be aware that your web browser does the same thing when you open a website and browse."
   ]
  },
  {
   "cell_type": "markdown",
   "metadata": {},
   "source": [
    "## Server socket:\n",
    "Use socket to receive incoming connections and provide them with data. It is just the opposite of client. e.g., `www.google.com` is a (http) server and your browser is a (http) client. \n",
    "\n",
    "- To program a server socket:\n",
    "    1. open a socket\n",
    "    2. bind to a address, port\n",
    "    3. listen for incoming connections\n",
    "    4. accept connections\n",
    "    5. read/send"
   ]
  },
  {
   "cell_type": "markdown",
   "metadata": {},
   "source": [
    "### 1. Create socket & 2. Bind a socket: *bind()*\n",
    "- to be used to bind a socket to a particular address and port.\n",
    "- bind() defines **the local port and interface address for the connectionz**.\n",
    "\n",
    "```python\n",
    "import socket\n",
    "import sys\n",
    "HOST='' # symbolic name meaning all available interfaces\n",
    "PORT=8888 # arbitrary non-privileged port\n",
    "s=socket.socket(socket.AF_INET, socket.SOCK_STREAM)\n",
    "print 'socket created'\n",
    "try:\n",
    "    s.bind((HOST,PORT))\n",
    "except socket.error, msg:\n",
    "    print 'Bind fialed. Error Code: ' + str(msg[0]) + ' message ' + sys.exit()\n",
    "print('socket bind complete')\n",
    "```\n",
    "- after binding, the server wait for connection(s). We bind a socket to a particular IP address and a certain port number. By doing this we ensure that all incoming data which is desired towards this port number is received by this application.\n",
    "- it is now obvious that you cannot have 2 sockets bound to the same port. There are exceptions to this rule but we shall look into that in some other article."
   ]
  },
  {
   "cell_type": "markdown",
   "metadata": {},
   "source": [
    "### 3. Listen for incoming connections: *listen()*\n",
    "- put the socket into listen mode\n",
    "```python\n",
    "s.listen(10) # the socket is now listening for connections\n",
    "```\n",
    "- the parameter is called backlog. It controls the number of incoming connections that are kept \"waiting\" if the program is already busy. So by sprcifying `10`, it means that if 10 connections are already waiting to be processed, **the the 11th connection request hall be rejected**. This will be more clear after checking `socket_accept`.\n",
    "\n",
    "### 4. Aceepting new connection: *accept()*\n",
    "- from above:\n",
    "```python\n",
    "# wait to accept a connection -blocking call\n",
    "conn, addr = s.accept()\n",
    "#display client info; addr=(ip,port)\n",
    "print 'Connected with ' + addr[0] + ':' + str(addr[1])\n",
    "```\n"
   ]
  },
  {
   "cell_type": "markdown",
   "metadata": {},
   "source": [
    "### 5. Reply to the client: *sendall()*\n",
    "- from above,\n",
    "```python\n",
    "#now keep talking with the client\n",
    "data = conn.recv(1024)\n",
    "conn.sendall(data)\n",
    "conn.close()\n",
    "s.close()\n",
    "```\n",
    "- NOTICE that the server terminate as we accept connection and reply, but a server is supposed to be non-stop running.\n",
    "\n",
    "### 6. Live Server:\n",
    "- rewrite part above:\n",
    "```python\n",
    "# now keep talking with the client\n",
    "while 1:\n",
    "    #wait to accept a connection - blocking call\n",
    "    conn, addr = s.accept()\n",
    "    print 'Connected with '+addr{0} + \":\" + str(addr[1])\n",
    "    data = conn.recv(1024)\n",
    "    reply = 'OK...'+ data\n",
    "    if not data:\n",
    "        break\n",
    "    connec.sendal(reply)\n",
    "conn.closed()\n",
    "s.close()\n",
    "```"
   ]
  },
  {
   "cell_type": "markdown",
   "metadata": {},
   "source": [
    "#### So far so good, but still \n",
    "1. there is **not eefective communication between the server and the client**. The server program accepts connections in a loop and just send them a reply, after that it does nothing with them.\n",
    "\n",
    "2. Also it is not able to handle more than 1 connection at a time . So now its time to handle the connections, and handle multiple connections **together**"
   ]
  },
  {
   "cell_type": "markdown",
   "metadata": {},
   "source": [
    "### 7. Handle connections: threads\n",
    "- modified:\n",
    "```python\n",
    "...\n",
    "s.listen(10)\n",
    "print('Socket now listening')\n",
    "# functions for handling connections, this will be used to create threads \n",
    "def clientthread(conn):\n",
    "    #send message to connected client \n",
    "    conn.send(\"Welcome to the server. Type something and hit enter\")\n",
    "    #infinite loop so that function do not dominate and thread do not end\n",
    "    while True:\n",
    "        #receiving from client\n",
    "        data = conn,recv(1024)\n",
    "        reply = 'OK... '+data\n",
    "        if not data:\n",
    "            break\n",
    "        conn.sendall(reply)\n",
    "    #came out of loop\n",
    "    conn.close()\n",
    "#now keep talking with the client\n",
    "while 1:\n",
    "    #wait to accept a connection - blocking call\n",
    "    conn, addr = s.accept()\n",
    "    print 'Connected with '+addr[0]+':'+str(addr[1])\n",
    "    #start new thread takes 1st argument as a function name to be run, second is the tuple of arguments to the function.\n",
    "    start_new_thread(clientthread, (conn,)\n",
    "s.close()\n",
    "```"
   ]
  },
  {
   "cell_type": "markdown",
   "metadata": {},
   "source": [
    "### Now we have a server that communicate."
   ]
  },
  {
   "cell_type": "markdown",
   "metadata": {},
   "source": [
    "#### Compare `s.send()` and `s.sendall()`:\n",
    "`socket.send()` is a low-level method and basically just the C/syscall method. It can send less bytes than you requested, but returns the number of bytes sent.\n",
    "\n",
    "`socket.sendall()` is a high-level Python-only method that sends the entire buffer you pass or throws an exception. **It does that by calling `socket.send()` until everything has been sent or an error occurs**.\n",
    "\n",
    "If you're using TCP with blocking sockets and don't want to be bothered by internals (this is the case for most simple network applications), use sendall.\n",
    "\n",
    "And python docs:\n",
    ">Unlike send(), this method continues to send data from string until either all data has been sent or an error occurs. None is returned on success. On error, an exception is raised, and there is no way to determine how much data, if any, was successfully sent"
   ]
  },
  {
   "cell_type": "code",
   "execution_count": null,
   "metadata": {
    "collapsed": true
   },
   "outputs": [],
   "source": []
  }
 ],
 "metadata": {
  "kernelspec": {
   "display_name": "Python 3",
   "language": "python",
   "name": "python3"
  },
  "language_info": {
   "codemirror_mode": {
    "name": "ipython",
    "version": 3
   },
   "file_extension": ".py",
   "mimetype": "text/x-python",
   "name": "python",
   "nbconvert_exporter": "python",
   "pygments_lexer": "ipython3",
   "version": "3.6.1"
  }
 },
 "nbformat": 4,
 "nbformat_minor": 2
}
