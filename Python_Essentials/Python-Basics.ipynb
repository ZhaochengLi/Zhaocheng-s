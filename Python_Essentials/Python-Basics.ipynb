{
 "cells": [
  {
   "cell_type": "markdown",
   "metadata": {},
   "source": [
    "#### 1. Notes about booleans and logical operators:\n",
    "- The boolean type:\n",
    "    - `False` and `True`, many functions and operations returns boolean objects.\n",
    "    - the `not` keyword ls also used to inverse a boolean type.\n",
    "```python\n",
    ">>>not true\n",
    "false\n",
    "```\n",
    "- So what can be eveluated as `false`?\n",
    "    - **Every object has a boolean value**, and the following elements are seen as `false`:\n",
    "        1. `None`\n",
    "        2. `False`\n",
    "        3. `0`, whatever type from integer, float to complex\n",
    "        4. Empty collecitons: \"\", (), []，{}\n",
    "        5. Obejcts from classes that have the special method`__nonzero__`\n",
    "        6. Objects from classes that implements `__len__` to return `False` or `zero`.\n",
    "\n",
    "Example:\n",
    "```python\n",
    ">>> class A():\n",
    "...     def __len__(self):\n",
    "...         return 0\n",
    "...\n",
    ">>> class B():\n",
    "...     def __nonzero__(self):\n",
    "...         return 0\n",
    "...\n",
    ">>> a = A()\n",
    ">>> bool(a)\n",
    "False\n",
    ">>> b = B()\n",
    ">>> bool(b)\n",
    "False\n",
    "```\n",
    "**All other objects are evaluated as TRUE**   "
   ]
  },
  {
   "cell_type": "markdown",
   "metadata": {},
   "source": [
    "#### 2. Operations"
   ]
  },
  {
   "cell_type": "code",
   "execution_count": 20,
   "metadata": {},
   "outputs": [
    {
     "name": "stdout",
     "output_type": "stream",
     "text": [
      "34\n",
      "[1, 2, 3, 4, 5, 4, 5, 6, 6]\n",
      "5\n",
      "21\n",
      "asbuffjava\n",
      "as>>buff>>java\n",
      "False\n",
      "4384115392 4384115744\n",
      "4384115392 True\n"
     ]
    }
   ],
   "source": [
    "A=23\n",
    "B=34\n",
    "C=[1,2,3,4,5]\n",
    "D=[4,5,6,6]\n",
    "E=[\"as\",\"buff\",\"java\"]\n",
    "\n",
    "#max\n",
    "print(max(A,B))\n",
    "\n",
    "#list operations\n",
    "print(C+D)\n",
    "print(max(C))\n",
    "print(sum(D))\n",
    "print(''.join(E))#only to string lists\n",
    "print('>>'.join(E))\n",
    "\n",
    "#\"is\" and \"==\", `is` is identify testing, `==` is equality testing.\n",
    "print(A is B)\n",
    "print(id(A),id(B))\n",
    "F=A\n",
    "print(id(F), F is A)"
   ]
  },
  {
   "cell_type": "code",
   "execution_count": null,
   "metadata": {
    "collapsed": true
   },
   "outputs": [],
   "source": []
  }
 ],
 "metadata": {
  "kernelspec": {
   "display_name": "Python 3",
   "language": "python",
   "name": "python3"
  },
  "language_info": {
   "codemirror_mode": {
    "name": "ipython",
    "version": 3
   },
   "file_extension": ".py",
   "mimetype": "text/x-python",
   "name": "python",
   "nbconvert_exporter": "python",
   "pygments_lexer": "ipython3",
   "version": "3.6.1"
  }
 },
 "nbformat": 4,
 "nbformat_minor": 2
}
