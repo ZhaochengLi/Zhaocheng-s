{
 "cells": [
  {
   "cell_type": "markdown",
   "metadata": {},
   "source": [
    "## 1. Introduction((Leetcode Tutorial)[https://leetcode.com/explore/])\n",
    ">A tree is a frequently-used data structure to simulate a hierarchical tree structure."
   ]
  },
  {
   "cell_type": "markdown",
   "metadata": {},
   "source": [
    "For a **Tree**\n",
    "- Each node will have a root value, and references to other nodes which are called child nodes.\n",
    "- From the graph view, trees can also be defined as a directed acyclic graph\n",
    "- Possessing n node, and thus n-1 edges\n",
    "\n",
    "Moreover, for a **Binary tree**:\n",
    "- each node has **at most two children**, referred as left child and right child."
   ]
  },
  {
   "cell_type": "markdown",
   "metadata": {},
   "source": [
    "## 2. Traversal\n",
    "- For traversing a tree:\n",
    "\n",
    "Algorithm |Pre-order Traversal | In-order Traversal | Post-oeder Traversal\n",
    "---|---|---|---\n",
    "Order | root->lefttree->righttree | lefttree->root->righttree | lefttree->righttree->root\n",
    "Usage ||For Binary Search Tree when retrieve all data in sorted order | 1. The node deletion process is following the post-ordre, deleting left and right nodes first, then root; 2. Mathematical expression showing priorities\n",
    "\n",
    "- We need to implement them using *Recursion/Iteration*"
   ]
  },
  {
   "cell_type": "markdown",
   "metadata": {},
   "source": [
    "For a binary tree A:\n",
    "                \n",
    "                F               \n",
    "               / \\            \n",
    "              B   G\n",
    "             / \\   \\\n",
    "            A   D   I\n",
    "               / \\ /\n",
    "              C  E H\n",
    "Thus for each traversal:\n",
    "\n",
    "Traversal |\n",
    "----------|---|---|---|---|---|---|---|---|---\n",
    "Pre-order | F | B | A | D | C | E | G | I | H \n",
    "In-order  | A | B | C | D | E | F | G | H | I\n",
    "Post-order| A | C | E | D | B | H | I | G | F\n"
   ]
  },
  {
   "cell_type": "markdown",
   "metadata": {},
   "source": [
    "- There is another type of traversal: level-order traversal\n",
    "- Meaning to traverse the tree *LEVEL-BY-LEVEL*\n",
    "> The **Breadth-First Search** is an algorithm to search or traverse in data structure such as tree or graph. The algorithm starts with and visits the root first, then traverse its neighbors, then its second level neighbors, then the second level neighbors, so on and so on.\n",
    "\n",
    "- When we use BFS to traverse a tree, the nodes are listed in level order. The **return value** is the **level order** traversal of its nodes' value. Given the example above, the solution is\n",
    "```\n",
    "[[F],\n",
    " [B,G],\n",
    " [A,D,I],\n",
    " [C,E,H]\n",
    "]\n",
    "```\n",
    "- Typically, we use a queue to help use to do BFS."
   ]
  },
  {
   "cell_type": "markdown",
   "metadata": {},
   "source": [
    "- Recursive algorithms of solve tree problems: e.g., max. depth\n",
    "    - TOP-DOWN sols\n",
    "        - In general, in each recursion level, we will visit the node first to come up wiht some values, and pass these values to its children when calling the function recursively.\n",
    "        - In this case, since we will know the depth of each node we visit, and natualy so do its children's. Then if we pass the depth of the node as a parameter when calling the function recursively, all the nodes know the depth of themselves. **And for leaf nodes, we can use the depth to update the final answer.**\n",
    "    - BOTTOM-UP sols\n",
    "        - In general, in each recurion level, we will firstly call the functions recursively for all the children nodes and then come up with the answer according to the return values and the value of the root node itself.\n",
    "        - If we know the maximum depth `l` of the subtree rooted at its left child and the maximum depth `r` of the subtree rooted at its right child, then we can choose the maximum between them and plus 1 to get the mex. depth of the subtree rooted at the selected node. A.K.A.,**for each node, we can get the answer after solving the problem of its children**."
   ]
  },
  {
   "cell_type": "markdown",
   "metadata": {},
   "source": [
    "## 3. Solutions"
   ]
  },
  {
   "cell_type": "markdown",
   "metadata": {},
   "source": [
    "## 4. Solution evaluation and comparation--running time analysis"
   ]
  },
  {
   "cell_type": "code",
   "execution_count": null,
   "metadata": {
    "collapsed": true
   },
   "outputs": [],
   "source": []
  }
 ],
 "metadata": {
  "kernelspec": {
   "display_name": "Python 3",
   "language": "python",
   "name": "python3"
  },
  "language_info": {
   "codemirror_mode": {
    "name": "ipython",
    "version": 3
   },
   "file_extension": ".py",
   "mimetype": "text/x-python",
   "name": "python",
   "nbconvert_exporter": "python",
   "pygments_lexer": "ipython3",
   "version": "3.6.1"
  }
 },
 "nbformat": 4,
 "nbformat_minor": 2
}
