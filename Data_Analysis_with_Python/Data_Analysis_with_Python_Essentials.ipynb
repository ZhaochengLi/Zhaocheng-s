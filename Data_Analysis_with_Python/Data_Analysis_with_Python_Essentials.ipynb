{
 "cells": [
  {
   "cell_type": "markdown",
   "metadata": {},
   "source": [
    "### Data Analysis Essentials: A Open-Source Package for Data Analysis Learning."
   ]
  },
  {
   "cell_type": "markdown",
   "metadata": {},
   "source": [
    "#### What is Data Analysis?"
   ]
  },
  {
   "cell_type": "markdown",
   "metadata": {},
   "source": [
    "1. We have a set of data. [`Collect`]\n",
    "2. We process them, organize them into produciable format. [`Process`]\n",
    "3. We analyze them, study them by all means, statistically, mathematically, or visually. The goal is to extract outcomes from data, to illustrate, simulate the topic of interest, eventually to benefit from it. [`Analysis`]"
   ]
  },
  {
   "cell_type": "markdown",
   "metadata": {},
   "source": [
    "#### Why would I want to do this?"
   ]
  },
  {
   "cell_type": "markdown",
   "metadata": {},
   "source": [
    "Data Analysis, along with AI, machine learning, are all the new fantasy industries in this decade, but be aware, those broad terminologies are sometimes just to vague, and the background knowledge begind them are things we care most in this chapter. \n",
    "\n",
    "For example, how can we get data? Except from online, we can get it by conducting a survey ourself, but how do you know in what degree, your data, or your survey is believable? We applied statistics means on Survey sampling. After getting data? How do we process it?\n",
    "\n",
    "In a nutshell, no matter DA, AI, or MI, the cores are all about mathematics and statistics. Programming languages are important too but it is merely stairs for you to access to them. The true soil, the true foundation under the tower of Data Analysis & AI & Machine Learning.\n",
    "\n",
    "**We will start from recalling and reprocessing lectures notes of my related courses as warm-up, after that, we will make our new project to explore.**"
   ]
  },
  {
   "cell_type": "markdown",
   "metadata": {
    "collapsed": true
   },
   "source": [
    "I will spend the majority time with the classic book *Data Science from Scratch - First Principles with Python*\n",
    "\n",
    "![book](./source/images/DataScienceText.jpg)"
   ]
  },
  {
   "cell_type": "markdown",
   "metadata": {},
   "source": [
    "In general, this text tell two parts: ***skills in Python Programming and in Machine Learning.***"
   ]
  },
  {
   "cell_type": "markdown",
   "metadata": {},
   "source": [
    "## Notes and Summary"
   ]
  },
  {
   "cell_type": "markdown",
   "metadata": {},
   "source": [
    "### Chapter one: Introduction"
   ]
  },
  {
   "cell_type": "markdown",
   "metadata": {},
   "source": [
    "#### Data Science???\n",
    "- It lies at the intersection of *Hacking Skills*, *Math and Stats knowledge* and *Substantive expertise*.\n",
    "\n",
    "This book is gonna focus on first two parts.\n",
    "\n",
    "- There is also a saying, a data scientist is someone who extracts insights from messy data."
   ]
  },
  {
   "cell_type": "markdown",
   "metadata": {},
   "source": [
    "one thing about ***dict*** data type is that it is easy to augment them with extra data.\n",
    "\n"
   ]
  },
  {
   "cell_type": "markdown",
   "metadata": {},
   "source": [
    "### A crash course in Python\n",
    "\n",
    "#### The Basics"
   ]
  },
  {
   "cell_type": "markdown",
   "metadata": {},
   "source": [
    "- Use Python from [python.prg](https://www.python.org/)\n",
    "- Alternatively, install it with *Anaconda Distribution*.\n",
    "- *pip* is a Python package manager that allows you to easily install third-party packages\n",
    "- IPython, another Python shell to work with."
   ]
  },
  {
   "cell_type": "markdown",
   "metadata": {},
   "source": [
    "#### The Zen of Python\n",
    "- It is a description of its design principles, you can chack it out by typing ***import this***"
   ]
  },
  {
   "cell_type": "code",
   "execution_count": 1,
   "metadata": {},
   "outputs": [
    {
     "name": "stdout",
     "output_type": "stream",
     "text": [
      "The Zen of Python, by Tim Peters\n",
      "\n",
      "Beautiful is better than ugly.\n",
      "Explicit is better than implicit.\n",
      "Simple is better than complex.\n",
      "Complex is better than complicated.\n",
      "Flat is better than nested.\n",
      "Sparse is better than dense.\n",
      "Readability counts.\n",
      "Special cases aren't special enough to break the rules.\n",
      "Although practicality beats purity.\n",
      "Errors should never pass silently.\n",
      "Unless explicitly silenced.\n",
      "In the face of ambiguity, refuse the temptation to guess.\n",
      "There should be one-- and preferably only one --obvious way to do it.\n",
      "Although that way may not be obvious at first unless you're Dutch.\n",
      "Now is better than never.\n",
      "Although never is often better than *right* now.\n",
      "If the implementation is hard to explain, it's a bad idea.\n",
      "If the implementation is easy to explain, it may be a good idea.\n",
      "Namespaces are one honking great idea -- let's do more of those!\n"
     ]
    }
   ],
   "source": [
    "import this"
   ]
  },
  {
   "cell_type": "markdown",
   "metadata": {},
   "source": [
    "#### Whitespace formatting\n",
    "- Instead of using curly braces to delimit blocks of code. Python use indentation.\n",
    "- It is very important because it makes code not only running correctly but readable."
   ]
  },
  {
   "cell_type": "code",
   "execution_count": 2,
   "metadata": {},
   "outputs": [
    {
     "ename": "SyntaxError",
     "evalue": "Missing parentheses in call to 'print' (<ipython-input-2-8cb793e91720>, line 5)",
     "output_type": "error",
     "traceback": [
      "\u001b[0;36m  File \u001b[0;32m\"<ipython-input-2-8cb793e91720>\"\u001b[0;36m, line \u001b[0;32m5\u001b[0m\n\u001b[0;31m    print i\u001b[0m\n\u001b[0m          ^\u001b[0m\n\u001b[0;31mSyntaxError\u001b[0m\u001b[0;31m:\u001b[0m Missing parentheses in call to 'print'\n"
     ]
    }
   ],
   "source": [
    "# it can happen sometimes\n",
    "for i in [1,2,3]:\n",
    "    \n",
    "    # notice the blank like\n",
    "    print i"
   ]
  },
  {
   "cell_type": "markdown",
   "metadata": {},
   "source": [
    "***Because the blank line makes the interpreter thinking that loop is ended.***"
   ]
  },
  {
   "cell_type": "markdown",
   "metadata": {},
   "source": [
    "#### Modules\n",
    "Some features of Python are not loaded by default. These include both features included as part of the language as well as third-party features that you download yourself. In order to do that, you need to impor those modules that contain them."
   ]
  },
  {
   "cell_type": "code",
   "execution_count": 1,
   "metadata": {
    "collapsed": true
   },
   "outputs": [],
   "source": [
    "# for example\n",
    "import re\n",
    "# or, with rename\n",
    "import matplotlib.pyplot as plt\n",
    "# or you can only download a specific values from a module.\n",
    "from collections import defaultdict, Counter"
   ]
  },
  {
   "cell_type": "markdown",
   "metadata": {},
   "source": [
    "#### Arithmetic"
   ]
  },
  {
   "cell_type": "code",
   "execution_count": 2,
   "metadata": {},
   "outputs": [
    {
     "data": {
      "text/plain": [
       "2.5"
      ]
     },
     "execution_count": 2,
     "metadata": {},
     "output_type": "execute_result"
    }
   ],
   "source": [
    "5/2"
   ]
  },
  {
   "cell_type": "code",
   "execution_count": 3,
   "metadata": {},
   "outputs": [
    {
     "data": {
      "text/plain": [
       "2"
      ]
     },
     "execution_count": 3,
     "metadata": {},
     "output_type": "execute_result"
    }
   ],
   "source": [
    "5//2 # get integer only with double slash"
   ]
  },
  {
   "cell_type": "markdown",
   "metadata": {},
   "source": [
    "#### Functions\n",
    "A function is a rule for taking zero or more inputs and returing a corresponding output. In Python, we use *def*"
   ]
  },
  {
   "cell_type": "code",
   "execution_count": 4,
   "metadata": {},
   "outputs": [
    {
     "name": "stdout",
     "output_type": "stream",
     "text": [
      "4\n"
     ]
    }
   ],
   "source": [
    "# Example\n",
    "def double(x):\n",
    "    return 2*x\n",
    "\n",
    "# then if we call it.\n",
    "print(double(2))"
   ]
  },
  {
   "cell_type": "markdown",
   "metadata": {},
   "source": [
    "Python functions are first-class, which means that we can assign them to variables and pass them into functions just like any other arguments."
   ]
  },
  {
   "cell_type": "code",
   "execution_count": 5,
   "metadata": {},
   "outputs": [
    {
     "name": "stdout",
     "output_type": "stream",
     "text": [
      "8\n"
     ]
    }
   ],
   "source": [
    "# Example\n",
    "def adds(idouble):\n",
    "    return idouble(4)\n",
    "\n",
    "# and call it\n",
    "print(adds(idouble=double))"
   ]
  },
  {
   "cell_type": "markdown",
   "metadata": {},
   "source": [
    "Alternatively, we can use *lambdas* to create a short anonymous functions"
   ]
  },
  {
   "cell_type": "code",
   "execution_count": 6,
   "metadata": {},
   "outputs": [
    {
     "name": "stdout",
     "output_type": "stream",
     "text": [
      "8.5\n",
      "1.6666666666666667\n"
     ]
    }
   ],
   "source": [
    "# Example\n",
    "y=adds(lambda x:x+4.5)\n",
    "print(y)\n",
    "x=lambda y: y/6\n",
    "print(x(10))"
   ]
  },
  {
   "cell_type": "markdown",
   "metadata": {},
   "source": [
    "the function argument can also be default argument, which only need to be specified when you want a value other than the default"
   ]
  },
  {
   "cell_type": "code",
   "execution_count": 7,
   "metadata": {},
   "outputs": [
    {
     "name": "stdout",
     "output_type": "stream",
     "text": [
      "make it different?\n",
      "haha it is fixed\n"
     ]
    },
    {
     "ename": "TypeError",
     "evalue": "adds() missing 1 required positional argument: 'idouble'",
     "output_type": "error",
     "traceback": [
      "\u001b[0;31m---------------------------------------------------------------------------\u001b[0m",
      "\u001b[0;31mTypeError\u001b[0m                                 Traceback (most recent call last)",
      "\u001b[0;32m<ipython-input-7-dec3c77e80e7>\u001b[0m in \u001b[0;36m<module>\u001b[0;34m()\u001b[0m\n\u001b[1;32m      6\u001b[0m \u001b[0;34m\u001b[0m\u001b[0m\n\u001b[1;32m      7\u001b[0m \u001b[0;31m# unlike what we have above, if we call a function which has no default value, without parameter\u001b[0m\u001b[0;34m\u001b[0m\u001b[0;34m\u001b[0m\u001b[0m\n\u001b[0;32m----> 8\u001b[0;31m \u001b[0mprint\u001b[0m\u001b[0;34m(\u001b[0m\u001b[0madds\u001b[0m\u001b[0;34m(\u001b[0m\u001b[0;34m)\u001b[0m\u001b[0;34m)\u001b[0m\u001b[0;34m\u001b[0m\u001b[0m\n\u001b[0m",
      "\u001b[0;31mTypeError\u001b[0m: adds() missing 1 required positional argument: 'idouble'"
     ]
    }
   ],
   "source": [
    "# Example\n",
    "def def_call(x=\"haha it is fixed\"):\n",
    "    return x\n",
    "print(def_call(\"make it different?\"))\n",
    "print(def_call())\n",
    "\n",
    "# unlike what we have above, if we call a function which has no default value, without parameter\n",
    "print(adds())"
   ]
  },
  {
   "cell_type": "markdown",
   "metadata": {},
   "source": [
    "#### Strings\n",
    "Strings can be delimited by single or double quotation marks (but the quotes have to match)"
   ]
  },
  {
   "cell_type": "code",
   "execution_count": 8,
   "metadata": {},
   "outputs": [
    {
     "name": "stdout",
     "output_type": "stream",
     "text": [
      "True\n"
     ]
    }
   ],
   "source": [
    "single='Hello World'\n",
    "double=\"Hello World\"\n",
    "print(single==double)"
   ]
  },
  {
   "cell_type": "markdown",
   "metadata": {},
   "source": [
    "Python uses *backslashes* to encode special characters."
   ]
  },
  {
   "cell_type": "code",
   "execution_count": 9,
   "metadata": {},
   "outputs": [
    {
     "name": "stdout",
     "output_type": "stream",
     "text": [
      "\t 1\n",
      "\\t 2\n"
     ]
    }
   ],
   "source": [
    "tab=\"\\t\"\n",
    "print(tab, len(tab))\n",
    "\n",
    "# if you want backslashes as backslashes, you can create RAW strings using r\n",
    "raw_tab=r\"\\t\"\n",
    "print(raw_tab, len(raw_tab))"
   ]
  },
  {
   "cell_type": "markdown",
   "metadata": {},
   "source": [
    "You can also create a multiline stings using triple-double quotes"
   ]
  },
  {
   "cell_type": "code",
   "execution_count": 10,
   "metadata": {},
   "outputs": [
    {
     "name": "stdout",
     "output_type": "stream",
     "text": [
      "This\n",
      "is\n",
      "a\n",
      "multiline\n",
      "quote\n"
     ]
    }
   ],
   "source": [
    "multiline=\"\"\"This\n",
    "is\n",
    "a\n",
    "multiline\n",
    "quote\"\"\"\n",
    "print(multiline)"
   ]
  },
  {
   "cell_type": "markdown",
   "metadata": {},
   "source": [
    "#### Exceptions"
   ]
  },
  {
   "cell_type": "markdown",
   "metadata": {},
   "source": [
    "When something goes wrong, Python raises an exception. Unhandled, these will cause your program to crash. You can handle them using *try* and *except*"
   ]
  },
  {
   "cell_type": "code",
   "execution_count": 11,
   "metadata": {},
   "outputs": [
    {
     "name": "stdout",
     "output_type": "stream",
     "text": [
      "cannot divide by zero\n"
     ]
    }
   ],
   "source": [
    "# Example\n",
    "try:\n",
    "    print(0 / 0)\n",
    "except ZeroDivisionError:\n",
    "    print(\"cannot divide by zero\")"
   ]
  },
  {
   "cell_type": "markdown",
   "metadata": {},
   "source": [
    "#### List\n",
    "A list is simply an ordered collection. This is similar to *array* in other languages."
   ]
  },
  {
   "cell_type": "code",
   "execution_count": 12,
   "metadata": {},
   "outputs": [
    {
     "name": "stdout",
     "output_type": "stream",
     "text": [
      "string 1 True\n",
      "<class 'str'> <class 'int'> <class 'bool'>\n",
      "[[1, 2, 3], ['string', 1, True], []]\n",
      "3\n",
      "6\n",
      "range(0, 10) 0 10\n",
      "9\n",
      "8\n",
      "<class 'range'>\n",
      "range(0, 3)\n",
      "<class 'list'>\n",
      "[0, 1, 2]\n",
      "[4, 5, 6, 7, 8, 9]\n",
      "[2, 3, 4]\n",
      "[7, 8, 9]\n",
      "[1, 2, 3, 4, 5, 6, 7, 8]\n",
      "[0, 1, 2, 3, 4, 5, 6, 7, 8, 9, 13] [0, 1, 2, 3, 4, 5, 6, 7, 8, 9]\n",
      "False\n",
      "True\n",
      "[0, 1, 2, 3, 4, 5, 6, 7, 8, 9, 13, 0, 1, 2, 3, 4, 5, 6, 7, 8, 9]\n",
      "[1, 2, 3, 3, 4, 5]\n",
      "23 45\n",
      "3 75\n"
     ]
    }
   ],
   "source": [
    "x=[1,2,3]\n",
    "y=[\"string\", 1, True]\n",
    "\n",
    "print(y[0],y[1],y[2])\n",
    "print(type(y[0]), type(y[1]), type(y[2])) # data type\n",
    "\n",
    "z=[x,y,[]]\n",
    "\n",
    "print(z)\n",
    "print(len(z)) # length of a list\n",
    "print(sum(x)) # sum of all integers among all cells\n",
    "\n",
    "w=range(10) # w is a list 0,1,2,3,...,9\n",
    "\n",
    "print(w,w[0],len(w))\n",
    "print(w[-1]) # the last element\n",
    "print(w[-2]) # next-to-last element\n",
    "print(type(w)) # the data type is range, not really list, and we cannot chnage the value of a cell\n",
    "\n",
    "#w[0]=-1 it won't work\n",
    "\n",
    "print(w[:3])\n",
    "\n",
    "w=list(w) # we make it a list\n",
    "print(type(w))\n",
    "print(w[:3]) # for the format x:y, x means the index from where the list begins, y means index before which the list ends.\n",
    "print(w[4:])\n",
    "print(w[2:5])\n",
    "print(w[-3:])\n",
    "print(w[1:-1])\n",
    "\n",
    "cop=w[:] # copy the entire list, the new list will not be affected if the original list is changed.\n",
    "w.append(13) # insert a new element to the end of the list.\n",
    "\n",
    "print(w,cop)\n",
    "print(15 in cop) # in operator to determine the membership\n",
    "print(13 in w)\n",
    "\n",
    "w.extend(cop) # concatenate two list to w\n",
    "\n",
    "print(w)\n",
    "\n",
    "wnew=[1,2,3]+[3,4,5] # concatenate two list to a new list\n",
    "\n",
    "print(wnew)\n",
    "\n",
    "a,b=[23,45] # now a=23, b=45\n",
    "\n",
    "print(a,b)\n",
    "\n",
    "_,t=[3,75] # t=75 and we dont care about the first element, use it when you are going to throw the first element away.\n",
    "print(_,75)"
   ]
  },
  {
   "cell_type": "markdown",
   "metadata": {},
   "source": [
    "#### Tuples\n",
    "Tuples are list, but they are IMMUTABLE! Pretty much anything you can do to a list that does not involve modifying it."
   ]
  },
  {
   "cell_type": "code",
   "execution_count": 13,
   "metadata": {},
   "outputs": [
    {
     "name": "stdout",
     "output_type": "stream",
     "text": [
      "(3, 4, 5) <class 'tuple'>\n",
      "(5, 4, 7) <class 'tuple'>\n",
      "cannot modify a tuple\n"
     ]
    }
   ],
   "source": [
    "t=(3,4,5)\n",
    "ti = 5,4,7 # the other way of specifying it.\n",
    "\n",
    "print(t, type(t))\n",
    "print(ti, type(ti))\n",
    "\n",
    "#t[1]=10 where error occurs\n",
    "try:\n",
    "    t[1]=23\n",
    "except TypeError:\n",
    "    print(\"cannot modify a tuple\")\n"
   ]
  },
  {
   "cell_type": "markdown",
   "metadata": {},
   "source": [
    "Tuples are a convenient way to return multiple values from the functions."
   ]
  },
  {
   "cell_type": "code",
   "execution_count": 14,
   "metadata": {},
   "outputs": [
    {
     "name": "stdout",
     "output_type": "stream",
     "text": [
      "(13, 36)\n"
     ]
    }
   ],
   "source": [
    "def sum_and_products(x,y):\n",
    "    return x+y, x*y\n",
    "\n",
    "print(sum_and_products(4,9))"
   ]
  },
  {
   "cell_type": "markdown",
   "metadata": {},
   "source": [
    "Tuples and lists can also be used in multiple assignment"
   ]
  },
  {
   "cell_type": "code",
   "execution_count": 15,
   "metadata": {},
   "outputs": [
    {
     "name": "stdout",
     "output_type": "stream",
     "text": [
      "10 33\n",
      "33 18\n"
     ]
    }
   ],
   "source": [
    "x,y=10,33\n",
    "\n",
    "print(x,y)\n",
    "\n",
    "y,x=18,33\n",
    "\n",
    "print(x,y) # swap"
   ]
  },
  {
   "cell_type": "markdown",
   "metadata": {},
   "source": [
    "#### Dictionaries\n",
    "This is another fundamental data structure, it associates values with keys and allows you to quickly retrieve the value corresponding to a given key."
   ]
  },
  {
   "cell_type": "code",
   "execution_count": 16,
   "metadata": {},
   "outputs": [
    {
     "name": "stdout",
     "output_type": "stream",
     "text": [
      "<class 'dict'> <class 'dict'>\n",
      "34\n",
      "cannot find grade for kobe\n",
      "True\n",
      "False\n"
     ]
    }
   ],
   "source": [
    "empty1={}\n",
    "empty2=dict()\n",
    "\n",
    "print(type(empty1), type(empty2))\n",
    "\n",
    "grades={\"Manu\":34, \"Leo\":30} # and now you can look up a value using square brackets\n",
    "\n",
    "manu_grade=grades[\"Manu\"] # retrieve value\n",
    "\n",
    "print(manu_grade)\n",
    "\n",
    "try:\n",
    "    kobe_grade=grades[\"kobe\"]\n",
    "except KeyError:\n",
    "    print(\"cannot find grade for kobe\")\n",
    "    \n",
    "# you can check for existence of a key using in as well\n",
    "kobe_has_grade=\"Kobe\" in grades\n",
    "Leo_has_grade=\"Leo\" in grades\n",
    "\n",
    "print(Leo_has_grade)\n",
    "print(kobe_has_grade)"
   ]
  },
  {
   "cell_type": "markdown",
   "metadata": {},
   "source": [
    "Dictionaries have a *get* method that returns a default value, instead of raising an exception, when you look up a key that is not in the dict."
   ]
  },
  {
   "cell_type": "code",
   "execution_count": 17,
   "metadata": {},
   "outputs": [
    {
     "name": "stdout",
     "output_type": "stream",
     "text": [
      "0 30 None\n"
     ]
    }
   ],
   "source": [
    "kobe_grade = grades.get(\"Kobe\",0)\n",
    "leo_grade=grades.get(\"Leo\",0)\n",
    "no_one_grade=grades.get(\"no one\") # None\n",
    "\n",
    "print(kobe_grade,leo_grade,no_one_grade)"
   ]
  },
  {
   "cell_type": "markdown",
   "metadata": {},
   "source": [
    "You can assign new key-value pairs using the same square brackets."
   ]
  },
  {
   "cell_type": "code",
   "execution_count": 18,
   "metadata": {},
   "outputs": [
    {
     "name": "stdout",
     "output_type": "stream",
     "text": [
      "40\n",
      "4\n",
      "{'Manu': 34, 'Leo': 30, 'Harden': 23, 'Jordan': 40}\n",
      "None 0\n"
     ]
    }
   ],
   "source": [
    "grades[\"Harden\"]=23\n",
    "grades[\"Jordan\"]=40\n",
    "\n",
    "jordan_grade=grades[\"Jordan\"]\n",
    "\n",
    "print(jordan_grade)\n",
    "print(len(grades))\n",
    "print(grades)\n",
    "\n",
    "print(no_one_grade,kobe_grade) # although they are still not on the dict"
   ]
  },
  {
   "cell_type": "markdown",
   "metadata": {},
   "source": [
    "**We will frequently use dictionaries as a simple way to represent structural data**"
   ]
  },
  {
   "cell_type": "code",
   "execution_count": 19,
   "metadata": {},
   "outputs": [
    {
     "name": "stdout",
     "output_type": "stream",
     "text": [
      "dict_keys(['user', 'text', 'retweet_count', 'hashtags']) dict_values(['leoli', 'I am a fun guy', 100, ['#data', '#science', '#life']]) dict_items([('user', 'leoli'), ('text', 'I am a fun guy'), ('retweet_count', 100), ('hashtags', ['#data', '#science', '#life'])])\n",
      "True\n",
      "True\n",
      "True\n",
      "False\n"
     ]
    }
   ],
   "source": [
    "# Example\n",
    "tweet={\n",
    "    \"user\": \"leoli\",\n",
    "    \"text\": \"I am a fun guy\",\n",
    "    \"retweet_count\": 100,\n",
    "    \"hashtags\":[\"#data\",\"#science\",\"#life\"]\n",
    "}\n",
    "\n",
    "# Besides looking for specific keys, we can look at all of them\n",
    "tweet_keys = tweet.keys()\n",
    "tweet_values = tweet.values()\n",
    "tweet_items = tweet.items()\n",
    "\n",
    "print(tweet_keys, tweet_values, tweet_items)\n",
    "\n",
    "print(\"user\" in tweet_keys)\n",
    "print(\"user\" in tweet)\n",
    "print(\"I am a fun guy\" in tweet_values)\n",
    "print(\"I am a fun guy\" in tweet)"
   ]
  },
  {
   "cell_type": "markdown",
   "metadata": {},
   "source": [
    "***Now we are going to work on a question: Imagine you are trying to count the words in a document. An obvious approach is to creat a dictionary in which the keys are words and the values are counts***"
   ]
  },
  {
   "cell_type": "code",
   "execution_count": 20,
   "metadata": {},
   "outputs": [
    {
     "ename": "SyntaxError",
     "evalue": "can't assign to comparison (<ipython-input-20-d0635bf13e3a>, line 4)",
     "output_type": "error",
     "traceback": [
      "\u001b[0;36m  File \u001b[0;32m\"<ipython-input-20-d0635bf13e3a>\"\u001b[0;36m, line \u001b[0;32m4\u001b[0m\n\u001b[0;31m    word in word_counts[word]+=1\u001b[0m\n\u001b[0m    ^\u001b[0m\n\u001b[0;31mSyntaxError\u001b[0m\u001b[0;31m:\u001b[0m can't assign to comparison\n"
     ]
    }
   ],
   "source": [
    "word_counts = {}\n",
    "for word in document:\n",
    "    if word in word_counts:\n",
    "        word in word_counts[word]+=1\n",
    "    else:\n",
    "        word_counts[word]=1\n",
    "        \n",
    "# Another approach: \"Forgiveness is better than permission\". It just handles the exception from trying to look up a missing key\n",
    "word_counts = {}\n",
    "for word in document:\n",
    "    try: \n",
    "        word_counts[word]+=1\n",
    "    except KeyError: \n",
    "        word_counts[word]=1\n",
    "        \n",
    "# the third approach: use 'get', very graceful for missing keys\n",
    "word_count={}\n",
    "for word in document:\n",
    "    prev_count = word_counts.get(word,0)\n",
    "    word_counts[word] = prev_count + 1\n",
    "\n"
   ]
  },
  {
   "cell_type": "markdown",
   "metadata": {},
   "source": [
    "This is not done yet, let us introduce *defaultdict*, which is like a regular dictionary, except that when you try to look up a key it does not contain, it first adds a value for it using a zero-argument function you provided when you created it. In order to use *defaultdict*, we import it from **collections**"
   ]
  },
  {
   "cell_type": "code",
   "execution_count": 21,
   "metadata": {},
   "outputs": [
    {
     "ename": "NameError",
     "evalue": "name 'document' is not defined",
     "output_type": "error",
     "traceback": [
      "\u001b[0;31m---------------------------------------------------------------------------\u001b[0m",
      "\u001b[0;31mNameError\u001b[0m                                 Traceback (most recent call last)",
      "\u001b[0;32m<ipython-input-21-65e62b4b4e2f>\u001b[0m in \u001b[0;36m<module>\u001b[0;34m()\u001b[0m\n\u001b[1;32m      2\u001b[0m \u001b[0;34m\u001b[0m\u001b[0m\n\u001b[1;32m      3\u001b[0m \u001b[0mword_counts\u001b[0m \u001b[0;34m=\u001b[0m \u001b[0mdefaultdict\u001b[0m\u001b[0;34m(\u001b[0m\u001b[0mint\u001b[0m\u001b[0;34m)\u001b[0m \u001b[0;31m# int() produces 0\u001b[0m\u001b[0;34m\u001b[0m\u001b[0m\n\u001b[0;32m----> 4\u001b[0;31m \u001b[0;32mfor\u001b[0m \u001b[0mword\u001b[0m \u001b[0;32min\u001b[0m \u001b[0mdocument\u001b[0m\u001b[0;34m:\u001b[0m\u001b[0;34m\u001b[0m\u001b[0m\n\u001b[0m\u001b[1;32m      5\u001b[0m     \u001b[0mword_counts\u001b[0m\u001b[0;34m[\u001b[0m\u001b[0mword\u001b[0m\u001b[0;34m]\u001b[0m \u001b[0;34m+=\u001b[0m\u001b[0;36m1\u001b[0m\u001b[0;34m\u001b[0m\u001b[0m\n\u001b[1;32m      6\u001b[0m \u001b[0;34m\u001b[0m\u001b[0m\n",
      "\u001b[0;31mNameError\u001b[0m: name 'document' is not defined"
     ]
    }
   ],
   "source": [
    "from collections import defaultdict\n",
    "\n",
    "word_counts = defaultdict(int) # int() produces 0\n",
    "for word in document:\n",
    "    word_counts[word] +=1\n",
    "\n",
    "# it is useful with list and dict, and even your own functions\n",
    "dd_list = defaultdict(list) #list() produces an empty list\n",
    "dd_list[2].append(1) # now dd_list contains {2: [1]}\n",
    "\n",
    "dd_dict = defaultdict(dict) #dict() produces an empty dict\n",
    "dd_dict[\"Joel\"][\"City\"] = \"Seattle\" #{ \"Joel\" : { \"City\" : Seattle\"}}\n",
    "\n",
    "dd_pair = defaultdict(lambda: [0, 0]) \n",
    "dd_pair[2][1] = 1 #now dd_pair contains {2: [0,1]}\n"
   ]
  },
  {
   "cell_type": "markdown",
   "metadata": {},
   "source": [
    "To sum up, these are useful when we're using dictionaries to \"collect\" results by some key and ***do not want to have to check every time to see if the key exists yet.***"
   ]
  },
  {
   "cell_type": "markdown",
   "metadata": {},
   "source": [
    "#### Counter\n",
    "A counter is a sequence of values into a **defaultdct(int)-like** object mapping keys to counts. **We will primarily use it to creat histograms**"
   ]
  },
  {
   "cell_type": "code",
   "execution_count": 22,
   "metadata": {},
   "outputs": [
    {
     "ename": "NameError",
     "evalue": "name 'document' is not defined",
     "output_type": "error",
     "traceback": [
      "\u001b[0;31m---------------------------------------------------------------------------\u001b[0m",
      "\u001b[0;31mNameError\u001b[0m                                 Traceback (most recent call last)",
      "\u001b[0;32m<ipython-input-22-c27149abbae8>\u001b[0m in \u001b[0;36m<module>\u001b[0;34m()\u001b[0m\n\u001b[1;32m      4\u001b[0m \u001b[0;34m\u001b[0m\u001b[0m\n\u001b[1;32m      5\u001b[0m \u001b[0;31m# now back to the word_counts problem, it is very simple\u001b[0m\u001b[0;34m\u001b[0m\u001b[0;34m\u001b[0m\u001b[0m\n\u001b[0;32m----> 6\u001b[0;31m \u001b[0mword_counts\u001b[0m\u001b[0;34m=\u001b[0m\u001b[0mCounter\u001b[0m\u001b[0;34m(\u001b[0m\u001b[0mdocument\u001b[0m\u001b[0;34m)\u001b[0m\u001b[0;34m\u001b[0m\u001b[0m\n\u001b[0m\u001b[1;32m      7\u001b[0m \u001b[0;34m\u001b[0m\u001b[0m\n\u001b[1;32m      8\u001b[0m \u001b[0;31m# with the \"most_common\" method\u001b[0m\u001b[0;34m\u001b[0m\u001b[0;34m\u001b[0m\u001b[0m\n",
      "\u001b[0;31mNameError\u001b[0m: name 'document' is not defined"
     ]
    }
   ],
   "source": [
    "from collections import Counter\n",
    "\n",
    "c=Counter([0,1,2,0]) # now c is basically {0:2,1:1,2:1}\n",
    "\n",
    "# now back to the word_counts problem, it is very simple\n",
    "word_counts=Counter(document)\n",
    "\n",
    "# with the \"most_common\" method\n",
    "# print the 10 most common words and their counts\n",
    "for word, count in word_counts.most_common(10):\n",
    "    print(word, count)"
   ]
  },
  {
   "cell_type": "markdown",
   "metadata": {},
   "source": [
    "#### Set\n",
    "This is another data stucture, thich represents a collection of ***distinct*** elements"
   ]
  },
  {
   "cell_type": "code",
   "execution_count": 23,
   "metadata": {},
   "outputs": [
    {
     "name": "stdout",
     "output_type": "stream",
     "text": [
      "<class 'set'>\n",
      "{1}\n",
      "{1, 2}\n",
      "{1, 2, 3}\n",
      "{1, 2, 3}\n",
      "3\n",
      "False\n",
      "True\n"
     ]
    }
   ],
   "source": [
    "# Example\n",
    "a = set()\n",
    "print(type(a))\n",
    "\n",
    "a.add(1)\n",
    "print(a)\n",
    "\n",
    "a.add(2)\n",
    "print(a)\n",
    "\n",
    "a.add(3)\n",
    "print(a)\n",
    "\n",
    "a.add(3) # distinct\n",
    "print(a)\n",
    "\n",
    "print(len(a))\n",
    "print(10 in a)\n",
    "print(1 in a)"
   ]
  },
  {
   "cell_type": "markdown",
   "metadata": {},
   "source": [
    "So why we use sets? Because first, the *in* is a very fast operation on sets. If we have a large collection of items that we want to use for a membership test, a set is more appropriate than a list."
   ]
  },
  {
   "cell_type": "code",
   "execution_count": 24,
   "metadata": {},
   "outputs": [
    {
     "ename": "SyntaxError",
     "evalue": "invalid syntax (<ipython-input-24-28195152ee80>, line 1)",
     "output_type": "error",
     "traceback": [
      "\u001b[0;36m  File \u001b[0;32m\"<ipython-input-24-28195152ee80>\"\u001b[0;36m, line \u001b[0;32m1\u001b[0m\n\u001b[0;31m    alphabet = [\"a\", \"aho\", \"tank\"] + hundreds of words + [\"yet\", \"you\"]\u001b[0m\n\u001b[0m                                                ^\u001b[0m\n\u001b[0;31mSyntaxError\u001b[0m\u001b[0;31m:\u001b[0m invalid syntax\n"
     ]
    }
   ],
   "source": [
    "alphabet = [\"a\", \"aho\", \"tank\"] + hundreds of words + [\"yet\", \"you\"]\n",
    "\n",
    "\"zip\" in alphabet # false, but it has to check every element.\n",
    "\n",
    "alp = set(alphabet)\n",
    "\n",
    "\"zip\" in alp # very fast to check"
   ]
  },
  {
   "cell_type": "markdown",
   "metadata": {},
   "source": [
    "the second reason is to find the distinct items in a collection"
   ]
  },
  {
   "cell_type": "code",
   "execution_count": 25,
   "metadata": {},
   "outputs": [
    {
     "name": "stdout",
     "output_type": "stream",
     "text": [
      "7\n",
      "5\n",
      "[1, 2, 3, 4, 10]\n"
     ]
    }
   ],
   "source": [
    "item=[1,2,3,4,4,10,3]\n",
    "\n",
    "print(len(item))\n",
    "\n",
    "se = set(item)\n",
    "print(len(se))\n",
    "\n",
    "distinct_list = list(se)\n",
    "print(distinct_list)"
   ]
  },
  {
   "cell_type": "markdown",
   "metadata": {},
   "source": [
    "#### Control Flow\n",
    "in Python, we can perform an action conditionally using:\n",
    "- if-elif-else statement\n",
    "- while loop\n",
    "- for loop\n",
    "\n",
    "#### Truthiness\n",
    "just like most other languages"
   ]
  },
  {
   "cell_type": "code",
   "execution_count": 26,
   "metadata": {},
   "outputs": [
    {
     "name": "stdout",
     "output_type": "stream",
     "text": [
      "False\n",
      "True\n"
     ]
    }
   ],
   "source": [
    "print(False==True)\n",
    "print(1<2)"
   ]
  },
  {
   "cell_type": "markdown",
   "metadata": {},
   "source": [
    "Python uses the value *None* to indicate a nonexistent value. It is similar to other languages' *null*"
   ]
  },
  {
   "cell_type": "markdown",
   "metadata": {},
   "source": [
    "difference between **is** and **==** operators\n",
    "\n",
    "#The is operator may seem like the same as the equality operator but they are not same. The ***is*** checks if both the variables point to the same object whereas the ***==*** sign checks if the values for the two variables are the same. **So if the is operator returns True then the equality is definitely True, but the opposite may or may not be True. Here is an example to demonstrate the similarity and the difference**.\n"
   ]
  },
  {
   "cell_type": "code",
   "execution_count": 27,
   "metadata": {},
   "outputs": [
    {
     "name": "stdout",
     "output_type": "stream",
     "text": [
      "True\n",
      "True\n",
      "True\n",
      "True\n",
      "True\n",
      "False\n"
     ]
    }
   ],
   "source": [
    "x=None\n",
    "print(x==None)\n",
    "print(x is None)\n",
    "\n",
    "a=b=5\n",
    "c=5.\n",
    "print(a==b)\n",
    "print(a is b)\n",
    "\n",
    "print(a==c)\n",
    "print(a is c)"
   ]
  },
  {
   "cell_type": "markdown",
   "metadata": {},
   "source": [
    "Python will allow you to use any value where it expects a Boolean. The following are \"False\":\n",
    "- False\n",
    "- None\n",
    "- [], empty list\n",
    "- {}, empty dict\n",
    "- \"\", empty string\n",
    "- set()\n",
    "- 0\n",
    "- 0.0\n",
    "Then pretty much anything else gets treated as \"True\". Why use this? This allows you to test for empty lists or empty string or empty dict or so on."
   ]
  },
  {
   "cell_type": "code",
   "execution_count": 28,
   "metadata": {},
   "outputs": [
    {
     "ename": "NameError",
     "evalue": "name 'some_string' is not defined",
     "output_type": "error",
     "traceback": [
      "\u001b[0;31m---------------------------------------------------------------------------\u001b[0m",
      "\u001b[0;31mNameError\u001b[0m                                 Traceback (most recent call last)",
      "\u001b[0;32m<ipython-input-28-bd7e829861e3>\u001b[0m in \u001b[0;36m<module>\u001b[0;34m()\u001b[0m\n\u001b[1;32m      1\u001b[0m \u001b[0;31m# Example\u001b[0m\u001b[0;34m\u001b[0m\u001b[0;34m\u001b[0m\u001b[0m\n\u001b[0;32m----> 2\u001b[0;31m \u001b[0ms\u001b[0m\u001b[0;34m=\u001b[0m\u001b[0msome_string\u001b[0m\u001b[0;34m\u001b[0m\u001b[0m\n\u001b[0m\u001b[1;32m      3\u001b[0m \u001b[0;32mif\u001b[0m \u001b[0ms\u001b[0m\u001b[0;34m:\u001b[0m\u001b[0;34m\u001b[0m\u001b[0m\n\u001b[1;32m      4\u001b[0m     \u001b[0mfirst_str\u001b[0m\u001b[0;34m=\u001b[0m\u001b[0ms\u001b[0m\u001b[0;34m[\u001b[0m\u001b[0;36m0\u001b[0m\u001b[0;34m]\u001b[0m\u001b[0;34m\u001b[0m\u001b[0m\n\u001b[1;32m      5\u001b[0m \u001b[0;32melse\u001b[0m\u001b[0;34m:\u001b[0m\u001b[0;34m\u001b[0m\u001b[0m\n",
      "\u001b[0;31mNameError\u001b[0m: name 'some_string' is not defined"
     ]
    }
   ],
   "source": [
    "# Example\n",
    "s=some_string\n",
    "if s:\n",
    "    first_str=s[0]\n",
    "else:\n",
    "    first_str=\"\"\n",
    "    \n",
    "# or simply\n",
    "first_str = s and s[0]\n",
    "# since and operator returns its second value when the first is \"True\"\n",
    "# the first value when it is not. \n",
    "\n",
    "#Similar, if x is either a number or possibly None\n",
    "first_x = x or 0"
   ]
  },
  {
   "cell_type": "markdown",
   "metadata": {},
   "source": [
    "Python also has a function **all**, which takes a list and returns True precisely when every element is True, and an **any** function, which returns True when at least one element is True"
   ]
  },
  {
   "cell_type": "code",
   "execution_count": 29,
   "metadata": {},
   "outputs": [
    {
     "name": "stdout",
     "output_type": "stream",
     "text": [
      "True\n",
      "False\n",
      "True\n"
     ]
    }
   ],
   "source": [
    "# Example\n",
    "print(all([True,1,{3}]))\n",
    "print(all([True,0,[1]]))\n",
    "print(any([True,0,0]))"
   ]
  },
  {
   "cell_type": "markdown",
   "metadata": {},
   "source": [
    "#### Python, some more advanced features"
   ]
  },
  {
   "cell_type": "markdown",
   "metadata": {},
   "source": [
    "#### Sorting"
   ]
  },
  {
   "cell_type": "code",
   "execution_count": 30,
   "metadata": {},
   "outputs": [
    {
     "name": "stdout",
     "output_type": "stream",
     "text": [
      "[2, 1, 13, 6] ([1, 2, 6, 13],)\n",
      "[1, 2, 6, 13] ([1, 2, 6, 13],)\n"
     ]
    }
   ],
   "source": [
    "# sorted, smallest to largest by default\n",
    "x=[2,1,13,6]\n",
    "y=sorted(x), # leave x unchanged\n",
    "print(x,y)\n",
    "\n",
    "x.sort() # x is sorted\n",
    "print(x,y)"
   ]
  },
  {
   "cell_type": "code",
   "execution_count": 31,
   "metadata": {},
   "outputs": [
    {
     "name": "stdout",
     "output_type": "stream",
     "text": [
      "[-4, -2, 2, 10]\n",
      "[10, 2, -2, -4]\n",
      "[10, -4, -2, 2]\n"
     ]
    }
   ],
   "source": [
    "m=[-2,-4,2,10]\n",
    "\n",
    "# by default\n",
    "x=sorted(m)\n",
    "print(x)\n",
    "\n",
    "# from largest to smallest\n",
    "y=sorted(m,reverse=True)\n",
    "print(y)\n",
    "\n",
    "# from largest to smallest, by absolute value\n",
    "z=sorted(m,key=abs,reverse=True)\n",
    "print(z)"
   ]
  },
  {
   "cell_type": "code",
   "execution_count": 32,
   "metadata": {},
   "outputs": [
    {
     "ename": "SyntaxError",
     "evalue": "invalid syntax (<ipython-input-32-4259895ffe1c>, line 3)",
     "output_type": "error",
     "traceback": [
      "\u001b[0;36m  File \u001b[0;32m\"<ipython-input-32-4259895ffe1c>\"\u001b[0;36m, line \u001b[0;32m3\u001b[0m\n\u001b[0;31m    key=lambda (word,count): count,\u001b[0m\n\u001b[0m               ^\u001b[0m\n\u001b[0;31mSyntaxError\u001b[0m\u001b[0;31m:\u001b[0m invalid syntax\n"
     ]
    }
   ],
   "source": [
    "# a harder example, sort the words and counts from the highest to lowest\n",
    "wc=sorted(word_counts.items(),\n",
    "          key=lambda (word,count): count,\n",
    "          reverse=True)"
   ]
  },
  {
   "cell_type": "markdown",
   "metadata": {
    "collapsed": true
   },
   "source": [
    "#### List Comprehensions\n",
    "Frequently, we need to transform a list into another list, by chooseing only certain elements, or by transfroming elements or both. Let's show you the Python way of doinig this."
   ]
  },
  {
   "cell_type": "code",
   "execution_count": 33,
   "metadata": {},
   "outputs": [
    {
     "name": "stdout",
     "output_type": "stream",
     "text": [
      "[0, 2, 4, 6, 8] [0, 1, 4, 9, 16, 25, 36, 49, 64, 81] [0, 4, 16, 36, 64]\n"
     ]
    }
   ],
   "source": [
    "alpha=range(10) # 0,1,2,...,9\n",
    "\n",
    "even=[x for x in alpha if x%2==0]\n",
    "squares = [x*x for x in alpha]\n",
    "even_squares = [x*x for x in even]\n",
    "\n",
    "print(even, squares, even_squares)"
   ]
  },
  {
   "cell_type": "code",
   "execution_count": 34,
   "metadata": {},
   "outputs": [
    {
     "name": "stdout",
     "output_type": "stream",
     "text": [
      "{0: 0, 1: 1, 2: 4, 3: 9, 4: 16, 5: 25, 6: 36, 7: 49, 8: 64, 9: 81} {1}\n"
     ]
    }
   ],
   "source": [
    "# similarly, we can turn them in to a dict or a set too.\n",
    "squ_dict = {x:x*x for x in alpha} # a dict\n",
    "squ_set = {x*x for x in [1,-1]} # a set\n",
    "\n",
    "print(squ_dict,squ_set)"
   ]
  },
  {
   "cell_type": "code",
   "execution_count": 35,
   "metadata": {},
   "outputs": [
    {
     "name": "stdout",
     "output_type": "stream",
     "text": [
      "[0, 0, 0, 0, 0, 0, 0, 0, 0, 0]\n",
      "[(0, 5), (0, 6), (0, 7), (1, 5), (1, 6), (1, 7), (2, 5), (2, 6), (2, 7)]\n",
      "[(0, 1), (0, 2), (0, 3), (1, 2), (1, 3), (2, 3)]\n"
     ]
    }
   ],
   "source": [
    "# if you do not need the value from the list, you can put zeros\n",
    "zeros=[0 for _ in alpha]\n",
    "print(zeros)\n",
    "\n",
    "# the list comprehension can also put multiple for loops\n",
    "pairs = [(x,y) for x in range(3) for y in range(5,8)]\n",
    "print(pairs)\n",
    "\n",
    "# increasing pairs\n",
    "inc_pairs = [(x,y) for x in range(4) for y in range(x+1,4)]\n",
    "print(inc_pairs)"
   ]
  },
  {
   "cell_type": "markdown",
   "metadata": {},
   "source": [
    "#### Generators and Iterators\n",
    "A problem with lists is that they can easily grow very big. For example, range(1000000) creates an autual list of 1 million elements. ***If you only need to deal with them one at a time, this can be a huge source of inefficiency (or running out of memory).\n",
    "\n",
    "A ***generator*** is something that you can iterate over (for us, usually using *for*) but whose values are produced only as needed."
   ]
  },
  {
   "cell_type": "markdown",
   "metadata": {},
   "source": [
    "##### when should we use \"yield\" instrad of return in Python\n",
    "From *GeeksforGeeks*\n",
    "> The \"yield\" statement suspends function's execution and sends a value back to caller, but retains enough state to enable function to resume where it is left off. When resumed, the function continues execution immediately after the last yield run. This allows its code to produce a series of values over time, rather than computing then at once and sending them back like a list.\n",
    "\n",
    "> Return sends a specific value beck to its caller whereas \"yield\" can produce a sequence of values. We would use yield when we want to iterate over a sequence, but do not want to store the entire sequence in memory.\n",
    "\n",
    "> \"yield\" is used in Python generators. A generator function is defined like a normal function, but whenever it needs to generate a value, it does so with the \"yield\" keyword rather then \"return\". **If the body of a *def* contains \"yield\", the function automatically becomes a generator function**"
   ]
  },
  {
   "cell_type": "code",
   "execution_count": 47,
   "metadata": {},
   "outputs": [
    {
     "name": "stdout",
     "output_type": "stream",
     "text": [
      "1\n",
      "4\n",
      "9\n",
      "16\n",
      "25\n",
      "36\n",
      "49\n",
      "<generator object <genexpr> at 0x117407ca8>\n"
     ]
    }
   ],
   "source": [
    "# the generator\n",
    "def nextval():\n",
    "    i=1\n",
    "    \n",
    "    # an infinite loop\n",
    "    while True: \n",
    "        yield i*i\n",
    "        i+=1 # Next execution resumes from this point\n",
    "        \n",
    "# call the function, the for-loop is important in calling part\n",
    "# the following loop will consume the yield values one at a time until\n",
    "# none are left\n",
    "for x in nextval():\n",
    "    if x>50:\n",
    "        break\n",
    "    print(x)\n",
    "    \n",
    "def lazy_range(n):\n",
    "    i=0\n",
    "    while i<n:\n",
    "        yield i \n",
    "        i+=1\n",
    "\n",
    "lazy_evens_below_20 = (i for i in lazy_range(20) if i % 2 == 0)\n",
    "print(lazy_evens_below_20)\n"
   ]
  },
  {
   "cell_type": "markdown",
   "metadata": {},
   "source": [
    "#### Randomness\n",
    "In data science, we will frequently need to generate random numbers, which we can do with the *random module*."
   ]
  },
  {
   "cell_type": "code",
   "execution_count": 72,
   "metadata": {},
   "outputs": [
    {
     "name": "stdout",
     "output_type": "stream",
     "text": [
      "0.03484062061149529\n",
      "[0.28425186055137186, 0.34165021324470124, 0.5651585091329991, 0.4139236879380659]\n"
     ]
    }
   ],
   "source": [
    "import random\n",
    "\n",
    "print(random.random()) # generate one random number\n",
    "list_rand = [random.random() for i in range(4)] # a list of random numbers, \n",
    "# subs i to _ is okay\n",
    "print(list_rand)"
   ]
  },
  {
   "cell_type": "markdown",
   "metadata": {},
   "source": [
    "the random mudule actually produces the *pseudorandom*(that is, deterministic) numbers based on an internal state that you can set with *random.seed* if you want to get reproducible results"
   ]
  },
  {
   "cell_type": "markdown",
   "metadata": {},
   "source": [
    "If you do not initialize the pseudo-random number generator using a *random.seed()*, internally,random generator call the seed function and use current system value as the seed value. That is why whenever we execute random.random() we always get a \n",
    "value."
   ]
  },
  {
   "cell_type": "code",
   "execution_count": 97,
   "metadata": {},
   "outputs": [
    {
     "name": "stdout",
     "output_type": "stream",
     "text": [
      "0.5714025946899135\n",
      "0.5714025946899135\n",
      "6 4\n",
      "[4, 5, 8, 1, 2, 6, 7, 3, 0, 9]\n",
      "Jordan\n",
      "[2, 7, 11, 1, 13, 15]\n",
      "[4, 19, 11, 12, 13, 9] [8, 14, 5, 9, 11, 4]\n"
     ]
    }
   ],
   "source": [
    "random.seed(10)\n",
    "print(random.random())\n",
    "random.seed(10)\n",
    "print(random.random()) # same for the list of random numbers as above\n",
    "\n",
    "# when we sometimes use *random.randrange* which takes either 1 or 2\n",
    "# arguments and returns an element chosen randomly from the corresponding\n",
    "# range()\n",
    "a = random.randrange(10) # 0,1,2,3,...,9\n",
    "b = random.randrange(3,5) # 3,4\n",
    "\n",
    "print(a,b)\n",
    "\n",
    "# random.shuffle randomly reorders the elements of a list:\n",
    "up_to_ten = list(range(10)) # yeah, make range a list this way.\n",
    "random.shuffle(up_to_ten)\n",
    "\n",
    "print(up_to_ten)\n",
    "\n",
    "#random.seed()\n",
    "# you can also use random.choice to pick one element from a list\n",
    "pick=random.choice([\"harry\",\"Jordan\",\"eliza\"])\n",
    "print(pick)\n",
    "\n",
    "# and also if you need to random choose a sample of elements without\n",
    "# replacement(i.e., with no duplicates), we can use random.sample\n",
    "num=list(range(20))\n",
    "sample=random.sample(num,6)\n",
    "print(sample)\n",
    "\n",
    "# with replacement, aka, allowing duplicates\n",
    "# you can make multiple call to random choice\n",
    "sample2=[random.choice(range(20)) for _ in range(6)]\n",
    "sample3=[random.choice(range(20)) for _ in range(6)]\n",
    "\n",
    "print(sample2,sample3)"
   ]
  },
  {
   "cell_type": "markdown",
   "metadata": {
    "collapsed": true
   },
   "source": [
    "#### Regular Expressions\n",
    "It is a way of searching text, useful but a little complicated. We will only give some examples."
   ]
  },
  {
   "cell_type": "code",
   "execution_count": 104,
   "metadata": {},
   "outputs": [
    {
     "name": "stdout",
     "output_type": "stream",
     "text": [
      "True\n"
     ]
    }
   ],
   "source": [
    "import re # yes, re module\n",
    "\n",
    "print(not re.match(\"a\",\"cat\"))"
   ]
  },
  {
   "cell_type": "markdown",
   "metadata": {},
   "source": [
    "#### Object-Oriented Programming\n",
    "***Like many languages, Python allows you to define *classes* that encapsulate data and the functions that operate on them. We'll use them sometimes to make our code cleaner and simpler.***\n",
    "\n",
    "For example, imagine we did not have the build-in Python *set*, then we might want to build our own Set class.\n",
    "\n",
    "What behavior should it have?\n",
    "- add items to it.\n",
    "- remove items from it.\n",
    "- check value\n",
    "\n",
    "These are all our *memeber functions*, which mean we will access them with a dot after a set object."
   ]
  },
  {
   "cell_type": "code",
   "execution_count": 105,
   "metadata": {
    "collapsed": true
   },
   "outputs": [],
   "source": [
    "# by convention, we give classes PascalCase names\n",
    "class Set:\n",
    "    # these are the member functions\n",
    "    # every one takes a first parameter \"self\" (another convention)\n",
    "    # that refers to the particular Set object being used\n",
    "    def __init__(self, values=None):\n",
    "        \"\"\"\n",
    "        This is the constructor.\n",
    "        It gets called when you create a new Set. \n",
    "        You would use it like\n",
    "        s1 = Set()          # empty set\n",
    "        s2 = Set([1,2,2,3]) # initialize with values\n",
    "        \"\"\"\n",
    "        self.dict = {} # each instance of Set has its own dict property \n",
    "                       # which is what we'll use to track memberships\n",
    "        if values is not None: \n",
    "            for value in values:\n",
    "                self.add(value)\n",
    "    def __repr__(self):\n",
    "        \"\"\"\n",
    "        this is the string representation of a Set object\n",
    "        if you type it at the Python prompt or pass it to str()\n",
    "        \"\"\" \n",
    "        return \"Set: \" + str(self.dict.keys())\n",
    "    # we'll represent membership by being a key in self.dict with value True\n",
    "    def add(self, value): \n",
    "        self.dict[value] = True\n",
    "    # value is in the Set if it's a key in the dictionary\n",
    "    def contains(self, value): \n",
    "        return value in self.dict\n",
    "    def remove(self, value): \n",
    "        del self.dict[value]"
   ]
  },
  {
   "cell_type": "code",
   "execution_count": 111,
   "metadata": {},
   "outputs": [
    {
     "name": "stdout",
     "output_type": "stream",
     "text": [
      "Set: dict_keys([1, 2, 3, 4])\n",
      "Set: dict_keys([1, 2, 3, 4, 6])\n",
      "True\n",
      "False\n"
     ]
    }
   ],
   "source": [
    "s=Set([1,2,3,4])\n",
    "print(s) \n",
    "s.add(6)\n",
    "print(s)\n",
    "print(s.contains(2))\n",
    "s.remove(2)\n",
    "print(s.contains(2))"
   ]
  },
  {
   "cell_type": "markdown",
   "metadata": {},
   "source": [
    "#### Functional Tools\n",
    "When passing functions around, sometimes we'll want to **partially** apply functions to create new functions. As a simple example below,"
   ]
  },
  {
   "cell_type": "code",
   "execution_count": 113,
   "metadata": {},
   "outputs": [
    {
     "name": "stdout",
     "output_type": "stream",
     "text": [
      "8\n",
      "9\n"
     ]
    }
   ],
   "source": [
    "# a function:\n",
    "def exp(base,power):\n",
    "    return base ** power\n",
    "\n",
    "# and we want to use it to create a function of one variable abc\n",
    "# whose input is a power, and whose output is the result of exp(2,power)\n",
    "\n",
    "# one way, traditionally\n",
    "def abc(power):\n",
    "    return exp(2,power)\n",
    "\n",
    "# but now there is a different approach, by using functools.partial:\n",
    "from functools import partial\n",
    "abc = partial(exp,2) # it is now a function of one variable\n",
    "print(abc(3)) # 3 the power\n",
    "\n",
    "# we can also use partial to fill in later argument fi you specify\n",
    "# their name\n",
    "sd = partial(exp, power=2)\n",
    "print(sd(3)) # 3 the base"
   ]
  },
  {
   "cell_type": "markdown",
   "metadata": {},
   "source": [
    "Occasionally, we also use *map*, *reduce* and *filter*, which provide functional alternatives to list comprehensions"
   ]
  },
  {
   "cell_type": "code",
   "execution_count": 125,
   "metadata": {},
   "outputs": [
    {
     "name": "stdout",
     "output_type": "stream",
     "text": [
      "[2, 4, 6, 8]\n",
      "[2, 4, 6, 8]\n",
      "[2, 4, 6, 8]\n",
      "[3, 8]\n",
      "[2, 4]\n",
      "[2, 4]\n",
      "[2, 4]\n",
      "24\n",
      "24\n"
     ]
    }
   ],
   "source": [
    "# map\n",
    "def double(x):\n",
    "    return 2*x\n",
    "xs=[1,2,3,4]\n",
    "\n",
    "func = [double(x) for x in xs]\n",
    "print(func)\n",
    "\n",
    "# or\n",
    "func = map(double,xs)\n",
    "print(list(func)) # data type map without list()\n",
    "\n",
    "# or\n",
    "func = partial(map, double)\n",
    "ans = func(xs)\n",
    "print(list(ans))\n",
    "\n",
    "# you can also use map with multiple-argument functions if you\n",
    "# if you provide multiple lists\n",
    "def multiply(x,y):\n",
    "    return x * y\n",
    "\n",
    "func = map(multiply, [1,2], [3,4])\n",
    "print(list(func))\n",
    "\n",
    "# similarly, filter does the work of a list-comprehension if\n",
    "def is_even(x):\n",
    "    '''\n",
    "    True is x is even, false otherwise\n",
    "    '''\n",
    "    return x % 2 == 0\n",
    "# 1.\n",
    "x_evens = [x for x in xs if is_even(x)]\n",
    "print(x_evens)\n",
    "\n",
    "# 2.\n",
    "x_evens = filter(is_even,xs)\n",
    "print(list(x_evens))\n",
    "\n",
    "# 3.\n",
    "func = partial(filter,is_even)\n",
    "x_evens = func(xs)\n",
    "print(list(x_evens))\n",
    "\n",
    "# and reduce combines the first two elements of a list, then that\n",
    "# with the third, that result with the fourth, and so on, producing\n",
    "# a single result:\n",
    "from functools import reduce\n",
    "\n",
    "x_prod = reduce(multiply, xs) # = 1 * 2 * 3 * 4\n",
    "print(x_prod)\n",
    "\n",
    "# or\n",
    "func= partial(reduce, multiply)\n",
    "x_prod=func(xs)\n",
    "print(x_prod)"
   ]
  },
  {
   "cell_type": "markdown",
   "metadata": {},
   "source": [
    "#### Enumerate\n",
    "If you want to iterate over a list and use ***both its elements and their indexes:***"
   ]
  },
  {
   "cell_type": "code",
   "execution_count": 126,
   "metadata": {},
   "outputs": [
    {
     "ename": "NameError",
     "evalue": "name 'documents' is not defined",
     "output_type": "error",
     "traceback": [
      "\u001b[0;31m---------------------------------------------------------------------------\u001b[0m",
      "\u001b[0;31mNameError\u001b[0m                                 Traceback (most recent call last)",
      "\u001b[0;32m<ipython-input-126-78babae79178>\u001b[0m in \u001b[0;36m<module>\u001b[0;34m()\u001b[0m\n\u001b[1;32m      1\u001b[0m \u001b[0;31m# the non-pythonic solutions\u001b[0m\u001b[0;34m\u001b[0m\u001b[0;34m\u001b[0m\u001b[0m\n\u001b[1;32m      2\u001b[0m \u001b[0;31m# 1\u001b[0m\u001b[0;34m\u001b[0m\u001b[0;34m\u001b[0m\u001b[0m\n\u001b[0;32m----> 3\u001b[0;31m \u001b[0;32mfor\u001b[0m \u001b[0mi\u001b[0m \u001b[0;32min\u001b[0m \u001b[0mrange\u001b[0m\u001b[0;34m(\u001b[0m\u001b[0mlen\u001b[0m\u001b[0;34m(\u001b[0m\u001b[0mdocuments\u001b[0m\u001b[0;34m)\u001b[0m\u001b[0;34m)\u001b[0m\u001b[0;34m:\u001b[0m\u001b[0;34m\u001b[0m\u001b[0m\n\u001b[0m\u001b[1;32m      4\u001b[0m     \u001b[0mdocument\u001b[0m \u001b[0;34m=\u001b[0m \u001b[0mdocuments\u001b[0m\u001b[0;34m[\u001b[0m\u001b[0mi\u001b[0m\u001b[0;34m]\u001b[0m\u001b[0;34m\u001b[0m\u001b[0m\n\u001b[1;32m      5\u001b[0m     \u001b[0mdo_something\u001b[0m\u001b[0;34m(\u001b[0m\u001b[0mi\u001b[0m\u001b[0;34m,\u001b[0m\u001b[0mdocument\u001b[0m\u001b[0;34m)\u001b[0m\u001b[0;34m\u001b[0m\u001b[0m\n",
      "\u001b[0;31mNameError\u001b[0m: name 'documents' is not defined"
     ]
    }
   ],
   "source": [
    "# the non-pythonic solutions\n",
    "# 1\n",
    "for i in range(len(documents)):\n",
    "    document = documents[i]\n",
    "    do_something(i,document)\n",
    "# 2\n",
    "i=0\n",
    "for doc in docs:\n",
    "    do_sth(i,doc)\n",
    "    i+=1\n",
    "\n",
    "# the pythonic solution uses enumerate, which produces \n",
    "# tuples(index,element)\n",
    "for i, doc in  enumerate(docs):\n",
    "    do_sth(i,doc)\n",
    "\n",
    "# or if you just want the indexes:\n",
    "for i in range(len(docs)): do_sth(i) # non-pythonic\n",
    "for i, _ in enumerate(docs): do_sth(i) # pythonic"
   ]
  },
  {
   "cell_type": "markdown",
   "metadata": {},
   "source": [
    "#### Zip and Argument Unpacking\n",
    "Often we will need to *zip* two or more lists together. *zip* transforms multiple lists into a single list of tuples pf corresponding elements."
   ]
  },
  {
   "cell_type": "code",
   "execution_count": 143,
   "metadata": {},
   "outputs": [
    {
     "name": "stdout",
     "output_type": "stream",
     "text": [
      "[(1, 'nba'), (2, 'nbl'), (3, 'cia'), (4, 'ups')]\n",
      "[(1, 223), (2, 45)]\n",
      "(1, 2, 3, 4) ('nba', 'nbl', 'cia', 'ups')\n",
      "(1, 2, 3, 4) ('nba', 'nbl', 'cia', 'ups')\n",
      "<zip object at 0x1da57dbc8> [(1, 2, 3, 4), ('nba', 'nbl', 'cia', 'ups')]\n"
     ]
    }
   ],
   "source": [
    "l1=[1,2,3,4]\n",
    "l2=[\"nba\",\"nbl\",\"cia\",\"ups\"]\n",
    "print(list(zip(l1,l2)))\n",
    "\n",
    "# if the lists are different length, zip stops as soon as the\n",
    "# first list ends\n",
    "e1=[1,2,3,4]\n",
    "e2=[223,45]\n",
    "print(list(zip(e1,e2)))\n",
    "\n",
    "# you can also unzip, notice that the asterisk below performs\n",
    "# argument unpacking, which uses the elements of pairs as\n",
    "# individual arguments to zip.\n",
    "l3=list(zip(l1,l2)) # or simply l3=zip(l1,l2)\n",
    "\n",
    "z1,z2=zip(*l3)\n",
    "print(z1,z2)\n",
    "\n",
    "# or\n",
    "\n",
    "z1,z2=zip((1,\"nba\"),(2,\"nbl\"),(3,\"cia\"),(4,\"ups\"))\n",
    "z3=zip((1,\"nba\"),(2,\"nbl\"),(3,\"cia\"),(4,\"ups\"))\n",
    "print(z1,z2)\n",
    "print(z3,list(z3))"
   ]
  },
  {
   "cell_type": "markdown",
   "metadata": {},
   "source": [
    "***you can use argument unpacking ($*$) with any function***:"
   ]
  },
  {
   "cell_type": "code",
   "execution_count": 145,
   "metadata": {},
   "outputs": [
    {
     "name": "stdout",
     "output_type": "stream",
     "text": [
      "3\n",
      "3\n"
     ]
    }
   ],
   "source": [
    "# for example\n",
    "def add(a,b):\n",
    "    return a+b\n",
    "\n",
    "print(add(1,2))\n",
    "#print(add([1,2])) tyoe err\n",
    "print(add(*[1,2]))"
   ]
  },
  {
   "cell_type": "markdown",
   "metadata": {},
   "source": [
    "#### Args and kwargs\n",
    "Let's say we want to create a higher-order function that takes as input some function *f* and returns a new function that for any input returns twice the value of *f*"
   ]
  },
  {
   "cell_type": "code",
   "execution_count": 149,
   "metadata": {
    "collapsed": true
   },
   "outputs": [],
   "source": [
    "def doubler(f):\n",
    "    def g(x):\n",
    "        return 2*f(x)\n",
    "    return g\n",
    "# this aims to output a function for us to operate."
   ]
  },
  {
   "cell_type": "code",
   "execution_count": 151,
   "metadata": {},
   "outputs": [
    {
     "name": "stdout",
     "output_type": "stream",
     "text": [
      "8\n",
      "0\n"
     ]
    }
   ],
   "source": [
    "def f1(x):\n",
    "    return x+1\n",
    "\n",
    "g=doubler(f1)\n",
    "print(g(3))\n",
    "print(g(-1))"
   ]
  },
  {
   "cell_type": "code",
   "execution_count": 153,
   "metadata": {},
   "outputs": [
    {
     "ename": "TypeError",
     "evalue": "g() takes 1 positional argument but 2 were given",
     "output_type": "error",
     "traceback": [
      "\u001b[0;31m---------------------------------------------------------------------------\u001b[0m",
      "\u001b[0;31mTypeError\u001b[0m                                 Traceback (most recent call last)",
      "\u001b[0;32m<ipython-input-153-ee9706bb7437>\u001b[0m in \u001b[0;36m<module>\u001b[0;34m()\u001b[0m\n\u001b[1;32m      4\u001b[0m     \u001b[0;32mreturn\u001b[0m \u001b[0mx\u001b[0m\u001b[0;34m+\u001b[0m\u001b[0my\u001b[0m\u001b[0;34m\u001b[0m\u001b[0m\n\u001b[1;32m      5\u001b[0m \u001b[0mg\u001b[0m\u001b[0;34m=\u001b[0m\u001b[0mdoubler\u001b[0m\u001b[0;34m(\u001b[0m\u001b[0mf2\u001b[0m\u001b[0;34m)\u001b[0m\u001b[0;34m\u001b[0m\u001b[0m\n\u001b[0;32m----> 6\u001b[0;31m \u001b[0mprint\u001b[0m\u001b[0;34m(\u001b[0m\u001b[0mg\u001b[0m\u001b[0;34m(\u001b[0m\u001b[0;36m1\u001b[0m\u001b[0;34m,\u001b[0m\u001b[0;36m2\u001b[0m\u001b[0;34m)\u001b[0m\u001b[0;34m)\u001b[0m \u001b[0;31m# it fails because g only takes one argument\u001b[0m\u001b[0;34m\u001b[0m\u001b[0m\n\u001b[0m\u001b[1;32m      7\u001b[0m               \u001b[0;31m# in another word, doubler cannot be used in general\u001b[0m\u001b[0;34m\u001b[0m\u001b[0;34m\u001b[0m\u001b[0m\n",
      "\u001b[0;31mTypeError\u001b[0m: g() takes 1 positional argument but 2 were given"
     ]
    }
   ],
   "source": [
    "# but obviously, it breaks down with functions that take more\n",
    "# than a single argument\n",
    "def f2(x,y):\n",
    "    return x+y\n",
    "g=doubler(f2)\n",
    "print(g(1,2)) # it fails because g only takes one argument\n",
    "              # in another word, doubler cannot be used in general"
   ]
  },
  {
   "cell_type": "markdown",
   "metadata": {},
   "source": [
    "Therefore, what we need is a way to specify a function that **takes arbitrary arguments**, we can do this with **argument unpacking** and a little bit of magic"
   ]
  },
  {
   "cell_type": "code",
   "execution_count": 157,
   "metadata": {},
   "outputs": [
    {
     "name": "stdout",
     "output_type": "stream",
     "text": [
      "unnamed args:  (1, 2, 3)\n",
      "keyword args:  {'key': 'word', 'key2': 'word2'}\n"
     ]
    }
   ],
   "source": [
    "def magic(*args, **kwargs):\n",
    "    print(\"unnamed args: \", args)\n",
    "    print(\"keyword args: \", kwargs)\n",
    "\n",
    "magic(1,2,key=\"word\",key2=\"word2\")"
   ]
  },
  {
   "cell_type": "code",
   "execution_count": 160,
   "metadata": {},
   "outputs": [
    {
     "name": "stdout",
     "output_type": "stream",
     "text": [
      "6\n",
      "6\n"
     ]
    }
   ],
   "source": [
    "# after this, we have defined a function like this, args is a\n",
    "# tuple of its unnamed arguments and kwargs is a dict of its\n",
    "# named arguments. It works the other way too, if you want to use\n",
    "# a list (or tuple) and dict to supply arguments to a function:\n",
    "\n",
    "# the other way\n",
    "def other_magic(x,y,z):\n",
    "    return x+y+z\n",
    "\n",
    "xy=[1,2]\n",
    "zdic={\"z\": 3}\n",
    "print(other_magic(*xy, **zdic))\n",
    "\n",
    "# you can do all sorts of strange tricks with this; we will only\n",
    "# it to produce higher-order functions whose inputs can accept\n",
    "# arbitrary arguments:\n",
    "def doubler_correct(f):\n",
    "    # it works no matter what kind of inputs f expects\n",
    "    def g(*args, **kwargs):\n",
    "        # whatever arguments g is supplied, pass them through to f\n",
    "        return 2 * f(*args, **kwargs)\n",
    "    return g\n",
    "\n",
    "g= doubler_correct(f2)\n",
    "print(g(1,2))"
   ]
  },
  {
   "cell_type": "markdown",
   "metadata": {},
   "source": [
    "### Now we have finished that chapter two!!! Get ready to the next chapter"
   ]
  },
  {
   "cell_type": "markdown",
   "metadata": {
    "collapsed": true
   },
   "source": [
    "## Chapter 2: Visualizing Data\n",
    "\n",
    "There are two primary uses for data visualization:\n",
    "- to explore the data\n",
    "- to communicate data\n",
    "\n",
    "### Matplotlib\n",
    "- It is widely used.\n",
    "- It is maybe not good for producing elaborate interactive visualization for the web, but it is good to build simple bar charts, line charts, and scatter plots.\n",
    "- In particular, we use ***matplotlib.pyplot*** module."
   ]
  },
  {
   "cell_type": "markdown",
   "metadata": {
    "collapsed": true
   },
   "source": [
    "#### A line chart"
   ]
  },
  {
   "cell_type": "code",
   "execution_count": 1,
   "metadata": {
    "collapsed": true
   },
   "outputs": [],
   "source": [
    "from matplotlib import pyplot as plt"
   ]
  },
  {
   "cell_type": "code",
   "execution_count": 10,
   "metadata": {},
   "outputs": [
    {
     "data": {
      "image/png": "[encoded data removed]",
      "text/plain": [
       "<matplotlib.figure.Figure at 0x10c48a438>"
      ]
     },
     "metadata": {},
     "output_type": "display_data"
    }
   ],
   "source": [
    "year = [2010,2011,2012,2013,2014,2015,2016,2017,2018,2019]\n",
    "gdp = [450,560,800,1200,1700,1580,1620,1780,1890,1990]\n",
    "\n",
    "# year as x-axis, gdp as y-axis\n",
    "plt.plot(year,gdp, color=\"red\",marker=\"o\",linestyle=\"solid\")\n",
    "\n",
    "# a title\n",
    "plt.title(\"Nominal GDP\")\n",
    "\n",
    "# add labels\n",
    "plt.xlabel(\"year\")\n",
    "plt.ylabel(\"Billions of $\")\n",
    "\n",
    "plt.show()"
   ]
  },
  {
   "cell_type": "markdown",
   "metadata": {},
   "source": [
    "#### A bar chart"
   ]
  },
  {
   "cell_type": "code",
   "execution_count": 3,
   "metadata": {},
   "outputs": [
    {
     "data": {
      "image/png": "[encoded data removed]",
      "text/plain": [
       "<matplotlib.figure.Figure at 0x1132d0748>"
      ]
     },
     "metadata": {},
     "output_type": "display_data"
    }
   ],
   "source": [
    "stars=[\"Messi\", \"Ronaldo\", \"Lebron\", \"Curry\", \"Neymar\", \"Harden\"]\n",
    "ins_likes = [345, 470, 300, 320, 230, 179]\n",
    "\n",
    "# the bar width is set by default to 0.8, so we will add 0.1 to\n",
    "# the left coordinates so that each bar is centered.\n",
    "\n",
    "xs = [i+0.1 for i,_ in enumerate(stars)]\n",
    "\n",
    "# bar with (left x-coordinates, heights)\n",
    "plt.bar(xs, ins_likes)\n",
    "\n",
    "plt.ylabel(\"# of ins likes\")\n",
    "plt.title(\"My Favorite stars\")\n",
    "\n",
    "# label x-axis with star names at bar centers\n",
    "plt.xticks([i+0.1 for i, _ in enumerate(stars)], stars) \n",
    "\n",
    "plt.show()"
   ]
  },
  {
   "cell_type": "markdown",
   "metadata": {
    "collapsed": true
   },
   "source": [
    "**Histogram: A bar chart can also be useful to see how the values are distributed.**"
   ]
  },
  {
   "cell_type": "code",
   "execution_count": 11,
   "metadata": {
    "collapsed": true
   },
   "outputs": [],
   "source": [
    "from collections import Counter"
   ]
  },
  {
   "cell_type": "code",
   "execution_count": 20,
   "metadata": {},
   "outputs": [
    {
     "name": "stdout",
     "output_type": "stream",
     "text": [
      "Counter({80: 4, 70: 3, 90: 2, 0: 2, 100: 1, 60: 1})\n"
     ]
    },
    {
     "data": {
      "image/png": "[encoded data removed]",
      "text/plain": [
       "<matplotlib.figure.Figure at 0x116e0b048>"
      ]
     },
     "metadata": {},
     "output_type": "display_data"
    }
   ],
   "source": [
    "# student grades\n",
    "grades = [83,95,91,87,70,0,85,82,100,67,73,77,6]\n",
    "\n",
    "decile = lambda grade: grade // 10 * 10\n",
    "histogram = Counter(decile(grade) for grade in grades)\n",
    "\n",
    "print(histogram) # it is a range\n",
    "\n",
    "# notice, since it represents range of grades, so in the bar chart\n",
    "# it is better for us to move bars in-betweeen each labels\n",
    "# so in this logic, we can set x as x+4, be aware the bar's width\n",
    "# is set to 8 by default. We learnt that before.\n",
    "\n",
    "# shift each bar to the right by 4, if we let x+4\n",
    "# give each bar its correct height\n",
    "# give each bar a width of 8\n",
    "plt.bar([x+4 for x in histogram.keys()], histogram.values(),8)\n",
    "\n",
    "# x-axis from -5 to 105,\n",
    "# y-axis from 0 to 5\n",
    "plt.axis([-5, 105, 0, 5])\n",
    "\n",
    "# x-axis labels at 0, 10, ..., 100\n",
    "plt.xticks([10 * i for i in range(11)]) \n",
    "\n",
    "plt.xlabel(\"Decile\")\n",
    "plt.ylabel(\"# of Students\") \n",
    "plt.title(\"Distribution of Exam 1 Grades\") \n",
    "\n",
    "plt.show()\n"
   ]
  },
  {
   "cell_type": "markdown",
   "metadata": {},
   "source": [
    "**When we use *plt.axis()*, it is bad to form for your y-axis not to start at 0, it will easily cause misleading. The bars may show the huge difference in height even their are actually not very different in values.**"
   ]
  },
  {
   "cell_type": "markdown",
   "metadata": {},
   "source": [
    "#### More about line chart\n",
    "- We will use *plt.plot()*\n",
    "- and building a line chart is a great choice to show *trends*"
   ]
  },
  {
   "cell_type": "code",
   "execution_count": 21,
   "metadata": {},
   "outputs": [
    {
     "data": {
      "image/png": "[encoded data removed]",
      "text/plain": [
       "<matplotlib.figure.Figure at 0x11663ee10>"
      ]
     },
     "metadata": {},
     "output_type": "display_data"
    }
   ],
   "source": [
    "variance = [1, 2, 4, 8, 16, 32, 64, 128, 256] \n",
    "bias_squared = [256, 128, 64, 32, 16, 8, 4, 2, 1]\n",
    "total_error = [x + y for x, y in zip(variance, bias_squared)] \n",
    "xs = [i for i, _ in enumerate(variance)]\n",
    "\n",
    "# we can make multiple calls to plt.plot\n",
    "# to show multiple series on the same chart\n",
    "plt.plot(xs, variance, 'g-', label='variance') # green solid line \n",
    "plt.plot(xs, bias_squared, 'r-.', label='bias^2') # red dot-dashed line \n",
    "plt.plot(xs, total_error, 'b:', label='total error') # blue dotted line\n",
    "\n",
    "# because we've assigned labels to each series \n",
    "# we can get a legend for free\n",
    "# loc=9 means \"top center\"\n",
    "plt.legend(loc=9)\n",
    "plt.xlabel(\"model complexity\")\n",
    "plt.title(\"The Bias-Variance Tradeoff\")\n",
    "\n",
    "plt.show()"
   ]
  },
  {
   "cell_type": "markdown",
   "metadata": {},
   "source": [
    "#### Scatterplots\n",
    "- it is the good choice for visualizing the relationship between two paired sets of data."
   ]
  },
  {
   "cell_type": "code",
   "execution_count": 23,
   "metadata": {},
   "outputs": [
    {
     "data": {
      "image/png": "[encoded data removed]",
      "text/plain": [
       "<matplotlib.figure.Figure at 0x116c5fcf8>"
      ]
     },
     "metadata": {},
     "output_type": "display_data"
    }
   ],
   "source": [
    "friends = [ 70,  65,  72,  63,  71,  64,  60,  64,  67]\n",
    "minutes = [175, 170, 205, 120, 220, 130, 105, 145, 190]\n",
    "labels =  ['a', 'b', 'c', 'd', 'e', 'f', 'g', 'h', 'i']\n",
    "\n",
    "plt.scatter(friends, minutes)\n",
    "\n",
    "# label each point\n",
    "for label, friend_count, minute_count in zip(labels, friends, minutes): \n",
    "    plt.annotate(label,xy=(friend_count, minute_count), # put the label with its point \n",
    "                 xytext=(5, -5), # but slightly offset \n",
    "                 textcoords='offset points')\n",
    "\n",
    "plt.title(\"Daily Minutes vs. Number of Friends\")\n",
    "                                                                                     \n",
    "plt.xlabel(\"# of friends\")\n",
    "plt.ylabel(\"daily minutes spent on the site\")\n",
    "plt.show()                                                                           "
   ]
  },
  {
   "cell_type": "markdown",
   "metadata": {},
   "source": [
    "**If you are scattering comparable variables, you might get a misleading picture if you let *matplotlib* choose the scale.**"
   ]
  },
  {
   "cell_type": "code",
   "execution_count": 24,
   "metadata": {},
   "outputs": [
    {
     "data": {
      "image/png": "[encoded data removed]",
      "text/plain": [
       "<matplotlib.figure.Figure at 0x11700a400>"
      ]
     },
     "metadata": {},
     "output_type": "display_data"
    }
   ],
   "source": [
    "test_1_grades = [ 99, 90, 85, 97, 80]\n",
    "test_2_grades = [100, 85, 60, 90, 70]\n",
    "    \n",
    "plt.scatter(test_1_grades, test_2_grades)\n",
    "plt.title(\"Axes Aren't Comparable\")\n",
    "plt.xlabel(\"test 1 grade\")\n",
    "plt.ylabel(\"test 2 grade\")\n",
    "plt.show()"
   ]
  },
  {
   "cell_type": "markdown",
   "metadata": {},
   "source": [
    "But it turns out, if we include a call\n",
    "    \n",
    "    plt.axis(\"equal\")\n",
    "The plot shows more accurately that most of the variation occurs on test2"
   ]
  },
  {
   "cell_type": "code",
   "execution_count": 30,
   "metadata": {},
   "outputs": [
    {
     "data": {
      "image/png": "[encoded data removed]",
      "text/plain": [
       "<matplotlib.figure.Figure at 0x116b38080>"
      ]
     },
     "metadata": {},
     "output_type": "display_data"
    }
   ],
   "source": [
    "test_1_grades = [ 99, 90, 85, 97, 80]\n",
    "test_2_grades = [100, 85, 60, 90, 70]\n",
    "    \n",
    "plt.scatter(test_1_grades, test_2_grades)\n",
    "plt.axis(\"equal\")\n",
    "plt.title(\"Axes Are Comparable\")\n",
    "plt.xlabel(\"test 1 grade\")\n",
    "plt.ylabel(\"test 2 grade\")\n",
    "plt.show()\n"
   ]
  },
  {
   "cell_type": "markdown",
   "metadata": {},
   "source": [
    "### More about visualization\n",
    "- ***seaborn***; it is built on top of *matplotlib* and allows you to easily produce prettier and more complex visualizations.\n",
    "- ***D3.js***; a JavaScript library for producing sophisticated interactive visualizations for the **web**.\n",
    "- ***Bokeh***; it is a newer library to bting D3-style visualization into library\n",
    "- ***ggplot***; it is a Python port of the popular R library *ggplot2*, which is widely used for creating \"publication quality\" charts and graphics."
   ]
  },
  {
   "cell_type": "markdown",
   "metadata": {
    "collapsed": true
   },
   "source": [
    "## Chapter 3: Linear Algbra"
   ]
  },
  {
   "cell_type": "markdown",
   "metadata": {
    "collapsed": true
   },
   "source": [
    "Linear algebra is the branch of mathematics that deals with *vector space*. And it underpins a large number of data science concepts and technologies."
   ]
  },
  {
   "cell_type": "markdown",
   "metadata": {},
   "source": [
    "### Vectors"
   ]
  },
  {
   "cell_type": "markdown",
   "metadata": {},
   "source": [
    "- Vectors are objects that can be added together (to form new vectors) and that can be multiplied by scalars (numbers), also to form new vectors. More concretely, vectors are points in some finite-dimensional space.\n",
    "\n",
    "For example, you can have vectors (height, weight, age), or for students grades (exam1, exam2, exam3, exam4)"
   ]
  },
  {
   "cell_type": "code",
   "execution_count": 5,
   "metadata": {
    "collapsed": true
   },
   "outputs": [],
   "source": [
    "# the simplest approach is to represent vectors as lists of numbers.\n",
    "from functools import partial, reduce\n",
    "\n",
    "height_weight_age =[180,80,23]\n",
    "\n",
    "grades =[98,90,92,99]\n",
    "\n",
    "# and we usually want to perform arithmetic on vectors. However, Python\n",
    "# lists are not vectors, thus they provide no facilities for vector\n",
    "# arithmetic, we will learn to build these arithmetic tools ourselves.\n",
    "\n",
    "# operations for two vectors\n",
    "def vector_add(v, w):\n",
    "    \"\"\"adds corresponding elements\"\"\" \n",
    "    return [v_i + w_i for v_i, w_i in zip(v, w)]\n",
    "\n",
    "def vector_subtract(v, w):\n",
    "    \"\"\"subtracts corresponding elements\"\"\" \n",
    "    return [v_i - w_i for v_i, w_i in zip(v, w)]\n",
    "\n",
    "\n",
    "# operations for multiple vectors.\n",
    "def vector_sum(vectors):\n",
    "    \"\"\"sums all corresponding elements\"\"\" \n",
    "    result = vectors[0]\n",
    "    for vector in vectors[1:]:\n",
    "        result = vector_add(result, vector) \n",
    "    return result\n",
    "\n",
    "# or\n",
    "def vector_sum(vectors):\n",
    "    return reduce(vector_add, vectors)\n",
    "\n",
    "vector_sum = partial(reduce, vector_add)\n",
    "\n",
    "# with scalar\n",
    "def scalar_multiply(c, v):\n",
    "    \"\"\"c is a number, v is a vector\"\"\" \n",
    "    return [c * v_i for v_i in v]\n",
    "\n",
    "# means of a list of same-sized vectors\n",
    "def vector_mean(vectors):\n",
    "    \"\"\"compute the vector whose ith element is the mean of the \n",
    "    ith elements of the input vectors\"\"\"\n",
    "    n = len(vectors)\n",
    "    return scalar_multiply(1/n, vector_sum(vectors))\n",
    "\n",
    "# dot product, it measures how far the vector v extends in the w direction\n",
    "def dot(v, w):\n",
    "    \"\"\"v_1 * w_1 + ... + v_n * w_n\"\"\" \n",
    "    return sum(v_i * w_i for v_i, w_i in zip(v, w))\n",
    "\n",
    "# sum squares\n",
    "def sum_of_squares(v):\n",
    "    \"\"\"v_1 * v_1 + ... + v_n * v_n\"\"\" \n",
    "    return dot(v, v)\n",
    "\n",
    "# magnitude or length, we will import the module math\n",
    "import math\n",
    "\n",
    "def magnitude(v):\n",
    "    return math.sqrt(sum_of_squares(v))\n",
    "\n",
    "# now we can compute the distance between two vectors\n",
    "def squared_distance(v, w):\n",
    "    \"\"\"(v_1 - w_1) ** 2 + ... + (v_n - w_n) ** 2\"\"\" \n",
    "    return sum_of_squares(vector_subtract(v, w))\n",
    "\n",
    "def distance(v, w):\n",
    "    return math.sqrt(squared_distance(v, w))\n",
    "\n",
    "# Which is possibly clearer if we write it as (the equivalent)\n",
    "def distance(v, w):\n",
    "    return magnitude(vector_subtract(v, w))\n",
    "\n",
    "\n"
   ]
  },
  {
   "cell_type": "markdown",
   "metadata": {},
   "source": [
    "### Matrices\n",
    "- A *matrix* is a two-dimensional collection of numbers. We will represent matrices as lists of lists, with each inner list having the same size and representing a row of the matrix."
   ]
  },
  {
   "cell_type": "code",
   "execution_count": 7,
   "metadata": {
    "collapsed": true
   },
   "outputs": [],
   "source": [
    "A = [[1,2,3],\n",
    "     [4,5,6]]\n",
    "\n",
    "B = [[1,2],\n",
    "     [3,4],\n",
    "     [5,6]]"
   ]
  },
  {
   "cell_type": "code",
   "execution_count": 8,
   "metadata": {
    "collapsed": true
   },
   "outputs": [],
   "source": [
    "# operations\n",
    "def get_row(A, i): return A[i]\n",
    "\n",
    "def get_column(A, j): return [A_i[j] for A_i in A]\n",
    "\n",
    "def make_matrix(num_rows, num_cols, entry_fn):\n",
    "    \"\"\"returns a num_rows x num_cols matrix\n",
    "    whose (i,j)th entry is entry_fn(i, j)\"\"\"\n",
    "    return [[entry_fn(i, j) # given i, create a list\n",
    "        for j in range(num_cols)] # [entry_fn(i, 0), ... ] \n",
    "        for i in range(num_rows)] # create one list for each i"
   ]
  },
  {
   "cell_type": "code",
   "execution_count": 10,
   "metadata": {},
   "outputs": [
    {
     "name": "stdout",
     "output_type": "stream",
     "text": [
      "[[1, 0, 0, 0, 0], [0, 1, 0, 0, 0], [0, 0, 1, 0, 0], [0, 0, 0, 1, 0], [0, 0, 0, 0, 1]]\n"
     ]
    }
   ],
   "source": [
    "# suppose you want to make a 5x5 identity matrix, i.e. with 1s on \n",
    "# the diagonal and 0s elsewhere\n",
    "def is_diagonal(i, j):\n",
    "    \"\"\"1's on the 'diagonal', 0's everywhere else\"\"\" \n",
    "    return 1 if i==j else 0\n",
    "\n",
    "identity_matrix = make_matrix(5, 5, is_diagonal)\n",
    "print(identity_matrix)"
   ]
  },
  {
   "cell_type": "markdown",
   "metadata": {},
   "source": [
    "First, we can use a matrix to **represent a data set consisting of multiple vectors**, simply by considering each vector as a row of the matrix. For example, if you had the heights, weights, and ages of 1,000 people you could put them in a 1, 000 × 3 matrix.\n",
    "\n",
    "And also, we can use an nxk matrix **to represent a linear function that maps k-dimensional vectors to n-dimensional vectors**. Several techniques and concepts will involve such functions.\n",
    "\n",
    "Third, **matrices can be used to represent binary relationships**. In Chapter 1, we represented the edges of a network as a collection of pairs (i, j). An alternative represen‐ tation would be to create a matrix A such that A[i][j] is 1 if nodes i and j are connected and 0 otherwise."
   ]
  },
  {
   "cell_type": "code",
   "execution_count": 11,
   "metadata": {},
   "outputs": [
    {
     "data": {
      "text/plain": [
       "True"
      ]
     },
     "execution_count": 11,
     "metadata": {},
     "output_type": "execute_result"
    }
   ],
   "source": [
    "friendships = [(0, 1), (0, 2), (1, 2), (1, 3), (2, 3), (3, 4),\n",
    "               (4, 5), (5, 6), (5, 7), (6, 8), (7, 8), (8, 9)]\n",
    "\n",
    "# equivalently\n",
    "# user          0  1  2  3  4  5  6  7  8  9\n",
    "friendships = [[0, 1, 1, 0, 0, 0, 0, 0, 0, 0], # user 0\n",
    "               [1, 0, 1, 1, 0, 0, 0, 0, 0, 0], # user 1 \n",
    "               [1, 1, 0, 1, 0, 0, 0, 0, 0, 0], # user 2 \n",
    "               [0, 1, 1, 0, 1, 0, 0, 0, 0, 0], # user 3 \n",
    "               [0, 0, 0, 1, 0, 1, 0, 0, 0, 0], # user 4 \n",
    "               [0, 0, 0, 0, 1, 0, 1, 1, 0, 0], # user 5 \n",
    "               [0, 0, 0, 0, 0, 1, 0, 0, 1, 0], # user 6 \n",
    "               [0, 0, 0, 0, 0, 1, 0, 0, 1, 0], # user 7 \n",
    "               [0, 0, 0, 0, 0, 0, 1, 1, 0, 1], # user 8 \n",
    "               [0, 0, 0, 0, 0, 0, 0, 0, 1, 0]] # user 9\n",
    "\n",
    "friendships[0][2] == 1 # True, 0 and 2 are friends\n",
    "\n",
    "# we only need to look at one rwo\n",
    "#friends_of_five = [i for i, is_friend in enumerate(friendships[5]) \n",
    "#                   if is_friend]\n"
   ]
  },
  {
   "cell_type": "markdown",
   "metadata": {},
   "source": [
    "### Further Exploration\n",
    "- More tools, you can learn more with ***NumPy***"
   ]
  },
  {
   "cell_type": "markdown",
   "metadata": {
    "collapsed": true
   },
   "source": [
    "## Chapter 4: Statistics\n",
    "*Statistics* refers to the mathematics and techniques with which we understand data. It is a rich, enormous field."
   ]
  },
  {
   "cell_type": "markdown",
   "metadata": {},
   "source": [
    "### Describe s single set of data\n",
    "- One simple way to describe\n",
    "\n",
    "        num_friends = [100, 49, 41, 40, 25] // and more\n",
    "        \n",
    "This is maybe the best way to describe, of course, for a small enough dataset. We probably need a better way for larger dataset.\n",
    "\n",
    "- For that reason we use statistics to distill and communicate relavant features of our data.\n",
    "\n",
    "- Of course, we can build a histogram based on the num_friend, but this is still too difficult to slip into conversation. So we start generating some statistics.\n",
    "\n",
    "- The simplest statistic is simply the number of data points:\n",
    "\n",
    "        num_points = len(num_friends) // num of elements\n",
    "        \n",
    "        largest_val = max(num_friends) // largest element\n",
    "        \n",
    "        smallest_val = min(num_friends) // smallest element\n"
   ]
  },
  {
   "cell_type": "markdown",
   "metadata": {},
   "source": [
    "### Central Tendencies\n",
    "- First we want some notion of where our data is centered. Most commonly we'll use the *mean*, or average, which is just the sum of the data divided by its count.\n",
    "\n",
    "- We are also interested in the *median*, which is the middle-most value (if the number of data points is odd) or the average of the two middle-most values (if the number of data points is even).\n",
    "\n",
    "- The difference berween *mean* and *median* is that unlike *mean* value, the median doesn't depend on every value in your data. The median leaves unchanged even you make the largest value even larger.\n",
    "\n",
    "- The *mean* is very **sensitive** to outliers in our data. If the outliers are likely to be the bad data (or otherwise unrepresentative of whatever phenomenon we're trying to understand), the *mean* can sometimes give us a misleading picture.\n",
    "\n",
    "- The generalization of the median is the *quantile*, which represents the value less than which a certain percentile of the data lies. (the median represents the value less than which 50% of the data lies.)\n",
    "\n",
    "- Less commonly you also want to see the *mode*, or most-common value[s]."
   ]
  },
  {
   "cell_type": "markdown",
   "metadata": {},
   "source": [
    "### Dispersion\n",
    "*Dispersion* refers to measures of how spread out our data is. Typically they are statistics for *which values near zero signify not spread out at all* and for *which large values (whatever that means) signify very spread out*.\n",
    "\n",
    "    def data_range(x):\n",
    "        return max(x) - min(x)\n",
    "        \n",
    "    data_range(num_friends) // 99\n",
    "\n",
    "- The range is zero precisely when the max = min, which can only happen if the elements of x are all the same, which means the data is as undispersed as possible. Otherwise the data is more spread out.\n",
    "\n",
    "- Like the median, the range doesn't really depend on the whole data set. A data set whose points are all either 0 or 100 has the same range as a data set whose values are 0, 100, and lots of 50s. But it seems like the first data set \"should\" be more spread out.\n",
    "\n",
    "- A more complex measure of dipersion is the *variance*, or its sqaured root, standard deviation.\n",
    "\n",
    "        math.sqrt(variance(x))\n",
    "        \n",
    "- Both the range and the standard deviation have the same **outlier problem** that we saw earlier for the mean.\n",
    "\n",
    "- **A more robust alternative computes the difference between the 75th percentile value and the 25th percentile value. It is quite plainly unaffected by a small numebr of outliers**."
   ]
  },
  {
   "cell_type": "markdown",
   "metadata": {},
   "source": [
    "### Correlation\n",
    "- the *covariance*, the paired analogue of variance. Whereas variance measures **how a single variable deviates from its mean, covariance measures how two variables vary in tandem from their means.**\n",
    "\n",
    "        // for example\n",
    "        def covariance(x,y):\n",
    "            n=len(x)\n",
    "            return dot(de_mean(x),de_mean(y)) / (n-1)\n",
    "        \n",
    "        covariance(num_friends, daily_minutes)\n",
    "        \n",
    "- Accordingly, a large positive covariance means that x tends to be large when y is large and small when y is small. A large negative covariance means the opposite -- that x tends to be small when y is large and vice versa. A covariance close to zero means that no such relationship exists.\n",
    "\n",
    "- the *correlation*, which divides out the standard deviations of both variables. **It can be sensitive to the outliers.**\n",
    "\n",
    "- the *correlation* is unitless and always lies between -1 (perfect anti-corrlation) and 1 (perfect correlation). A number like 0.25 represents a relatively weak positive correlation.\n",
    "\n",
    "**However, one thing we left to do is to examine the data.**"
   ]
  },
  {
   "cell_type": "markdown",
   "metadata": {},
   "source": [
    "#### Simpson's Paradox\n",
    "It is uncommon when analyzing data is Simpson's Paradox, in which correlations can misleading when *confounding variables* are ignored.  "
   ]
  },
  {
   "cell_type": "markdown",
   "metadata": {},
   "source": [
    "for example, when you look over the chart and try to figure out which side of data scientists that are friendlier.\n",
    "\n",
    "coast | # members | ave. # friends\n",
    "------|-----------|---------------\n",
    "west  |101        |8.2\n",
    "east  |103        |6.5\n",
    "\n",
    "and you conclude that on average the data scientists on the west coast are friendlier. And your coworkers advance all sorts of theories as to why this might be the case: the sunshine, the coffee, etc.\n",
    "\n",
    "But when you look deeper, take a look at another chart:\n",
    "\n",
    "coast |degree     | # members | ave. # friends\n",
    "------|-----------|-----------|---------------\n",
    "west  |PhD        |35         |3.1\n",
    "east  |PhD        |70         |3.2\n",
    "west  |no PhD     |66         |10.9\n",
    "east  |no PhD     |33         |13.4\n",
    "\n",
    "the correlation goes in the opposite direction. Bucketing the data as East/West coast disguised the fact that the East coast data scientists skew much more heavily toward the PhD types.\n",
    "\n",
    "The key issue for this is that the correlation os measuring the relationship between yur two variables ***all else being euqal.*** If your data data classes are assigned at random, as they might be in a well-designed experiment, \"all else being euqal\" might not be a terrible assumption. But when there is a deeper pattern to class assignments, \"all else being equal\" can be an awful assumption.\n",
    "\n",
    "***The only real way to avoid this is by knowing your data and by doing what you can to make sure you've checked for possible confounding factors.***"
   ]
  },
  {
   "cell_type": "markdown",
   "metadata": {},
   "source": [
    "#### Some other correlation caveats\n",
    "A correlation of zero indicates that there is no linear relationship between the two variables. However, there may be other sorts of relationships. For example,\n",
    "\n",
    "    x = [-2, -1, 0, 1, 2]\n",
    "    y = [2,1,0,1,2] // see the pattern?\n",
    "\n",
    "But x and y have zero correlation.\n",
    "\n",
    "In addition, correlation tells you nothing about how large the relationship is, the variables\n",
    "\n",
    "    x = [-2,-1,0,1,2]\n",
    "    y = [99.98, 99.99, 100, 100.01, 100.02]\n",
    "    // it is perfectly correlated, but (depending on what you are measuring) it's quite possible that this relationship isn't all that interesting."
   ]
  },
  {
   "cell_type": "markdown",
   "metadata": {},
   "source": [
    "#### Correlation is not causation\n",
    "- Nonetheless, this is an important point: if x and y are strongly correlated, that might mean that x causes y, that y causes x, that each causes the other, that some third factor causes both, or it might mean nothing.\n",
    "\n",
    "- One way to feel more confident about causality is by conducting randomized trials. If you can randomly split your users into two groups with similar demographics and give one of the groups a slightly different exprience, then you can often feel pretty good that the difference experiences are causing the different outcomes."
   ]
  },
  {
   "cell_type": "markdown",
   "metadata": {},
   "source": [
    "### For further exploration\n",
    "- ***SciPy, Pandas, and StatsModels*** all come with a wide variety of statistical functions."
   ]
  },
  {
   "cell_type": "markdown",
   "metadata": {},
   "source": [
    "## Chapter 9: Getting Data\n",
    "\n",
    "As scientists, we will spend an embarrassingly large fraction of your time ***acquiring, cleaning, and transforming data.***"
   ]
  },
  {
   "cell_type": "markdown",
   "metadata": {},
   "source": [
    "### 9.1 *stdin* and *stdout*\n",
    "If you run your Python scripts at the command line, you can *pipe* data through them using *sys.stdin* and *sys.stdout*.\n",
    "\n",
    "For example, here is a script that reads in lines of text and spits back out the ones that match a *regular expression*\n",
    "\n",
    "***the see the example, please check out the code in sec9-1.py***."
   ]
  },
  {
   "cell_type": "markdown",
   "metadata": {},
   "source": [
    "One thing worth noticing is that in the Unix system, in command line, we could use:\n",
    "\n",
    "    cat sometext.txt | python egrep.py \"0-9\" | python line_count.py\n",
    "\n",
    "The \"|\" is the *pipe* character, which means ***\"use the output of the left command as the input of the right command.\"*** You can build pretty elaborate data-processing pipelines this way."
   ]
  },
  {
   "cell_type": "markdown",
   "metadata": {},
   "source": [
    "#### Problem about *stdin*\n",
    "As we must realized, when we use *stdin* to process the inputs, it knows when to stop when we pass to it the whole \".txt\" file. But, how can it know when to stop when we just type in the inputs right away?"
   ]
  },
  {
   "cell_type": "markdown",
   "metadata": {},
   "source": [
    "Thanks to the Stack Overflow, we have a solution for that:\n",
    "> ***Ctrl+D***, when typed at the start of a line on a terminal, signifies the end of the input. This is not a signal in the unix sense: when an application is reading from the terminal and the user presses Ctrl+D, the application is notified that the end of the file has been reached (just like if it was reading from a file and had passed the last byte).\n",
    "\n",
    "No doubt, we need to apply it, and as a comparision:\n",
    "\n",
    ">Ctrl+C does send a signal, SIGINT. By default SIGINT (the interrupt signal) kills the foreground application, but the application can catch the signal and react in some different way (for example, the shell itself catches the signal and aborts the line you've begun typing, but it doesn't exit, it shows a new prompt and waits for a new command line)."
   ]
  },
  {
   "cell_type": "markdown",
   "metadata": {},
   "source": [
    "### 9.2 Reading files\n",
    "We can also explicitly read from and write to files directly in your code. Python can make it simple.\n",
    "\n",
    "The first step to work with a text file is to obtain a *file object* using *open*:\n",
    "\n",
    "    # 'r' means read-only\n",
    "    file_for_read = open('reading_file.txt', 'r')\n",
    "    \n",
    "    # 'w' means write, and it will destroy the file if it already exists.\n",
    "    file_for_writing = open('writing_file.txt', 'w')\n",
    "    \n",
    "    # 'a' is append, for adding to the end of the file\n",
    "    file_for_appending = open('appending_file.txt', 'a')\n",
    "    \n",
    "    # DO NOT forget to close your files when you're done\n",
    "    file_for_writing.close()\n",
    "    \n",
    "It is easy to forget to close the file, you should always use them in a *with* block, at the end of which they will be closed automatically:\n",
    "    \n",
    "    with open(filename, 'r') as f:\n",
    "        data = function_that_gets_data_from(f)\n",
    "    \n",
    "    # at this point f has already been closed, so do not try to use it.\n",
    "    process(data)\n",
    "    \n",
    "If you need to read a whole text file, you can just iterate over the lines of the file using for:\n",
    "\n",
    "    starts_with_hash = 0\n",
    "    \n",
    "    with open('input.txt','r') as f: \n",
    "        for line in file:             # look at each line in the file\n",
    "            if re.match(\"^#\",line):   # use a regex to see if it starts with '#'\n",
    "                starts_with_hash += 1 # if it does, add 1 to the count\n",
    "\n",
    "Every line you get in this way ends in newline character, so you'll often want to *strip()* it before doing anything with it.\n",
    "\n",
    "A example,\n",
    "\n",
    "    def get_domain(email_address):\n",
    "        \"\"\"split on '@' and return the last piece\"\"\" \n",
    "        return email_address.lower().split(\"@\")[-1]\n",
    "\n",
    "    with open('email_addresses.txt', 'r') as f: \n",
    "        domain_counts = Counter(get_domain(line.strip())\n",
    "                                for line in f \n",
    "                                if \"@\" in line)"
   ]
  },
  {
   "cell_type": "markdown",
   "metadata": {},
   "source": [
    "### 9.3 Delimited Files\n",
    "The hypothetical email address file we just processed had one address per line. But more frequently, you'll work files with lots of data on each line. These files are very often either *comma-separated* or *tab-separated*. Each line has several fields, with a comma (or a tab) indicating where one field ends and the next field starts.\n",
    "\n",
    "This starts to get complicated when you have fields with commas and tabs and new‐ lines in them (which you inevitably do). For this reason, it’s pretty much always a mistake to try to parse them yourself. **Instead, you should use Python’s csv module (or the pandas library)**. For technical reasons that you should feel free to blame on Microsoft, **you should always work with csv files in binary mode by including a *b* after the r or w (see Stack Overflow).**\n",
    "\n",
    "If your file has no headers (which means you probably want each row as a list, and which places the burden on you to know what’s in each column), you can use csv.reader to iterate over the rows, each of which will be an appropriately split list."
   ]
  },
  {
   "cell_type": "markdown",
   "metadata": {},
   "source": [
    "For example:\n",
    "\n",
    "**case 1: no headers**, for the tab-delimited file of stock price:\n",
    "\n",
    "    6/20/2014   AAPL    90.91\n",
    "    6/20/2014   MSFT    41.68\n",
    "    6/20/2014   FB  64.5\n",
    "    6/19/2014   AAPL    91.86\n",
    "    6/19/2014   MSFT    41.51\n",
    "    6/19/2014   FB  64.34\n",
    "    \n",
    "\n",
    "we could process using *csv.reader*\n",
    "\n",
    "    import csv\n",
    "\n",
    "    with open('tab_delimited_stock_prices.txt', 'rb') as f: \n",
    "        reader = csv.reader(f, delimiter='\\t')\n",
    "        for row in reader:\n",
    "            date = row[0]\n",
    "            symbol = row[1]\n",
    "            closing_price = float(row[2])\n",
    "            process(date, symbol, closing_price)\n",
    "            \n",
    "**case 2: with headers**, you can **either skip the header row (with an initial call to reader.next()) or get each row as a dict(with the headers as keys) by using csv.DictReader**:\n",
    "\n",
    "    with open('colon_delimited_stock_prices.txt', 'rb') as f: \n",
    "        reader = csv.DictReader(f, delimiter=':')\n",
    "        for row in reader:\n",
    "            date = row[\"date\"]\n",
    "            symbol = row[\"symbol\"]\n",
    "            closing_price = float(row[\"closing_price\"])\n",
    "            process(date, symbol, closing_price)\n",
    "\n",
    "And even your file does not have headers you can still use DictReader by passing it the keys as a *fieldnames* parameter\n",
    "\n",
    "You can similarly write out delimited data using *csv.writer*:\n",
    "    \n",
    "    today_prices = { 'AAPL' : 90.91, 'MSFT' : 41.68, 'FB' : 64.5 }\n",
    "\n",
    "    with open('comma_delimited_stock_prices.txt','wb') as f: \n",
    "        writer = csv.writer(f, delimiter=',')\n",
    "        \n",
    "        # csv.writer will do the right thing id your fields themselves \n",
    "        #have commas in them. And your hand-rolled writer probably won't.\n",
    "        \n",
    "        for stock, price in today_prices.items():\n",
    "            writer.writerow([stock, price])\n",
    "            \n",
    "if you attempt:\n",
    "\n",
    "    results = [[\"test1\", \"success\", \"Monday\"],\n",
    "               [\"test2\", \"success, kind of\", \"Tuesday\"],\n",
    "               [\"test3\", \"failure, kind of\", \"Wednesday\"],\n",
    "               [\"test4\", \"failure, utter\", \"Thursday\"]]\n",
    "    \n",
    "    # don't do this!\n",
    "    with open('bad_csv.txt', 'wb') as f: \n",
    "        for row in results:\n",
    "            f.write(\",\".join(map(str, row))) \n",
    "            # might have too many commas in it!\n",
    "\n",
    "            f.write(\"\\n\")\n",
    "            # row might have newlines as well.\n",
    "\n",
    "You will end up with a csv file that looks like:\n",
    "    \n",
    "    test1,success,Monday\n",
    "    test2,success, kind of,Tuesday\n",
    "    test3,failure, kind of,Wednesday\n",
    "    test4,failure, utter,Thursday\n",
    "    \n",
    "    # row might have newlines as well!\n",
    "    \n",
    "And that no one will ever be able to make sense of."
   ]
  },
  {
   "cell_type": "code",
   "execution_count": null,
   "metadata": {
    "collapsed": true
   },
   "outputs": [],
   "source": []
  }
 ],
 "metadata": {
  "kernelspec": {
   "display_name": "Python 3",
   "language": "python",
   "name": "python3"
  },
  "language_info": {
   "codemirror_mode": {
    "name": "ipython",
    "version": 3
   },
   "file_extension": ".py",
   "mimetype": "text/x-python",
   "name": "python",
   "nbconvert_exporter": "python",
   "pygments_lexer": "ipython3",
   "version": "3.6.1"
  }
 },
 "nbformat": 4,
 "nbformat_minor": 2
}
